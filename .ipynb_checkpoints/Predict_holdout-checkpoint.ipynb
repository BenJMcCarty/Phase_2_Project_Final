{
 "cells": [
  {
   "cell_type": "code",
   "execution_count": 1,
   "metadata": {
    "ExecuteTime": {
     "end_time": "2021-06-04T16:51:55.494926Z",
     "start_time": "2021-06-04T16:51:53.804928Z"
    }
   },
   "outputs": [],
   "source": [
    "import pandas as pd\n",
    "pd.set_option('display.max_columns', 300)\n",
    "import pickle\n",
    "import numpy as np\n",
    "from sklearn.preprocessing import OneHotEncoder\n",
    "from sklearn.linear_model import LinearRegression"
   ]
  },
  {
   "cell_type": "markdown",
   "metadata": {},
   "source": [
    "## Step 1: Read in hold out data, scalers, and best model"
   ]
  },
  {
   "cell_type": "code",
   "execution_count": 2,
   "metadata": {
    "ExecuteTime": {
     "end_time": "2021-06-04T16:51:55.541927Z",
     "start_time": "2021-06-04T16:51:55.499930Z"
    }
   },
   "outputs": [],
   "source": [
    "df = pd.read_csv('kc_house_data_test_features.csv', index_col=0)"
   ]
  },
  {
   "cell_type": "code",
   "execution_count": 3,
   "metadata": {
    "ExecuteTime": {
     "end_time": "2021-06-04T16:51:55.557928Z",
     "start_time": "2021-06-04T16:51:55.544928Z"
    }
   },
   "outputs": [],
   "source": [
    "infile = open(\"final_model.pickle\",'rb')\n",
    "lr_final = pickle.load(infile)\n",
    "infile.close()"
   ]
  },
  {
   "cell_type": "markdown",
   "metadata": {},
   "source": [
    "## Step 2: Feature Engineering for holdout set"
   ]
  },
  {
   "cell_type": "markdown",
   "metadata": {},
   "source": [
    "Remember we have to perform the same transformations on our holdout data (feature engineering, extreme values, and scaling) that we performed on the original data."
   ]
  },
  {
   "cell_type": "code",
   "execution_count": 4,
   "metadata": {
    "ExecuteTime": {
     "end_time": "2021-06-04T16:51:55.573926Z",
     "start_time": "2021-06-04T16:51:55.560927Z"
    }
   },
   "outputs": [],
   "source": [
    "## Pull the year from the \"date\" column\n",
    "df['year_sold'] = df['date'].map(lambda x: x[:4])\n",
    "\n",
    "## Change it from a string to an integer datatype\n",
    "df['year_sold'] =  df['year_sold'].map(lambda x: int(x))"
   ]
  },
  {
   "cell_type": "code",
   "execution_count": 5,
   "metadata": {
    "ExecuteTime": {
     "end_time": "2021-06-04T16:51:55.604926Z",
     "start_time": "2021-06-04T16:51:55.575927Z"
    }
   },
   "outputs": [
    {
     "data": {
      "text/plain": [
       "count    4322.000000\n",
       "mean       28.757982\n",
       "std        30.555707\n",
       "min        -1.000000\n",
       "25%         5.000000\n",
       "50%        12.000000\n",
       "75%        50.000000\n",
       "max       115.000000\n",
       "Name: y_old_sold, dtype: float64"
      ]
     },
     "execution_count": 5,
     "metadata": {},
     "output_type": "execute_result"
    }
   ],
   "source": [
    "## Calculating the age of the house at the time of sale\n",
    "df['y_old_sold'] = df['year_sold'] - df['yr_built']\n",
    "df['y_old_sold'].describe()\n",
    "\n",
    "## Minimum age is -1 due to a house being sold before it was finished being built"
   ]
  },
  {
   "cell_type": "code",
   "execution_count": 6,
   "metadata": {
    "ExecuteTime": {
     "end_time": "2021-06-04T16:51:55.635925Z",
     "start_time": "2021-06-04T16:51:55.606927Z"
    },
    "scrolled": true
   },
   "outputs": [],
   "source": [
    "## Using the year that the home was renovated to deterine whether or not the home was renovated\n",
    "reno_y_n = np.where(df['yr_renovated']>0, 1, 0 )\n",
    "df = df.assign(was_renovated = reno_y_n)"
   ]
  },
  {
   "cell_type": "code",
   "execution_count": 7,
   "metadata": {
    "ExecuteTime": {
     "end_time": "2021-06-04T16:51:55.651928Z",
     "start_time": "2021-06-04T16:51:55.641928Z"
    }
   },
   "outputs": [
    {
     "data": {
      "text/plain": [
       "16       9\n",
       "17      50\n",
       "31       1\n",
       "38      22\n",
       "51       6\n",
       "        ..\n",
       "2332    55\n",
       "2767     8\n",
       "3154     6\n",
       "3157     1\n",
       "3672     8\n",
       "Length: 139, dtype: int64"
      ]
     },
     "execution_count": 7,
     "metadata": {},
     "output_type": "execute_result"
    }
   ],
   "source": [
    "## Using new \"was_renovated\" feature to calculate how recently the house was renovated at the time of sale\n",
    "reno = df[df['was_renovated'] == 1]\n",
    "\n",
    "difference = reno['year_sold'] - reno['yr_renovated']\n",
    "\n",
    "difference"
   ]
  },
  {
   "cell_type": "code",
   "execution_count": 8,
   "metadata": {
    "ExecuteTime": {
     "end_time": "2021-06-04T16:51:55.683926Z",
     "start_time": "2021-06-04T16:51:55.655928Z"
    }
   },
   "outputs": [
    {
     "data": {
      "text/plain": [
       "count    4322.000000\n",
       "mean        0.567099\n",
       "std         4.146223\n",
       "min        -1.000000\n",
       "25%         0.000000\n",
       "50%         0.000000\n",
       "75%         0.000000\n",
       "max        68.000000\n",
       "Name: yrs_since_reno, dtype: float64"
      ]
     },
     "execution_count": 8,
     "metadata": {},
     "output_type": "execute_result"
    }
   ],
   "source": [
    "## Ensuring there are no null values in the new feature and replacing any with zeroes\n",
    "df = df.assign(yrs_since_reno = difference)\n",
    "\n",
    "df['yrs_since_reno'].fillna(0, inplace=True)\n",
    "\n",
    "df['yrs_since_reno'].isnull().sum()\n",
    "\n",
    "df['yrs_since_reno'].describe()\n",
    "\n",
    "## Minimum age is -1 due to a house being sold before it was finished being built"
   ]
  },
  {
   "cell_type": "code",
   "execution_count": 9,
   "metadata": {
    "ExecuteTime": {
     "end_time": "2021-06-04T16:51:55.698929Z",
     "start_time": "2021-06-04T16:51:55.686933Z"
    }
   },
   "outputs": [],
   "source": [
    "## Setting coefficients and target\n",
    "X = df[['was_renovated','waterfront', 'zipcode', 'y_old_sold',\n",
    "            'yrs_since_reno', 'bedrooms', 'bathrooms', 'condition','grade']].copy()"
   ]
  },
  {
   "cell_type": "code",
   "execution_count": 10,
   "metadata": {
    "ExecuteTime": {
     "end_time": "2021-06-04T16:51:55.745929Z",
     "start_time": "2021-06-04T16:51:55.701930Z"
    }
   },
   "outputs": [
    {
     "data": {
      "text/html": [
       "<div>\n",
       "<style scoped>\n",
       "    .dataframe tbody tr th:only-of-type {\n",
       "        vertical-align: middle;\n",
       "    }\n",
       "\n",
       "    .dataframe tbody tr th {\n",
       "        vertical-align: top;\n",
       "    }\n",
       "\n",
       "    .dataframe thead th {\n",
       "        text-align: right;\n",
       "    }\n",
       "</style>\n",
       "<table border=\"1\" class=\"dataframe\">\n",
       "  <thead>\n",
       "    <tr style=\"text-align: right;\">\n",
       "      <th></th>\n",
       "      <th>was_renovated</th>\n",
       "      <th>waterfront</th>\n",
       "      <th>zipcode</th>\n",
       "      <th>y_old_sold</th>\n",
       "      <th>yrs_since_reno</th>\n",
       "      <th>bedrooms</th>\n",
       "      <th>bathrooms</th>\n",
       "      <th>condition</th>\n",
       "      <th>grade</th>\n",
       "    </tr>\n",
       "  </thead>\n",
       "  <tbody>\n",
       "    <tr>\n",
       "      <th>0</th>\n",
       "      <td>0</td>\n",
       "      <td>0</td>\n",
       "      <td>98034</td>\n",
       "      <td>47</td>\n",
       "      <td>0.0</td>\n",
       "      <td>4</td>\n",
       "      <td>2.50</td>\n",
       "      <td>3</td>\n",
       "      <td>8</td>\n",
       "    </tr>\n",
       "    <tr>\n",
       "      <th>1</th>\n",
       "      <td>0</td>\n",
       "      <td>0</td>\n",
       "      <td>98034</td>\n",
       "      <td>48</td>\n",
       "      <td>0.0</td>\n",
       "      <td>4</td>\n",
       "      <td>2.50</td>\n",
       "      <td>3</td>\n",
       "      <td>8</td>\n",
       "    </tr>\n",
       "    <tr>\n",
       "      <th>2</th>\n",
       "      <td>0</td>\n",
       "      <td>0</td>\n",
       "      <td>98029</td>\n",
       "      <td>9</td>\n",
       "      <td>0.0</td>\n",
       "      <td>3</td>\n",
       "      <td>2.50</td>\n",
       "      <td>3</td>\n",
       "      <td>8</td>\n",
       "    </tr>\n",
       "    <tr>\n",
       "      <th>3</th>\n",
       "      <td>0</td>\n",
       "      <td>0</td>\n",
       "      <td>98077</td>\n",
       "      <td>38</td>\n",
       "      <td>0.0</td>\n",
       "      <td>3</td>\n",
       "      <td>1.75</td>\n",
       "      <td>3</td>\n",
       "      <td>8</td>\n",
       "    </tr>\n",
       "    <tr>\n",
       "      <th>4</th>\n",
       "      <td>0</td>\n",
       "      <td>0</td>\n",
       "      <td>98059</td>\n",
       "      <td>10</td>\n",
       "      <td>0.0</td>\n",
       "      <td>4</td>\n",
       "      <td>2.75</td>\n",
       "      <td>3</td>\n",
       "      <td>8</td>\n",
       "    </tr>\n",
       "    <tr>\n",
       "      <th>...</th>\n",
       "      <td>...</td>\n",
       "      <td>...</td>\n",
       "      <td>...</td>\n",
       "      <td>...</td>\n",
       "      <td>...</td>\n",
       "      <td>...</td>\n",
       "      <td>...</td>\n",
       "      <td>...</td>\n",
       "      <td>...</td>\n",
       "    </tr>\n",
       "    <tr>\n",
       "      <th>4318</th>\n",
       "      <td>0</td>\n",
       "      <td>0</td>\n",
       "      <td>98103</td>\n",
       "      <td>5</td>\n",
       "      <td>0.0</td>\n",
       "      <td>3</td>\n",
       "      <td>2.50</td>\n",
       "      <td>3</td>\n",
       "      <td>8</td>\n",
       "    </tr>\n",
       "    <tr>\n",
       "      <th>4319</th>\n",
       "      <td>0</td>\n",
       "      <td>0</td>\n",
       "      <td>98146</td>\n",
       "      <td>1</td>\n",
       "      <td>0.0</td>\n",
       "      <td>4</td>\n",
       "      <td>2.50</td>\n",
       "      <td>3</td>\n",
       "      <td>8</td>\n",
       "    </tr>\n",
       "    <tr>\n",
       "      <th>4320</th>\n",
       "      <td>0</td>\n",
       "      <td>0</td>\n",
       "      <td>98144</td>\n",
       "      <td>5</td>\n",
       "      <td>0.0</td>\n",
       "      <td>2</td>\n",
       "      <td>0.75</td>\n",
       "      <td>3</td>\n",
       "      <td>7</td>\n",
       "    </tr>\n",
       "    <tr>\n",
       "      <th>4321</th>\n",
       "      <td>0</td>\n",
       "      <td>0</td>\n",
       "      <td>98027</td>\n",
       "      <td>11</td>\n",
       "      <td>0.0</td>\n",
       "      <td>3</td>\n",
       "      <td>2.50</td>\n",
       "      <td>3</td>\n",
       "      <td>8</td>\n",
       "    </tr>\n",
       "    <tr>\n",
       "      <th>4322</th>\n",
       "      <td>0</td>\n",
       "      <td>0</td>\n",
       "      <td>98144</td>\n",
       "      <td>6</td>\n",
       "      <td>0.0</td>\n",
       "      <td>2</td>\n",
       "      <td>0.75</td>\n",
       "      <td>3</td>\n",
       "      <td>7</td>\n",
       "    </tr>\n",
       "  </tbody>\n",
       "</table>\n",
       "<p>4322 rows × 9 columns</p>\n",
       "</div>"
      ],
      "text/plain": [
       "      was_renovated  waterfront  zipcode  y_old_sold  yrs_since_reno  \\\n",
       "0                 0           0    98034          47             0.0   \n",
       "1                 0           0    98034          48             0.0   \n",
       "2                 0           0    98029           9             0.0   \n",
       "3                 0           0    98077          38             0.0   \n",
       "4                 0           0    98059          10             0.0   \n",
       "...             ...         ...      ...         ...             ...   \n",
       "4318              0           0    98103           5             0.0   \n",
       "4319              0           0    98146           1             0.0   \n",
       "4320              0           0    98144           5             0.0   \n",
       "4321              0           0    98027          11             0.0   \n",
       "4322              0           0    98144           6             0.0   \n",
       "\n",
       "      bedrooms  bathrooms  condition  grade  \n",
       "0            4       2.50          3      8  \n",
       "1            4       2.50          3      8  \n",
       "2            3       2.50          3      8  \n",
       "3            3       1.75          3      8  \n",
       "4            4       2.75          3      8  \n",
       "...        ...        ...        ...    ...  \n",
       "4318         3       2.50          3      8  \n",
       "4319         4       2.50          3      8  \n",
       "4320         2       0.75          3      7  \n",
       "4321         3       2.50          3      8  \n",
       "4322         2       0.75          3      7  \n",
       "\n",
       "[4322 rows x 9 columns]"
      ]
     },
     "execution_count": 10,
     "metadata": {},
     "output_type": "execute_result"
    }
   ],
   "source": [
    "X"
   ]
  },
  {
   "cell_type": "code",
   "execution_count": 11,
   "metadata": {
    "ExecuteTime": {
     "end_time": "2021-06-04T16:51:55.776929Z",
     "start_time": "2021-06-04T16:51:55.748929Z"
    }
   },
   "outputs": [],
   "source": [
    "## Create list of categorical variables\n",
    "cat_feats = ['condition','grade', 'zipcode']\n",
    "\n",
    "## Create the OHE without \"drop='first\" as it would throw an error in this case\n",
    "ohe = OneHotEncoder(handle_unknown = 'ignore', sparse=False)\n",
    "\n",
    "## Using OHE on our categorical variables for training (NOT testing)\n",
    "final_ohe = ohe.fit_transform(X[cat_feats])"
   ]
  },
  {
   "cell_type": "code",
   "execution_count": 12,
   "metadata": {
    "ExecuteTime": {
     "end_time": "2021-06-04T16:51:55.791927Z",
     "start_time": "2021-06-04T16:51:55.779928Z"
    }
   },
   "outputs": [],
   "source": [
    "## Getting feature names from our list of categories\n",
    "feat_col_name = ohe.get_feature_names(cat_feats)"
   ]
  },
  {
   "cell_type": "code",
   "execution_count": 13,
   "metadata": {
    "ExecuteTime": {
     "end_time": "2021-06-04T16:51:55.806927Z",
     "start_time": "2021-06-04T16:51:55.794929Z"
    }
   },
   "outputs": [],
   "source": [
    "## Creating DF of final results\n",
    "final_ohe_df1 = pd.DataFrame(final_ohe, columns=feat_col_name, index=X.index)"
   ]
  },
  {
   "cell_type": "code",
   "execution_count": 14,
   "metadata": {
    "ExecuteTime": {
     "end_time": "2021-06-04T16:51:55.821927Z",
     "start_time": "2021-06-04T16:51:55.809927Z"
    }
   },
   "outputs": [],
   "source": [
    "final_ohe_df = pd.concat([X.drop(cat_feats, axis=1), final_ohe_df1], axis=1)"
   ]
  },
  {
   "cell_type": "markdown",
   "metadata": {},
   "source": [
    "## Step 3: Predict the holdout set"
   ]
  },
  {
   "cell_type": "code",
   "execution_count": 15,
   "metadata": {
    "ExecuteTime": {
     "end_time": "2021-06-04T16:51:55.836928Z",
     "start_time": "2021-06-04T16:51:55.824928Z"
    }
   },
   "outputs": [],
   "source": [
    "final_ohe_df = pd.concat([X.drop(cat_feats, axis=1), final_ohe_df1], axis=1)"
   ]
  },
  {
   "cell_type": "code",
   "execution_count": 16,
   "metadata": {
    "ExecuteTime": {
     "end_time": "2021-06-04T16:51:55.852927Z",
     "start_time": "2021-06-04T16:51:55.839929Z"
    }
   },
   "outputs": [],
   "source": [
    "new_zips = list(df['zipcode'].values)"
   ]
  },
  {
   "cell_type": "code",
   "execution_count": 17,
   "metadata": {
    "ExecuteTime": {
     "end_time": "2021-06-04T16:51:55.867928Z",
     "start_time": "2021-06-04T16:51:55.855930Z"
    }
   },
   "outputs": [],
   "source": [
    "final_ohe_df['zipcode'] = new_zips"
   ]
  },
  {
   "cell_type": "code",
   "execution_count": 18,
   "metadata": {
    "ExecuteTime": {
     "end_time": "2021-06-04T16:51:55.882927Z",
     "start_time": "2021-06-04T16:51:55.871930Z"
    }
   },
   "outputs": [],
   "source": [
    "model_columns = final_ohe_df.columns"
   ]
  },
  {
   "cell_type": "code",
   "execution_count": 19,
   "metadata": {
    "ExecuteTime": {
     "end_time": "2021-06-04T16:51:55.898927Z",
     "start_time": "2021-06-04T16:51:55.886929Z"
    }
   },
   "outputs": [],
   "source": [
    "model_columns = model_columns.values"
   ]
  },
  {
   "cell_type": "code",
   "execution_count": 20,
   "metadata": {
    "ExecuteTime": {
     "end_time": "2021-06-04T16:51:55.913929Z",
     "start_time": "2021-06-04T16:51:55.902930Z"
    },
    "scrolled": true
   },
   "outputs": [],
   "source": [
    "# model_columns.reshape(1, -1)"
   ]
  },
  {
   "cell_type": "code",
   "execution_count": 21,
   "metadata": {
    "ExecuteTime": {
     "end_time": "2021-06-04T16:51:55.944928Z",
     "start_time": "2021-06-04T16:51:55.917933Z"
    }
   },
   "outputs": [],
   "source": [
    "final_col = final_ohe_df[model_columns]"
   ]
  },
  {
   "cell_type": "code",
   "execution_count": 22,
   "metadata": {
    "ExecuteTime": {
     "end_time": "2021-06-04T16:51:55.960929Z",
     "start_time": "2021-06-04T16:51:55.948929Z"
    }
   },
   "outputs": [],
   "source": [
    "final_col = final_col.columns.values"
   ]
  },
  {
   "cell_type": "code",
   "execution_count": null,
   "metadata": {},
   "outputs": [],
   "source": []
  },
  {
   "cell_type": "code",
   "execution_count": 23,
   "metadata": {
    "ExecuteTime": {
     "end_time": "2021-06-04T16:51:55.991928Z",
     "start_time": "2021-06-04T16:51:55.963928Z"
    }
   },
   "outputs": [],
   "source": [
    "final_pred = lr_final.predict(final_ohe_df[final_col])"
   ]
  },
  {
   "cell_type": "markdown",
   "metadata": {},
   "source": [
    "## Step 4: Export your predictions"
   ]
  },
  {
   "cell_type": "code",
   "execution_count": 24,
   "metadata": {
    "ExecuteTime": {
     "end_time": "2021-06-04T16:51:56.038947Z",
     "start_time": "2021-06-04T16:51:55.994929Z"
    }
   },
   "outputs": [],
   "source": [
    "pd.DataFrame(final_pred).to_csv('housing_preds_ben_mccarty.csv')"
   ]
  }
 ],
 "metadata": {
  "kernelspec": {
   "display_name": "Python 3",
   "language": "python",
   "name": "python3"
  },
  "language_info": {
   "codemirror_mode": {
    "name": "ipython",
    "version": 3
   },
   "file_extension": ".py",
   "mimetype": "text/x-python",
   "name": "python",
   "nbconvert_exporter": "python",
   "pygments_lexer": "ipython3",
   "version": "3.8.5"
  },
  "toc": {
   "base_numbering": 1,
   "nav_menu": {},
   "number_sections": true,
   "sideBar": true,
   "skip_h1_title": false,
   "title_cell": "Table of Contents",
   "title_sidebar": "Contents",
   "toc_cell": false,
   "toc_position": {},
   "toc_section_display": true,
   "toc_window_display": true
  }
 },
 "nbformat": 4,
 "nbformat_minor": 2
}
