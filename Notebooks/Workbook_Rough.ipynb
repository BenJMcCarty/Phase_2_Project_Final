{
 "cells": [
  {
   "cell_type": "markdown",
   "metadata": {},
   "source": [
    "# **Project 2 Workbook**"
   ]
  },
  {
   "cell_type": "markdown",
   "metadata": {
    "ExecuteTime": {
     "end_time": "2021-05-27T20:54:16.007954Z",
     "start_time": "2021-05-27T20:54:15.982975Z"
    }
   },
   "source": [
    "## Imports"
   ]
  },
  {
   "cell_type": "code",
   "execution_count": 66,
   "metadata": {
    "ExecuteTime": {
     "end_time": "2021-06-03T23:31:04.768582Z",
     "start_time": "2021-06-03T23:31:04.738584Z"
    },
    "code_folding": []
   },
   "outputs": [],
   "source": [
    "# Data Handling\n",
    "import pandas as pd\n",
    "import numpy as np\n",
    "from scipy import stats\n",
    "\n",
    "# # Functions\n",
    "# from p2p_functions import *\n",
    "\n",
    "# Visualizations\n",
    "import matplotlib.pyplot as plt\n",
    "import seaborn as sns\n",
    "\n",
    "# Modeling - Statsmodels\n",
    "import statsmodels.formula.api as smf\n",
    "from statsmodels.formula.api import ols\n",
    "import statsmodels.api as sms\n",
    "\n",
    "# Modeling - SKLearn\n",
    "from sklearn.linear_model import LinearRegression\n",
    "from sklearn.feature_selection import RFE\n",
    "from sklearn.preprocessing import PolynomialFeatures, StandardScaler\n",
    "from sklearn.model_selection import train_test_split\n",
    "from sklearn import linear_model\n",
    "\n",
    "# Settings\n",
    "%matplotlib inline\n",
    "plt.style.use('seaborn-talk')\n",
    "pd.set_option('display.max_columns', None)\n",
    "pd.set_option('display.max_rows', 100)\n",
    "pd.set_option('display.float_format', lambda x: '{:,.2f}'.format(x))"
   ]
  },
  {
   "cell_type": "markdown",
   "metadata": {},
   "source": [
    "## Defining Functions"
   ]
  },
  {
   "cell_type": "markdown",
   "metadata": {},
   "source": [
    "### Data Cleaning"
   ]
  },
  {
   "cell_type": "markdown",
   "metadata": {},
   "source": [
    "> The following functions enable the user to filter a Pandas series and return a boolean index to use for filtering out the outliers.\n",
    ">\n",
    "> In order to use the functions effectively, the results must be saved to a new variable. Then the user can perform further filtering by using the new variable to slice the dataframe to be filtered."
   ]
  },
  {
   "cell_type": "markdown",
   "metadata": {},
   "source": [
    "#### ƒ: `find_outliers_z`"
   ]
  },
  {
   "cell_type": "code",
   "execution_count": 67,
   "metadata": {
    "ExecuteTime": {
     "end_time": "2021-06-03T23:31:04.784584Z",
     "start_time": "2021-06-03T23:31:04.771582Z"
    }
   },
   "outputs": [],
   "source": [
    "## Check using z-score - sensitive to outliers\n",
    "\n",
    "def find_outliers_z(data):\n",
    "    \"\"\"Detects outliers using the Z-score>3 cutoff.\n",
    "    Returns a boolean Series where True=outlier\n",
    "    \n",
    "    Source: https://github.com/jirvingphd/dsc-phase-2-project/blob/main/functions_SG.py\n",
    "    \"\"\"\n",
    "    \n",
    "    zFP = np.abs(stats.zscore(data))\n",
    "    zFP = pd.Series(zFP, index=data.index)\n",
    "    idx_outliers = zFP > 3\n",
    "    return idx_outliers"
   ]
  },
  {
   "cell_type": "markdown",
   "metadata": {},
   "source": [
    "#### ƒ: `find_outliers_IQR`"
   ]
  },
  {
   "cell_type": "code",
   "execution_count": 68,
   "metadata": {
    "ExecuteTime": {
     "end_time": "2021-06-03T23:31:04.800581Z",
     "start_time": "2021-06-03T23:31:04.787586Z"
    }
   },
   "outputs": [],
   "source": [
    "## Check using IQR - less sensitive to outliers\n",
    "\n",
    "def find_outliers_IQR(data):\n",
    "    \"\"\"\n",
    "    * Takes a series sliced from a dataframe\n",
    "    * Detects outliers using the 1.5*IQR thresholds.\n",
    "    * Returns a boolean Series where True=outlier\n",
    "\n",
    "    Source: https://github.com/jirvingphd/dsc-phase-2-project/blob/main/functions_SG.py\n",
    "    \"\"\"\n",
    "    \n",
    "    res = data.describe()\n",
    "    q1 = res['25%']\n",
    "    q3 = res['75%']\n",
    "    thresh = 1.5*(q3-q1)\n",
    "    idx_outliers =(data < (q1-thresh)) | (data > (q3+thresh))\n",
    "    return idx_outliers"
   ]
  },
  {
   "cell_type": "markdown",
   "metadata": {},
   "source": [
    "##### Testing Functions"
   ]
  },
  {
   "cell_type": "code",
   "execution_count": 69,
   "metadata": {
    "ExecuteTime": {
     "end_time": "2021-06-03T23:31:04.815583Z",
     "start_time": "2021-06-03T23:31:04.803611Z"
    }
   },
   "outputs": [],
   "source": [
    "# ## Testing Z-Score method\n",
    "\n",
    "# # Run function\n",
    "# idx_bdrm_out_z = find_outliers_z(df['bedrooms'])\n",
    "\n",
    "# # Save non-outliers as new variable \n",
    "# df_bdrm_clean_z = df[~idx_bdrm_out_z].copy()\n",
    "\n",
    "# # Print total number of outliers from data\n",
    "# print(f'There were {idx_bdrm_out.sum()} outliers.')\n",
    "\n",
    "# # Show final data\n",
    "# df_bdrm_clean"
   ]
  },
  {
   "cell_type": "code",
   "execution_count": 70,
   "metadata": {
    "ExecuteTime": {
     "end_time": "2021-06-03T23:31:04.830582Z",
     "start_time": "2021-06-03T23:31:04.818587Z"
    }
   },
   "outputs": [],
   "source": [
    "# # Testing IQR method\n",
    "\n",
    "# # Run function\n",
    "# idx_bdrm_out_iqr = find_outliers_IQR(df['bedrooms'])\n",
    "\n",
    "# # Save non-outliers as new variable \n",
    "# df_bdrm_clean_iqr = df[~idx_bdrm_out_iqr].copy()\n",
    "\n",
    "# # Print total number of outliers from data\n",
    "# print(f'There were {idx_bdrm_out_iqr.sum()} outliers.')\n",
    "\n",
    "# # Show final data\n",
    "# df_bdrm_clean_iqr"
   ]
  },
  {
   "cell_type": "markdown",
   "metadata": {},
   "source": [
    "### Creating new functions for cleaning and visualizations"
   ]
  },
  {
   "cell_type": "markdown",
   "metadata": {},
   "source": [
    "#### ƒ: `feature_vis`"
   ]
  },
  {
   "cell_type": "code",
   "execution_count": 71,
   "metadata": {
    "ExecuteTime": {
     "end_time": "2021-06-03T23:31:04.862583Z",
     "start_time": "2021-06-03T23:31:04.839587Z"
    }
   },
   "outputs": [],
   "source": [
    "def feature_vis(data, x, y = 'price', discrete = False, kde = True):\n",
    "    '''-----\n",
    "    * Requires a DataFrame and a column name to process.\n",
    "    * Keyword arguments specify that the target variable will be \"price\"\n",
    "    for this case.\n",
    "    * For future use, redefine function without predetermined y-value, or \n",
    "    reassign.\n",
    "    \n",
    "    --\n",
    "    \n",
    "    * Args:\n",
    "        * Data: Pandas DataFrame; data source\n",
    "        * x: str; column index to specify data\n",
    "    \n",
    "    * Kwargs:\n",
    "        * y = \"price\"\n",
    "        * discrete = False\n",
    "        * kde = true\n",
    "        \n",
    "    -----'''\n",
    "    \n",
    "    ## Print the slice of the original DataFrame for easy viewing\n",
    "    \n",
    "    print(df[x].value_counts().sort_index())\n",
    "  \n",
    "    ## Create two plots via Seaborn: one scatter plot with regression line,\n",
    "    ## then a histogram of the data (with KDE if specified\n",
    "    \n",
    "    fig, axs = plt.subplots(ncols=2, figsize= (12,6))\n",
    "    \n",
    "    sns.regplot(data=data, x=x, y=y, ax=axs[0])\n",
    "    sns.histplot(data=data, x=x, discrete=discrete, kde=kde, ax=axs[1])\n",
    "    \n",
    "    fig.suptitle(f'{x.title()} vs. {y.title()}', fontsize=16)\n",
    "    plt.tight_layout();\n",
    "    \n",
    "    return"
   ]
  },
  {
   "cell_type": "markdown",
   "metadata": {},
   "source": [
    "#### ƒ: `filter_outliers`"
   ]
  },
  {
   "cell_type": "code",
   "execution_count": 72,
   "metadata": {
    "ExecuteTime": {
     "end_time": "2021-06-03T23:31:04.878581Z",
     "start_time": "2021-06-03T23:31:04.866586Z"
    }
   },
   "outputs": [],
   "source": [
    "def filter_outliers(data):\n",
    "    '''------\n",
    "    \n",
    "    * Removes outliers from data via \"find_outliers_IQR\" and saves filtered\n",
    "    values to the dataframe\n",
    "    \n",
    "    ---\n",
    "    \n",
    "    * Arg:\n",
    "        * Data: slice of a dataframe for a specific column header\n",
    "    \n",
    "    ------\n",
    "    '''\n",
    "   \n",
    "    idx_out = find_outliers_IQR(data)\n",
    " \n",
    "    cleaned = df[~idx_out]\n",
    "\n",
    "    print(f'There were {idx_out.sum()} outliers.')\n",
    "    \n",
    "    return cleaned\n"
   ]
  },
  {
   "cell_type": "markdown",
   "metadata": {},
   "source": [
    "#### ✨ ƒ: `remove_outliers`"
   ]
  },
  {
   "cell_type": "code",
   "execution_count": 73,
   "metadata": {
    "ExecuteTime": {
     "end_time": "2021-06-03T23:31:04.894579Z",
     "start_time": "2021-06-03T23:31:04.881582Z"
    }
   },
   "outputs": [],
   "source": [
    "def remove_outliers(data, x):\n",
    "\n",
    "    idx_out = find_outliers_IQR(data[x])\n",
    " \n",
    "    df_clean = df[~idx_out].copy()\n",
    "    \n",
    "    return df_clean"
   ]
  },
  {
   "cell_type": "markdown",
   "metadata": {},
   "source": [
    "#### ƒ: `show_cleaned_vis`"
   ]
  },
  {
   "cell_type": "code",
   "execution_count": 74,
   "metadata": {
    "ExecuteTime": {
     "end_time": "2021-06-03T23:31:04.909593Z",
     "start_time": "2021-06-03T23:31:04.897586Z"
    },
    "code_folding": []
   },
   "outputs": [],
   "source": [
    "def show_cleaned_vis(data, x, y = 'price', discrete = False, kde = True):\n",
    "    '''-----\n",
    "    \n",
    "    * Combines functions to filter outliers and to create the feature \n",
    "        visualizations.\n",
    "    * Requres 'find_outliers_IQR' and 'feature_vis' to be defined.\n",
    "    * Returns filtered data and two visualizations - Seaborn regression plot\n",
    "        and histplot.\n",
    "    \n",
    "    ---\n",
    "    \n",
    "    * Args:\n",
    "        * Data: Pandas DataFrame; data source\n",
    "        * x: str; column index to specify data\n",
    "    * Kwargs\n",
    "    \n",
    "    -----'''\n",
    "    \n",
    "    ### Filter outliers first\n",
    "    \n",
    "    idx_out = find_outliers_IQR(data[x])\n",
    " \n",
    "    df_cleaned = df[~idx_out].copy()\n",
    "\n",
    "    print(f'There were {idx_out.sum()} outliers.')\n",
    "    \n",
    "    ### Plot Data\n",
    "    \n",
    "    \n",
    "    df_cleaned[x].value_counts().sort_index()\n",
    "        \n",
    "    fig, axs = plt.subplots(ncols=2, figsize= (12,6))\n",
    "    \n",
    "    sns.regplot(data=df_cleaned, x=x, y=y, ax=axs[0])\n",
    "    sns.histplot(data=df_cleaned, x=x, discrete=discrete, kde=kde, ax=axs[1])\n",
    "    \n",
    "    fig.suptitle(f'{x.title()} vs. {y.title()}', fontsize=16)\n",
    "    plt.tight_layout();\n",
    "    \n",
    "    return #df_cleaned"
   ]
  },
  {
   "cell_type": "markdown",
   "metadata": {},
   "source": [
    "### Creating correlations"
   ]
  },
  {
   "cell_type": "markdown",
   "metadata": {},
   "source": [
    "##### ƒ: `\"corr_val\"`"
   ]
  },
  {
   "cell_type": "code",
   "execution_count": 75,
   "metadata": {
    "ExecuteTime": {
     "end_time": "2021-06-03T23:31:04.924580Z",
     "start_time": "2021-06-03T23:31:04.912582Z"
    },
    "code_folding": []
   },
   "outputs": [],
   "source": [
    "# Create \"corr_val\" function\n",
    "\n",
    "def corr_val(df,figsize=(15,15),cmap=\"OrRd\",):\n",
    "    \n",
    "    # Calculate correlations\n",
    "    corr = df.corr()\n",
    "       \n",
    "    # Create a mask of the same size as our correlation data\n",
    "    mask = np.zeros_like(corr)\n",
    "    \n",
    "    # Set the upper values of the numpy array to \"True\" to ignore them\n",
    "    mask[np.triu_indices_from(mask)] = True\n",
    "\n",
    "    fig, ax = plt.subplots(figsize=figsize)\n",
    "    \n",
    "    # Mask=mask to hide the upper-right half of values (otherwise mirrored)\n",
    "    sns.heatmap(corr, annot=True,cmap=\"Reds\",mask=mask)\n",
    "    return fig, ax"
   ]
  },
  {
   "cell_type": "markdown",
   "metadata": {},
   "source": [
    "### Creating Function for T-Testing"
   ]
  },
  {
   "cell_type": "markdown",
   "metadata": {},
   "source": [
    "#### ƒ: `ttest_review`"
   ]
  },
  {
   "cell_type": "code",
   "execution_count": 76,
   "metadata": {
    "ExecuteTime": {
     "end_time": "2021-06-03T23:31:04.940582Z",
     "start_time": "2021-06-03T23:31:04.927582Z"
    }
   },
   "outputs": [],
   "source": [
    "def ttest_review(sample_1, sample_2, feature_name, alpha=.05):\n",
    "    '''------\n",
    "    * Runs a t-test on two samples; prints whether or not they are significant,\n",
    "    and returns p-value as a variable called \"p-value.\"\n",
    "    * Requires two data samples and an alpha value.\n",
    "    \n",
    "    ----\n",
    "    \n",
    "    * Args: two data samples for t-test\n",
    "        * feature_name: str; unique feature name being tested (e.g \"waterfront\")\n",
    "    * Kwargs: \n",
    "        * alpha=.05\n",
    "    \n",
    "    -----\n",
    "    '''\n",
    "    \n",
    "    result = stats.ttest_ind(sample_1, sample_2)\n",
    "    crit_val, p_val = result\n",
    "    \n",
    "    ## Creating interpretation based on p-value results.\n",
    "\n",
    "    if p_val < .05:\n",
    "        print(f'The feature \"{feature_name}\" is statistically significant with a p-value of {p_val}.')\n",
    "\n",
    "    else:\n",
    "         print(f'The feature \"{feature_name}\" is not statistically significant with a p-value of {p_val}.')\n",
    "    \n",
    "    return p_val"
   ]
  },
  {
   "cell_type": "markdown",
   "metadata": {},
   "source": [
    "### Functions for Modeling"
   ]
  },
  {
   "cell_type": "markdown",
   "metadata": {},
   "source": [
    "#### ƒ: `create_model`"
   ]
  },
  {
   "cell_type": "code",
   "execution_count": 138,
   "metadata": {
    "ExecuteTime": {
     "end_time": "2021-06-03T23:42:23.562254Z",
     "start_time": "2021-06-03T23:42:23.550251Z"
    }
   },
   "outputs": [],
   "source": [
    "def create_model(data, cont, cat, model_name):\n",
    "    '''------\n",
    "    \n",
    "    * Creates a linear regression model using Statsmodels OLS\n",
    "    \n",
    "    ---\n",
    "    \n",
    "    * Args:\n",
    "        * Data: dataframe as data source\n",
    "        * Cont: list of continuous variables\n",
    "        * Cat: list of categorical variables\n",
    "        * Model_name: UNIQUE name for the resulting model\n",
    "    \n",
    "    -----\n",
    "    '''\n",
    "\n",
    "    cont_features = '+'.join(cont)\n",
    "\n",
    "    cat_features = '+'.join([f'C({x})' for x in cat])\n",
    "\n",
    "    f = f'price~+{cont_features}+{cat_features}'\n",
    "\n",
    "    print(f)\n",
    "\n",
    "    model = smf.ols(formula=f, data=data).fit()\n",
    "   \n",
    "    diagnose_model(model)\n",
    "    \n",
    "    return model"
   ]
  },
  {
   "cell_type": "markdown",
   "metadata": {},
   "source": [
    "#### ƒ: `diagnose_model`"
   ]
  },
  {
   "cell_type": "markdown",
   "metadata": {},
   "source": [
    ">* Create a function to:\n",
    ">  * Display the summary details of the model\n",
    ">  * Create a scatter plot of the predictions\n",
    ">    * Used for determining homoscedasticity\n",
    ">  * Create a Q-Q plot of the residuals of the model\n",
    ">    * Used to determine the normality of the residuals\n"
   ]
  },
  {
   "cell_type": "code",
   "execution_count": 78,
   "metadata": {
    "ExecuteTime": {
     "end_time": "2021-06-03T23:31:04.971585Z",
     "start_time": "2021-06-03T23:31:04.958584Z"
    },
    "code_folding": []
   },
   "outputs": [],
   "source": [
    "def diagnose_model(model, figsize=(10,5)):\n",
    "    \"\"\" ---\n",
    "    \n",
    "    Argument:\n",
    "        * model: provide the linear regression model for diagnostics\n",
    "    \n",
    "    Keyword Argument:\n",
    "        * figsize: default (10,5); can increase/decrease for larger/smaller\n",
    "    ---\n",
    "    \n",
    "    * Display the summary details of the provided model\n",
    "    * Create two scatter plots to test assumptions of linearity\n",
    "        * Predictions: verifying homoscedasticity (no cone-shapes)\n",
    "        * Residuals: confirming normal distribution of residuals\n",
    "    ---\n",
    "    \n",
    "    \"\"\"\n",
    "    display(model.summary())\n",
    "    \n",
    "    fig, axes = plt.subplots(ncols=2, figsize=figsize)\n",
    "\n",
    "    axes[0].scatter(model.predict(), model.resid)\n",
    "    axes[0].axhline()\n",
    "    axes[0].set_xlabel('Model Predictions')\n",
    "    axes[0].set_ylabel('Model Residuals')\n",
    "    axes[0].set_title('Testing for Homoscedasticity')\n",
    "\n",
    "    sms.graphics.qqplot(data=model.resid, fit=True, line = \"45\", ax=axes[1])\n",
    "    \n",
    "    plt.tight_layout()\n",
    "    \n",
    "    return"
   ]
  },
  {
   "cell_type": "markdown",
   "metadata": {
    "ExecuteTime": {
     "end_time": "2021-05-31T20:59:23.235155Z",
     "start_time": "2021-05-31T20:59:23.224158Z"
    }
   },
   "source": [
    "#### ƒ: `plot_param_coef`"
   ]
  },
  {
   "cell_type": "markdown",
   "metadata": {},
   "source": [
    ">* Create a function to:\n",
    ">  * Get the model's coefficients as a series\n",
    ">  * Plot a figure to show the coefficients in descending order\n"
   ]
  },
  {
   "cell_type": "code",
   "execution_count": 79,
   "metadata": {
    "ExecuteTime": {
     "end_time": "2021-06-03T23:31:04.986588Z",
     "start_time": "2021-06-03T23:31:04.973581Z"
    },
    "code_folding": []
   },
   "outputs": [],
   "source": [
    "def plot_param_coef(model, kind = 'barh', figsize = (10,5)):\n",
    "    ''' ---\n",
    "    \n",
    "    * Plotting a figure to visualize parameter coefficients\n",
    "    \n",
    "    ---\n",
    "    \n",
    "    * Args:\n",
    "        * Model: linear regression model details to plot\n",
    "        \n",
    "    * Kwargs:\n",
    "        * Kind (default 'barh'): allows different types of plots\n",
    "        * Size (default (10,10)): allows for different sizes\n",
    "    ---\n",
    "    \n",
    "    '''\n",
    "    # Plotting figure to visualize parameter coefficients\n",
    "\n",
    "    ## Getting coefficients as a Series\n",
    "    params = model.params[1:]\n",
    "    params.sort_values(inplace=True)\n",
    "\n",
    "    plt.figure(figsize=figsize) # Used if large number of params\n",
    "    ax = params.plot(kind=kind)\n",
    "    ax.axvline()\n",
    "    ax.set_xlabel('Coefficient')\n",
    "    ax.set_ylabel('Features')\n",
    "    ax.set_title('Comparing Feature Coefficients')\n",
    "    \n",
    "    plt.tight_layout()\n",
    "    \n",
    "    return"
   ]
  },
  {
   "cell_type": "markdown",
   "metadata": {},
   "source": [
    "#### ƒ: `plot_p_values`"
   ]
  },
  {
   "cell_type": "markdown",
   "metadata": {},
   "source": [
    ">* Create a function to:\n",
    ">  * Get the model's p-values as a series\n",
    ">  * Plot a figure to show the p-values in descending order"
   ]
  },
  {
   "cell_type": "code",
   "execution_count": 80,
   "metadata": {
    "ExecuteTime": {
     "end_time": "2021-06-03T23:31:05.002581Z",
     "start_time": "2021-06-03T23:31:04.989583Z"
    },
    "code_folding": []
   },
   "outputs": [],
   "source": [
    "def plot_p_values(model, kind = 'barh', size = None, alpha = .05):\n",
    "    ''' ---\n",
    "    \n",
    "    * Plots a figure to visualize parameter p-values exceeding stated alpha.\n",
    "    \n",
    "    ---\n",
    "    \n",
    "    * Args:\n",
    "        * Model: linear regression model details to plot\n",
    "        \n",
    "    * Kwargs:\n",
    "        * Kind (default 'barh'): allows different types of plots\n",
    "        * Size (default None): allows for different sizes\n",
    "    ---\n",
    "    \n",
    "    '''\n",
    "    \n",
    "    pv = model.pvalues[1:]\n",
    "    pv_high = pv[pv > alpha]\n",
    "    pv_low = pv[pv <= alpha]\n",
    "    pv_high.sort_values(ascending=False, inplace=True)\n",
    "    \n",
    "    if len(pv_high) > 0:\n",
    "        plt.figure(figsize=size) # Used if large number of params\n",
    "        ax = pv_high.plot(kind=kind)\n",
    "        ax = pv_low.plot(kind=kind)\n",
    "        ax.axvline()\n",
    "        plt.suptitle(f'P-Values')\n",
    "        \n",
    "    if len(pv_low) > 0:\n",
    "        plt.figure(figsize=size) # Used if large number of params\n",
    "        ax = pv_low.plot(kind=kind)\n",
    "        ax.axvline()\n",
    "        plt.suptitle(f'P-Values Below {alpha}')        \n",
    "        \n",
    "#     else:\n",
    "#         print(f'There are no p-values above {alpha}.')\n",
    "        \n",
    "    plt.tight_layout()\n",
    "    \n",
    "    return"
   ]
  },
  {
   "cell_type": "markdown",
   "metadata": {},
   "source": [
    "#### ƒ: `review_model` (Combined)"
   ]
  },
  {
   "cell_type": "code",
   "execution_count": 81,
   "metadata": {
    "ExecuteTime": {
     "end_time": "2021-06-03T23:31:05.017583Z",
     "start_time": "2021-06-03T23:31:05.005582Z"
    }
   },
   "outputs": [],
   "source": [
    "def review_model(model):\n",
    "    '''---\n",
    "    \n",
    "    Combines earlier functions into one all-purpose function for reviewing\n",
    "    model performance.\n",
    "    \n",
    "    ---\n",
    "    \n",
    "    Arg:\n",
    "        * model: Specify model to review.\n",
    "        \n",
    "    ---'''\n",
    "    \n",
    "    diagnose_model(model)\n",
    "    \n",
    "    plot_param_coef(model)\n",
    "    \n",
    "    plot_p_values(model)\n",
    "    \n",
    "    return"
   ]
  },
  {
   "cell_type": "markdown",
   "metadata": {
    "ExecuteTime": {
     "end_time": "2021-05-27T20:54:28.453145Z",
     "start_time": "2021-05-27T20:54:28.440146Z"
    }
   },
   "source": [
    "## Reading Data"
   ]
  },
  {
   "cell_type": "code",
   "execution_count": 82,
   "metadata": {
    "ExecuteTime": {
     "end_time": "2021-06-03T23:31:05.142582Z",
     "start_time": "2021-06-03T23:31:05.021583Z"
    }
   },
   "outputs": [],
   "source": [
    "df= pd.read_csv('kc_house_data_train.csv', index_col=0)"
   ]
  },
  {
   "cell_type": "markdown",
   "metadata": {},
   "source": [
    "# **Exploring Fresh Data**"
   ]
  },
  {
   "cell_type": "markdown",
   "metadata": {},
   "source": [
    "## Basic Overviews"
   ]
  },
  {
   "cell_type": "code",
   "execution_count": 83,
   "metadata": {
    "ExecuteTime": {
     "end_time": "2021-06-03T23:31:05.173582Z",
     "start_time": "2021-06-03T23:31:05.146584Z"
    }
   },
   "outputs": [
    {
     "data": {
      "text/html": [
       "<div>\n",
       "<style scoped>\n",
       "    .dataframe tbody tr th:only-of-type {\n",
       "        vertical-align: middle;\n",
       "    }\n",
       "\n",
       "    .dataframe tbody tr th {\n",
       "        vertical-align: top;\n",
       "    }\n",
       "\n",
       "    .dataframe thead th {\n",
       "        text-align: right;\n",
       "    }\n",
       "</style>\n",
       "<table border=\"1\" class=\"dataframe\">\n",
       "  <thead>\n",
       "    <tr style=\"text-align: right;\">\n",
       "      <th></th>\n",
       "      <th>id</th>\n",
       "      <th>date</th>\n",
       "      <th>price</th>\n",
       "      <th>bedrooms</th>\n",
       "      <th>bathrooms</th>\n",
       "      <th>sqft_living</th>\n",
       "      <th>sqft_lot</th>\n",
       "      <th>floors</th>\n",
       "      <th>waterfront</th>\n",
       "      <th>view</th>\n",
       "      <th>condition</th>\n",
       "      <th>grade</th>\n",
       "      <th>sqft_above</th>\n",
       "      <th>sqft_basement</th>\n",
       "      <th>yr_built</th>\n",
       "      <th>yr_renovated</th>\n",
       "      <th>zipcode</th>\n",
       "      <th>lat</th>\n",
       "      <th>long</th>\n",
       "      <th>sqft_living15</th>\n",
       "      <th>sqft_lot15</th>\n",
       "    </tr>\n",
       "  </thead>\n",
       "  <tbody>\n",
       "    <tr>\n",
       "      <th>0</th>\n",
       "      <td>2591820310</td>\n",
       "      <td>20141006T000000</td>\n",
       "      <td>365,000.00</td>\n",
       "      <td>4</td>\n",
       "      <td>2.25</td>\n",
       "      <td>2070</td>\n",
       "      <td>8893</td>\n",
       "      <td>2.00</td>\n",
       "      <td>0</td>\n",
       "      <td>0</td>\n",
       "      <td>4</td>\n",
       "      <td>8</td>\n",
       "      <td>2070</td>\n",
       "      <td>0</td>\n",
       "      <td>1986</td>\n",
       "      <td>0</td>\n",
       "      <td>98058</td>\n",
       "      <td>47.44</td>\n",
       "      <td>-122.16</td>\n",
       "      <td>2390</td>\n",
       "      <td>7700</td>\n",
       "    </tr>\n",
       "    <tr>\n",
       "      <th>1</th>\n",
       "      <td>7974200820</td>\n",
       "      <td>20140821T000000</td>\n",
       "      <td>865,000.00</td>\n",
       "      <td>5</td>\n",
       "      <td>3.00</td>\n",
       "      <td>2900</td>\n",
       "      <td>6730</td>\n",
       "      <td>1.00</td>\n",
       "      <td>0</td>\n",
       "      <td>0</td>\n",
       "      <td>5</td>\n",
       "      <td>8</td>\n",
       "      <td>1830</td>\n",
       "      <td>1070</td>\n",
       "      <td>1977</td>\n",
       "      <td>0</td>\n",
       "      <td>98115</td>\n",
       "      <td>47.68</td>\n",
       "      <td>-122.28</td>\n",
       "      <td>2370</td>\n",
       "      <td>6283</td>\n",
       "    </tr>\n",
       "    <tr>\n",
       "      <th>2</th>\n",
       "      <td>7701450110</td>\n",
       "      <td>20140815T000000</td>\n",
       "      <td>1,038,000.00</td>\n",
       "      <td>4</td>\n",
       "      <td>2.50</td>\n",
       "      <td>3770</td>\n",
       "      <td>10893</td>\n",
       "      <td>2.00</td>\n",
       "      <td>0</td>\n",
       "      <td>2</td>\n",
       "      <td>3</td>\n",
       "      <td>11</td>\n",
       "      <td>3770</td>\n",
       "      <td>0</td>\n",
       "      <td>1997</td>\n",
       "      <td>0</td>\n",
       "      <td>98006</td>\n",
       "      <td>47.56</td>\n",
       "      <td>-122.13</td>\n",
       "      <td>3710</td>\n",
       "      <td>9685</td>\n",
       "    </tr>\n",
       "    <tr>\n",
       "      <th>3</th>\n",
       "      <td>9522300010</td>\n",
       "      <td>20150331T000000</td>\n",
       "      <td>1,490,000.00</td>\n",
       "      <td>3</td>\n",
       "      <td>3.50</td>\n",
       "      <td>4560</td>\n",
       "      <td>14608</td>\n",
       "      <td>2.00</td>\n",
       "      <td>0</td>\n",
       "      <td>2</td>\n",
       "      <td>3</td>\n",
       "      <td>12</td>\n",
       "      <td>4560</td>\n",
       "      <td>0</td>\n",
       "      <td>1990</td>\n",
       "      <td>0</td>\n",
       "      <td>98034</td>\n",
       "      <td>47.70</td>\n",
       "      <td>-122.23</td>\n",
       "      <td>4050</td>\n",
       "      <td>14226</td>\n",
       "    </tr>\n",
       "    <tr>\n",
       "      <th>4</th>\n",
       "      <td>9510861140</td>\n",
       "      <td>20140714T000000</td>\n",
       "      <td>711,000.00</td>\n",
       "      <td>3</td>\n",
       "      <td>2.50</td>\n",
       "      <td>2550</td>\n",
       "      <td>5376</td>\n",
       "      <td>2.00</td>\n",
       "      <td>0</td>\n",
       "      <td>0</td>\n",
       "      <td>3</td>\n",
       "      <td>9</td>\n",
       "      <td>2550</td>\n",
       "      <td>0</td>\n",
       "      <td>2004</td>\n",
       "      <td>0</td>\n",
       "      <td>98052</td>\n",
       "      <td>47.66</td>\n",
       "      <td>-122.08</td>\n",
       "      <td>2250</td>\n",
       "      <td>4050</td>\n",
       "    </tr>\n",
       "  </tbody>\n",
       "</table>\n",
       "</div>"
      ],
      "text/plain": [
       "           id             date        price  bedrooms  bathrooms  sqft_living  \\\n",
       "0  2591820310  20141006T000000   365,000.00         4       2.25         2070   \n",
       "1  7974200820  20140821T000000   865,000.00         5       3.00         2900   \n",
       "2  7701450110  20140815T000000 1,038,000.00         4       2.50         3770   \n",
       "3  9522300010  20150331T000000 1,490,000.00         3       3.50         4560   \n",
       "4  9510861140  20140714T000000   711,000.00         3       2.50         2550   \n",
       "\n",
       "   sqft_lot  floors  waterfront  view  condition  grade  sqft_above  \\\n",
       "0      8893    2.00           0     0          4      8        2070   \n",
       "1      6730    1.00           0     0          5      8        1830   \n",
       "2     10893    2.00           0     2          3     11        3770   \n",
       "3     14608    2.00           0     2          3     12        4560   \n",
       "4      5376    2.00           0     0          3      9        2550   \n",
       "\n",
       "   sqft_basement  yr_built  yr_renovated  zipcode   lat    long  \\\n",
       "0              0      1986             0    98058 47.44 -122.16   \n",
       "1           1070      1977             0    98115 47.68 -122.28   \n",
       "2              0      1997             0    98006 47.56 -122.13   \n",
       "3              0      1990             0    98034 47.70 -122.23   \n",
       "4              0      2004             0    98052 47.66 -122.08   \n",
       "\n",
       "   sqft_living15  sqft_lot15  \n",
       "0           2390        7700  \n",
       "1           2370        6283  \n",
       "2           3710        9685  \n",
       "3           4050       14226  \n",
       "4           2250        4050  "
      ]
     },
     "execution_count": 83,
     "metadata": {},
     "output_type": "execute_result"
    }
   ],
   "source": [
    "df.head()"
   ]
  },
  {
   "cell_type": "code",
   "execution_count": 84,
   "metadata": {
    "ExecuteTime": {
     "end_time": "2021-06-03T23:31:05.204581Z",
     "start_time": "2021-06-03T23:31:05.176584Z"
    }
   },
   "outputs": [
    {
     "name": "stdout",
     "output_type": "stream",
     "text": [
      "<class 'pandas.core.frame.DataFrame'>\n",
      "Int64Index: 17290 entries, 0 to 17289\n",
      "Data columns (total 21 columns):\n",
      " #   Column         Non-Null Count  Dtype  \n",
      "---  ------         --------------  -----  \n",
      " 0   id             17290 non-null  int64  \n",
      " 1   date           17290 non-null  object \n",
      " 2   price          17290 non-null  float64\n",
      " 3   bedrooms       17290 non-null  int64  \n",
      " 4   bathrooms      17290 non-null  float64\n",
      " 5   sqft_living    17290 non-null  int64  \n",
      " 6   sqft_lot       17290 non-null  int64  \n",
      " 7   floors         17290 non-null  float64\n",
      " 8   waterfront     17290 non-null  int64  \n",
      " 9   view           17290 non-null  int64  \n",
      " 10  condition      17290 non-null  int64  \n",
      " 11  grade          17290 non-null  int64  \n",
      " 12  sqft_above     17290 non-null  int64  \n",
      " 13  sqft_basement  17290 non-null  int64  \n",
      " 14  yr_built       17290 non-null  int64  \n",
      " 15  yr_renovated   17290 non-null  int64  \n",
      " 16  zipcode        17290 non-null  int64  \n",
      " 17  lat            17290 non-null  float64\n",
      " 18  long           17290 non-null  float64\n",
      " 19  sqft_living15  17290 non-null  int64  \n",
      " 20  sqft_lot15     17290 non-null  int64  \n",
      "dtypes: float64(5), int64(15), object(1)\n",
      "memory usage: 2.9+ MB\n"
     ]
    }
   ],
   "source": [
    "df.info()"
   ]
  },
  {
   "cell_type": "markdown",
   "metadata": {},
   "source": [
    "**DF Columns to Convert**\n",
    "\n",
    "* 'date' obj -> datetime; may drop"
   ]
  },
  {
   "cell_type": "code",
   "execution_count": 85,
   "metadata": {
    "ExecuteTime": {
     "end_time": "2021-06-03T23:31:05.219581Z",
     "start_time": "2021-06-03T23:31:05.206582Z"
    }
   },
   "outputs": [
    {
     "data": {
      "text/plain": [
       "id               0\n",
       "date             0\n",
       "price            0\n",
       "bedrooms         0\n",
       "bathrooms        0\n",
       "sqft_living      0\n",
       "sqft_lot         0\n",
       "floors           0\n",
       "waterfront       0\n",
       "view             0\n",
       "condition        0\n",
       "grade            0\n",
       "sqft_above       0\n",
       "sqft_basement    0\n",
       "yr_built         0\n",
       "yr_renovated     0\n",
       "zipcode          0\n",
       "lat              0\n",
       "long             0\n",
       "sqft_living15    0\n",
       "sqft_lot15       0\n",
       "dtype: int64"
      ]
     },
     "execution_count": 85,
     "metadata": {},
     "output_type": "execute_result"
    }
   ],
   "source": [
    "df.isnull().sum()"
   ]
  },
  {
   "cell_type": "markdown",
   "metadata": {},
   "source": [
    "> No null values to worry about. Next, I will inspect each column to explore features"
   ]
  },
  {
   "cell_type": "code",
   "execution_count": 86,
   "metadata": {
    "ExecuteTime": {
     "end_time": "2021-06-03T23:31:05.327583Z",
     "start_time": "2021-06-03T23:31:05.221582Z"
    },
    "scrolled": true
   },
   "outputs": [
    {
     "data": {
      "text/html": [
       "<div>\n",
       "<style scoped>\n",
       "    .dataframe tbody tr th:only-of-type {\n",
       "        vertical-align: middle;\n",
       "    }\n",
       "\n",
       "    .dataframe tbody tr th {\n",
       "        vertical-align: top;\n",
       "    }\n",
       "\n",
       "    .dataframe thead th {\n",
       "        text-align: right;\n",
       "    }\n",
       "</style>\n",
       "<table border=\"1\" class=\"dataframe\">\n",
       "  <thead>\n",
       "    <tr style=\"text-align: right;\">\n",
       "      <th></th>\n",
       "      <th>id</th>\n",
       "      <th>price</th>\n",
       "      <th>bedrooms</th>\n",
       "      <th>bathrooms</th>\n",
       "      <th>sqft_living</th>\n",
       "      <th>sqft_lot</th>\n",
       "      <th>floors</th>\n",
       "      <th>waterfront</th>\n",
       "      <th>view</th>\n",
       "      <th>condition</th>\n",
       "      <th>grade</th>\n",
       "      <th>sqft_above</th>\n",
       "      <th>sqft_basement</th>\n",
       "      <th>yr_built</th>\n",
       "      <th>yr_renovated</th>\n",
       "      <th>zipcode</th>\n",
       "      <th>lat</th>\n",
       "      <th>long</th>\n",
       "      <th>sqft_living15</th>\n",
       "      <th>sqft_lot15</th>\n",
       "    </tr>\n",
       "  </thead>\n",
       "  <tbody>\n",
       "    <tr>\n",
       "      <th>count</th>\n",
       "      <td>17,290.00</td>\n",
       "      <td>17,290.00</td>\n",
       "      <td>17,290.00</td>\n",
       "      <td>17,290.00</td>\n",
       "      <td>17,290.00</td>\n",
       "      <td>17,290.00</td>\n",
       "      <td>17,290.00</td>\n",
       "      <td>17,290.00</td>\n",
       "      <td>17,290.00</td>\n",
       "      <td>17,290.00</td>\n",
       "      <td>17,290.00</td>\n",
       "      <td>17,290.00</td>\n",
       "      <td>17,290.00</td>\n",
       "      <td>17,290.00</td>\n",
       "      <td>17,290.00</td>\n",
       "      <td>17,290.00</td>\n",
       "      <td>17,290.00</td>\n",
       "      <td>17,290.00</td>\n",
       "      <td>17,290.00</td>\n",
       "      <td>17,290.00</td>\n",
       "    </tr>\n",
       "    <tr>\n",
       "      <th>mean</th>\n",
       "      <td>4,565,501,756.44</td>\n",
       "      <td>540,739.55</td>\n",
       "      <td>3.37</td>\n",
       "      <td>2.11</td>\n",
       "      <td>2,081.46</td>\n",
       "      <td>15,243.40</td>\n",
       "      <td>1.49</td>\n",
       "      <td>0.01</td>\n",
       "      <td>0.24</td>\n",
       "      <td>3.41</td>\n",
       "      <td>7.65</td>\n",
       "      <td>1,789.31</td>\n",
       "      <td>292.16</td>\n",
       "      <td>1,970.79</td>\n",
       "      <td>83.81</td>\n",
       "      <td>98,078.19</td>\n",
       "      <td>47.56</td>\n",
       "      <td>-122.21</td>\n",
       "      <td>1,987.99</td>\n",
       "      <td>12,873.48</td>\n",
       "    </tr>\n",
       "    <tr>\n",
       "      <th>std</th>\n",
       "      <td>2,874,655,595.36</td>\n",
       "      <td>373,318.98</td>\n",
       "      <td>0.94</td>\n",
       "      <td>0.77</td>\n",
       "      <td>920.02</td>\n",
       "      <td>42,304.62</td>\n",
       "      <td>0.54</td>\n",
       "      <td>0.09</td>\n",
       "      <td>0.78</td>\n",
       "      <td>0.65</td>\n",
       "      <td>1.17</td>\n",
       "      <td>829.27</td>\n",
       "      <td>443.15</td>\n",
       "      <td>29.34</td>\n",
       "      <td>400.33</td>\n",
       "      <td>53.61</td>\n",
       "      <td>0.14</td>\n",
       "      <td>0.14</td>\n",
       "      <td>684.80</td>\n",
       "      <td>27,227.44</td>\n",
       "    </tr>\n",
       "    <tr>\n",
       "      <th>min</th>\n",
       "      <td>1,000,102.00</td>\n",
       "      <td>75,000.00</td>\n",
       "      <td>0.00</td>\n",
       "      <td>0.00</td>\n",
       "      <td>290.00</td>\n",
       "      <td>572.00</td>\n",
       "      <td>1.00</td>\n",
       "      <td>0.00</td>\n",
       "      <td>0.00</td>\n",
       "      <td>1.00</td>\n",
       "      <td>1.00</td>\n",
       "      <td>290.00</td>\n",
       "      <td>0.00</td>\n",
       "      <td>1,900.00</td>\n",
       "      <td>0.00</td>\n",
       "      <td>98,001.00</td>\n",
       "      <td>47.16</td>\n",
       "      <td>-122.52</td>\n",
       "      <td>399.00</td>\n",
       "      <td>659.00</td>\n",
       "    </tr>\n",
       "    <tr>\n",
       "      <th>25%</th>\n",
       "      <td>2,114,700,558.75</td>\n",
       "      <td>321,000.00</td>\n",
       "      <td>3.00</td>\n",
       "      <td>1.50</td>\n",
       "      <td>1,430.00</td>\n",
       "      <td>5,081.25</td>\n",
       "      <td>1.00</td>\n",
       "      <td>0.00</td>\n",
       "      <td>0.00</td>\n",
       "      <td>3.00</td>\n",
       "      <td>7.00</td>\n",
       "      <td>1,200.00</td>\n",
       "      <td>0.00</td>\n",
       "      <td>1,951.00</td>\n",
       "      <td>0.00</td>\n",
       "      <td>98,033.00</td>\n",
       "      <td>47.47</td>\n",
       "      <td>-122.33</td>\n",
       "      <td>1,490.00</td>\n",
       "      <td>5,111.25</td>\n",
       "    </tr>\n",
       "    <tr>\n",
       "      <th>50%</th>\n",
       "      <td>3,903,650,042.50</td>\n",
       "      <td>450,000.00</td>\n",
       "      <td>3.00</td>\n",
       "      <td>2.25</td>\n",
       "      <td>1,920.00</td>\n",
       "      <td>7,642.00</td>\n",
       "      <td>1.50</td>\n",
       "      <td>0.00</td>\n",
       "      <td>0.00</td>\n",
       "      <td>3.00</td>\n",
       "      <td>7.00</td>\n",
       "      <td>1,560.00</td>\n",
       "      <td>0.00</td>\n",
       "      <td>1,974.00</td>\n",
       "      <td>0.00</td>\n",
       "      <td>98,065.00</td>\n",
       "      <td>47.57</td>\n",
       "      <td>-122.23</td>\n",
       "      <td>1,840.00</td>\n",
       "      <td>7,622.50</td>\n",
       "    </tr>\n",
       "    <tr>\n",
       "      <th>75%</th>\n",
       "      <td>7,301,150,051.50</td>\n",
       "      <td>645,000.00</td>\n",
       "      <td>4.00</td>\n",
       "      <td>2.50</td>\n",
       "      <td>2,550.00</td>\n",
       "      <td>10,725.75</td>\n",
       "      <td>2.00</td>\n",
       "      <td>0.00</td>\n",
       "      <td>0.00</td>\n",
       "      <td>4.00</td>\n",
       "      <td>8.00</td>\n",
       "      <td>2,214.50</td>\n",
       "      <td>560.00</td>\n",
       "      <td>1,996.00</td>\n",
       "      <td>0.00</td>\n",
       "      <td>98,118.00</td>\n",
       "      <td>47.68</td>\n",
       "      <td>-122.13</td>\n",
       "      <td>2,360.00</td>\n",
       "      <td>10,101.75</td>\n",
       "    </tr>\n",
       "    <tr>\n",
       "      <th>max</th>\n",
       "      <td>9,900,000,190.00</td>\n",
       "      <td>7,700,000.00</td>\n",
       "      <td>33.00</td>\n",
       "      <td>8.00</td>\n",
       "      <td>13,540.00</td>\n",
       "      <td>1,651,359.00</td>\n",
       "      <td>3.50</td>\n",
       "      <td>1.00</td>\n",
       "      <td>4.00</td>\n",
       "      <td>5.00</td>\n",
       "      <td>13.00</td>\n",
       "      <td>9,410.00</td>\n",
       "      <td>4,820.00</td>\n",
       "      <td>2,015.00</td>\n",
       "      <td>2,015.00</td>\n",
       "      <td>98,199.00</td>\n",
       "      <td>47.78</td>\n",
       "      <td>-121.31</td>\n",
       "      <td>6,210.00</td>\n",
       "      <td>858,132.00</td>\n",
       "    </tr>\n",
       "  </tbody>\n",
       "</table>\n",
       "</div>"
      ],
      "text/plain": [
       "                    id        price  bedrooms  bathrooms  sqft_living  \\\n",
       "count        17,290.00    17,290.00 17,290.00  17,290.00    17,290.00   \n",
       "mean  4,565,501,756.44   540,739.55      3.37       2.11     2,081.46   \n",
       "std   2,874,655,595.36   373,318.98      0.94       0.77       920.02   \n",
       "min       1,000,102.00    75,000.00      0.00       0.00       290.00   \n",
       "25%   2,114,700,558.75   321,000.00      3.00       1.50     1,430.00   \n",
       "50%   3,903,650,042.50   450,000.00      3.00       2.25     1,920.00   \n",
       "75%   7,301,150,051.50   645,000.00      4.00       2.50     2,550.00   \n",
       "max   9,900,000,190.00 7,700,000.00     33.00       8.00    13,540.00   \n",
       "\n",
       "          sqft_lot    floors  waterfront      view  condition     grade  \\\n",
       "count    17,290.00 17,290.00   17,290.00 17,290.00  17,290.00 17,290.00   \n",
       "mean     15,243.40      1.49        0.01      0.24       3.41      7.65   \n",
       "std      42,304.62      0.54        0.09      0.78       0.65      1.17   \n",
       "min         572.00      1.00        0.00      0.00       1.00      1.00   \n",
       "25%       5,081.25      1.00        0.00      0.00       3.00      7.00   \n",
       "50%       7,642.00      1.50        0.00      0.00       3.00      7.00   \n",
       "75%      10,725.75      2.00        0.00      0.00       4.00      8.00   \n",
       "max   1,651,359.00      3.50        1.00      4.00       5.00     13.00   \n",
       "\n",
       "       sqft_above  sqft_basement  yr_built  yr_renovated   zipcode       lat  \\\n",
       "count   17,290.00      17,290.00 17,290.00     17,290.00 17,290.00 17,290.00   \n",
       "mean     1,789.31         292.16  1,970.79         83.81 98,078.19     47.56   \n",
       "std        829.27         443.15     29.34        400.33     53.61      0.14   \n",
       "min        290.00           0.00  1,900.00          0.00 98,001.00     47.16   \n",
       "25%      1,200.00           0.00  1,951.00          0.00 98,033.00     47.47   \n",
       "50%      1,560.00           0.00  1,974.00          0.00 98,065.00     47.57   \n",
       "75%      2,214.50         560.00  1,996.00          0.00 98,118.00     47.68   \n",
       "max      9,410.00       4,820.00  2,015.00      2,015.00 98,199.00     47.78   \n",
       "\n",
       "           long  sqft_living15  sqft_lot15  \n",
       "count 17,290.00      17,290.00   17,290.00  \n",
       "mean    -122.21       1,987.99   12,873.48  \n",
       "std        0.14         684.80   27,227.44  \n",
       "min     -122.52         399.00      659.00  \n",
       "25%     -122.33       1,490.00    5,111.25  \n",
       "50%     -122.23       1,840.00    7,622.50  \n",
       "75%     -122.13       2,360.00   10,101.75  \n",
       "max     -121.31       6,210.00  858,132.00  "
      ]
     },
     "execution_count": 86,
     "metadata": {},
     "output_type": "execute_result"
    }
   ],
   "source": [
    "df.describe()"
   ]
  },
  {
   "cell_type": "markdown",
   "metadata": {},
   "source": [
    "# **Feature Engineering**"
   ]
  },
  {
   "cell_type": "markdown",
   "metadata": {},
   "source": [
    "## `'yrs_old'`"
   ]
  },
  {
   "cell_type": "markdown",
   "metadata": {},
   "source": [
    "### Determine `'year_sold'`"
   ]
  },
  {
   "cell_type": "code",
   "execution_count": 87,
   "metadata": {
    "ExecuteTime": {
     "end_time": "2021-06-03T23:31:05.358581Z",
     "start_time": "2021-06-03T23:31:05.330597Z"
    },
    "scrolled": false
   },
   "outputs": [],
   "source": [
    "df['year_sold'] = df['date'].map(lambda x: x[:4])\n",
    "\n",
    "df['year_sold'] =  df['year_sold'].map(lambda x: int(x))"
   ]
  },
  {
   "cell_type": "code",
   "execution_count": 88,
   "metadata": {
    "ExecuteTime": {
     "end_time": "2021-06-03T23:31:05.374581Z",
     "start_time": "2021-06-03T23:31:05.362594Z"
    }
   },
   "outputs": [
    {
     "data": {
      "text/plain": [
       "Index(['id', 'date', 'price', 'bedrooms', 'bathrooms', 'sqft_living',\n",
       "       'sqft_lot', 'floors', 'waterfront', 'view', 'condition', 'grade',\n",
       "       'sqft_above', 'sqft_basement', 'yr_built', 'yr_renovated', 'zipcode',\n",
       "       'lat', 'long', 'sqft_living15', 'sqft_lot15', 'year_sold'],\n",
       "      dtype='object')"
      ]
     },
     "execution_count": 88,
     "metadata": {},
     "output_type": "execute_result"
    }
   ],
   "source": [
    "df.columns"
   ]
  },
  {
   "cell_type": "code",
   "execution_count": 89,
   "metadata": {
    "ExecuteTime": {
     "end_time": "2021-06-03T23:31:05.390583Z",
     "start_time": "2021-06-03T23:31:05.377584Z"
    }
   },
   "outputs": [
    {
     "data": {
      "text/plain": [
       "2014    11703\n",
       "2015     5587\n",
       "Name: year_sold, dtype: int64"
      ]
     },
     "execution_count": 89,
     "metadata": {},
     "output_type": "execute_result"
    }
   ],
   "source": [
    "df['year_sold'].value_counts()"
   ]
  },
  {
   "cell_type": "code",
   "execution_count": 90,
   "metadata": {
    "ExecuteTime": {
     "end_time": "2021-06-03T23:31:05.406581Z",
     "start_time": "2021-06-03T23:31:05.393583Z"
    },
    "scrolled": true
   },
   "outputs": [
    {
     "data": {
      "text/plain": [
       "count   17,290.00\n",
       "mean     2,014.32\n",
       "std          0.47\n",
       "min      2,014.00\n",
       "25%      2,014.00\n",
       "50%      2,014.00\n",
       "75%      2,015.00\n",
       "max      2,015.00\n",
       "Name: year_sold, dtype: float64"
      ]
     },
     "execution_count": 90,
     "metadata": {},
     "output_type": "execute_result"
    }
   ],
   "source": [
    "df['year_sold'].describe()"
   ]
  },
  {
   "cell_type": "markdown",
   "metadata": {},
   "source": [
    "### Calculate `'y_old_sold'`"
   ]
  },
  {
   "cell_type": "code",
   "execution_count": 91,
   "metadata": {
    "ExecuteTime": {
     "end_time": "2021-06-03T23:31:05.422581Z",
     "start_time": "2021-06-03T23:31:05.408582Z"
    },
    "scrolled": true
   },
   "outputs": [
    {
     "data": {
      "text/plain": [
       "count   17,290.00\n",
       "mean        43.53\n",
       "std         29.35\n",
       "min         -1.00\n",
       "25%         18.00\n",
       "50%         40.00\n",
       "75%         63.00\n",
       "max        115.00\n",
       "Name: y_old_sold, dtype: float64"
      ]
     },
     "execution_count": 91,
     "metadata": {},
     "output_type": "execute_result"
    }
   ],
   "source": [
    "df['y_old_sold'] = df['year_sold'] - df['yr_built']\n",
    "df['y_old_sold'].describe()\n",
    "# min = -1 due to a house being sold before it was finished being built"
   ]
  },
  {
   "cell_type": "code",
   "execution_count": 92,
   "metadata": {
    "ExecuteTime": {
     "end_time": "2021-06-03T23:31:05.437581Z",
     "start_time": "2021-06-03T23:31:05.424582Z"
    }
   },
   "outputs": [
    {
     "data": {
      "text/plain": [
       "Index(['id', 'date', 'price', 'bedrooms', 'bathrooms', 'sqft_living',\n",
       "       'sqft_lot', 'floors', 'waterfront', 'view', 'condition', 'grade',\n",
       "       'sqft_above', 'sqft_basement', 'yr_built', 'yr_renovated', 'zipcode',\n",
       "       'lat', 'long', 'sqft_living15', 'sqft_lot15', 'year_sold',\n",
       "       'y_old_sold'],\n",
       "      dtype='object')"
      ]
     },
     "execution_count": 92,
     "metadata": {},
     "output_type": "execute_result"
    }
   ],
   "source": [
    "df.columns"
   ]
  },
  {
   "cell_type": "code",
   "execution_count": 93,
   "metadata": {
    "ExecuteTime": {
     "end_time": "2021-06-03T23:31:05.452581Z",
     "start_time": "2021-06-03T23:31:05.439581Z"
    }
   },
   "outputs": [
    {
     "data": {
      "text/plain": [
       "-1        7\n",
       " 0      350\n",
       " 1      232\n",
       " 2      141\n",
       " 3      123\n",
       "       ... \n",
       " 111     41\n",
       " 112     24\n",
       " 113     23\n",
       " 114     55\n",
       " 115     22\n",
       "Name: y_old_sold, Length: 117, dtype: int64"
      ]
     },
     "execution_count": 93,
     "metadata": {},
     "output_type": "execute_result"
    }
   ],
   "source": [
    "df['y_old_sold'].value_counts().sort_index()"
   ]
  },
  {
   "cell_type": "code",
   "execution_count": 94,
   "metadata": {
    "ExecuteTime": {
     "end_time": "2021-06-03T23:31:05.468580Z",
     "start_time": "2021-06-03T23:31:05.454583Z"
    },
    "scrolled": true
   },
   "outputs": [
    {
     "data": {
      "text/plain": [
       "count   17,290.00\n",
       "mean        43.53\n",
       "std         29.35\n",
       "min         -1.00\n",
       "25%         18.00\n",
       "50%         40.00\n",
       "75%         63.00\n",
       "max        115.00\n",
       "Name: y_old_sold, dtype: float64"
      ]
     },
     "execution_count": 94,
     "metadata": {},
     "output_type": "execute_result"
    }
   ],
   "source": [
    "df['y_old_sold'].describe()"
   ]
  },
  {
   "cell_type": "markdown",
   "metadata": {},
   "source": [
    "## `'was_renovated'`"
   ]
  },
  {
   "cell_type": "code",
   "execution_count": 95,
   "metadata": {
    "ExecuteTime": {
     "end_time": "2021-06-03T23:31:05.484579Z",
     "start_time": "2021-06-03T23:31:05.470582Z"
    }
   },
   "outputs": [],
   "source": [
    "reno_y_n = np.where(df['yr_renovated']>0, 1, 0 )\n",
    "df = df.assign(was_renovated = reno_y_n)"
   ]
  },
  {
   "cell_type": "code",
   "execution_count": 96,
   "metadata": {
    "ExecuteTime": {
     "end_time": "2021-06-03T23:31:05.500581Z",
     "start_time": "2021-06-03T23:31:05.486582Z"
    }
   },
   "outputs": [
    {
     "data": {
      "text/plain": [
       "0    16564\n",
       "1      726\n",
       "Name: was_renovated, dtype: int64"
      ]
     },
     "execution_count": 96,
     "metadata": {},
     "output_type": "execute_result"
    }
   ],
   "source": [
    "df['was_renovated'].value_counts()"
   ]
  },
  {
   "cell_type": "code",
   "execution_count": 97,
   "metadata": {
    "ExecuteTime": {
     "end_time": "2021-06-03T23:31:05.516579Z",
     "start_time": "2021-06-03T23:31:05.502581Z"
    },
    "scrolled": true
   },
   "outputs": [
    {
     "data": {
      "text/plain": [
       "Index(['id', 'date', 'price', 'bedrooms', 'bathrooms', 'sqft_living',\n",
       "       'sqft_lot', 'floors', 'waterfront', 'view', 'condition', 'grade',\n",
       "       'sqft_above', 'sqft_basement', 'yr_built', 'yr_renovated', 'zipcode',\n",
       "       'lat', 'long', 'sqft_living15', 'sqft_lot15', 'year_sold', 'y_old_sold',\n",
       "       'was_renovated'],\n",
       "      dtype='object')"
      ]
     },
     "execution_count": 97,
     "metadata": {},
     "output_type": "execute_result"
    }
   ],
   "source": [
    "df.columns"
   ]
  },
  {
   "cell_type": "markdown",
   "metadata": {},
   "source": [
    "## `\"yrs_since_reno\"`"
   ]
  },
  {
   "cell_type": "code",
   "execution_count": 98,
   "metadata": {
    "ExecuteTime": {
     "end_time": "2021-06-03T23:31:05.531581Z",
     "start_time": "2021-06-03T23:31:05.518581Z"
    }
   },
   "outputs": [
    {
     "data": {
      "text/plain": [
       "11       17\n",
       "33       31\n",
       "67       25\n",
       "186      29\n",
       "227      29\n",
       "         ..\n",
       "17229    16\n",
       "17235    10\n",
       "17239    22\n",
       "17248    20\n",
       "17259    15\n",
       "Length: 726, dtype: int64"
      ]
     },
     "execution_count": 98,
     "metadata": {},
     "output_type": "execute_result"
    }
   ],
   "source": [
    "reno = df[df['was_renovated'] == 1]\n",
    "\n",
    "# print(reno['year_sold'].isna().sum())\n",
    "\n",
    "# print(reno['yr_renovated'].isna().sum())\n",
    "\n",
    "difference = reno['year_sold'] - reno['yr_renovated']\n",
    "\n",
    "difference"
   ]
  },
  {
   "cell_type": "code",
   "execution_count": 99,
   "metadata": {
    "ExecuteTime": {
     "end_time": "2021-06-03T23:31:05.546580Z",
     "start_time": "2021-06-03T23:31:05.532581Z"
    }
   },
   "outputs": [
    {
     "data": {
      "text/plain": [
       "Index(['id', 'date', 'price', 'bedrooms', 'bathrooms', 'sqft_living',\n",
       "       'sqft_lot', 'floors', 'waterfront', 'view', 'condition', 'grade',\n",
       "       'sqft_above', 'sqft_basement', 'yr_built', 'yr_renovated', 'zipcode',\n",
       "       'lat', 'long', 'sqft_living15', 'sqft_lot15', 'year_sold', 'y_old_sold',\n",
       "       'was_renovated'],\n",
       "      dtype='object')"
      ]
     },
     "execution_count": 99,
     "metadata": {},
     "output_type": "execute_result"
    }
   ],
   "source": [
    "df.columns"
   ]
  },
  {
   "cell_type": "code",
   "execution_count": 100,
   "metadata": {
    "ExecuteTime": {
     "end_time": "2021-06-03T23:31:05.562581Z",
     "start_time": "2021-06-03T23:31:05.547581Z"
    },
    "scrolled": true
   },
   "outputs": [
    {
     "data": {
      "text/plain": [
       "count   17,290.00\n",
       "mean         0.77\n",
       "std          4.89\n",
       "min         -1.00\n",
       "25%          0.00\n",
       "50%          0.00\n",
       "75%          0.00\n",
       "max         80.00\n",
       "Name: yrs_since_reno, dtype: float64"
      ]
     },
     "execution_count": 100,
     "metadata": {},
     "output_type": "execute_result"
    }
   ],
   "source": [
    "df = df.assign(yrs_since_reno = difference)\n",
    "\n",
    "df['yrs_since_reno'].fillna(0, inplace=True)\n",
    "\n",
    "df['yrs_since_reno'].isnull().sum()\n",
    "\n",
    "df['yrs_since_reno'].describe()\n",
    "\n",
    "# min = -1 due to a house being sold before it was finished being built"
   ]
  },
  {
   "cell_type": "markdown",
   "metadata": {},
   "source": [
    "## \"`has_bsmnt`\""
   ]
  },
  {
   "cell_type": "code",
   "execution_count": 101,
   "metadata": {
    "ExecuteTime": {
     "end_time": "2021-06-03T23:31:05.578612Z",
     "start_time": "2021-06-03T23:31:05.564582Z"
    }
   },
   "outputs": [
    {
     "data": {
      "text/plain": [
       "count   17,290.00\n",
       "mean         0.39\n",
       "std          0.49\n",
       "min          0.00\n",
       "25%          0.00\n",
       "50%          0.00\n",
       "75%          1.00\n",
       "max          1.00\n",
       "Name: has_bsmnt, dtype: float64"
      ]
     },
     "metadata": {},
     "output_type": "display_data"
    },
    {
     "data": {
      "text/plain": [
       "0    10484\n",
       "1     6806\n",
       "Name: has_bsmnt, dtype: int64"
      ]
     },
     "metadata": {},
     "output_type": "display_data"
    }
   ],
   "source": [
    "df['has_bsmnt'] = np.where(df['sqft_basement'] > 0, 1, 0)\n",
    "\n",
    "display(df['has_bsmnt'].describe(), df['has_bsmnt'].value_counts())"
   ]
  },
  {
   "cell_type": "markdown",
   "metadata": {},
   "source": [
    "# **Correlations**"
   ]
  },
  {
   "cell_type": "markdown",
   "metadata": {},
   "source": [
    "## Determining Correlations with Price"
   ]
  },
  {
   "cell_type": "code",
   "execution_count": 102,
   "metadata": {
    "ExecuteTime": {
     "end_time": "2021-06-03T23:31:05.624583Z",
     "start_time": "2021-06-03T23:31:05.580582Z"
    }
   },
   "outputs": [
    {
     "data": {
      "text/plain": [
       "sqft_living     0.70\n",
       "grade           0.67\n",
       "sqft_above      0.61\n",
       "sqft_living15   0.59\n",
       "bathrooms       0.52\n",
       "dtype: float64"
      ]
     },
     "metadata": {},
     "output_type": "display_data"
    },
    {
     "data": {
      "text/plain": [
       "yrs_since_reno    0.06\n",
       "yr_built          0.06\n",
       "condition         0.04\n",
       "year_sold        -0.00\n",
       "zipcode          -0.05\n",
       "dtype: float64"
      ]
     },
     "metadata": {},
     "output_type": "display_data"
    }
   ],
   "source": [
    "## Determining each feature's relationship with price\n",
    "\n",
    "df_corr = df.drop(['price', 'id', 'lat','long'], axis=1).corrwith(df['price']).sort_values(ascending=False)\n",
    "display(df_corr[0:5],df_corr[-6:-1])"
   ]
  },
  {
   "cell_type": "markdown",
   "metadata": {},
   "source": [
    "## Determining Multicollinearity"
   ]
  },
  {
   "cell_type": "code",
   "execution_count": 103,
   "metadata": {
    "ExecuteTime": {
     "end_time": "2021-06-03T23:31:05.718581Z",
     "start_time": "2021-06-03T23:31:05.630584Z"
    },
    "code_folding": []
   },
   "outputs": [
    {
     "data": {
      "text/html": [
       "<div>\n",
       "<style scoped>\n",
       "    .dataframe tbody tr th:only-of-type {\n",
       "        vertical-align: middle;\n",
       "    }\n",
       "\n",
       "    .dataframe tbody tr th {\n",
       "        vertical-align: top;\n",
       "    }\n",
       "\n",
       "    .dataframe thead th {\n",
       "        text-align: right;\n",
       "    }\n",
       "</style>\n",
       "<table border=\"1\" class=\"dataframe\">\n",
       "  <thead>\n",
       "    <tr style=\"text-align: right;\">\n",
       "      <th></th>\n",
       "      <th>id</th>\n",
       "      <th>bedrooms</th>\n",
       "      <th>bathrooms</th>\n",
       "      <th>sqft_living</th>\n",
       "      <th>sqft_lot</th>\n",
       "      <th>floors</th>\n",
       "      <th>waterfront</th>\n",
       "      <th>view</th>\n",
       "      <th>condition</th>\n",
       "      <th>grade</th>\n",
       "      <th>sqft_above</th>\n",
       "      <th>sqft_basement</th>\n",
       "      <th>yr_built</th>\n",
       "      <th>yr_renovated</th>\n",
       "      <th>zipcode</th>\n",
       "      <th>lat</th>\n",
       "      <th>long</th>\n",
       "      <th>sqft_living15</th>\n",
       "      <th>sqft_lot15</th>\n",
       "      <th>year_sold</th>\n",
       "      <th>y_old_sold</th>\n",
       "      <th>was_renovated</th>\n",
       "      <th>yrs_since_reno</th>\n",
       "      <th>has_bsmnt</th>\n",
       "    </tr>\n",
       "  </thead>\n",
       "  <tbody>\n",
       "    <tr>\n",
       "      <th>id</th>\n",
       "      <td>1.00</td>\n",
       "      <td>-0.00</td>\n",
       "      <td>0.00</td>\n",
       "      <td>-0.01</td>\n",
       "      <td>-0.13</td>\n",
       "      <td>0.02</td>\n",
       "      <td>0.00</td>\n",
       "      <td>0.01</td>\n",
       "      <td>-0.01</td>\n",
       "      <td>0.00</td>\n",
       "      <td>-0.01</td>\n",
       "      <td>-0.00</td>\n",
       "      <td>0.01</td>\n",
       "      <td>-0.02</td>\n",
       "      <td>-0.01</td>\n",
       "      <td>-0.00</td>\n",
       "      <td>0.02</td>\n",
       "      <td>-0.01</td>\n",
       "      <td>-0.14</td>\n",
       "      <td>0.01</td>\n",
       "      <td>-0.01</td>\n",
       "      <td>-0.02</td>\n",
       "      <td>-0.01</td>\n",
       "      <td>0.00</td>\n",
       "    </tr>\n",
       "    <tr>\n",
       "      <th>bedrooms</th>\n",
       "      <td>-0.00</td>\n",
       "      <td>1.00</td>\n",
       "      <td>0.51</td>\n",
       "      <td>0.57</td>\n",
       "      <td>0.03</td>\n",
       "      <td>0.17</td>\n",
       "      <td>-0.01</td>\n",
       "      <td>0.08</td>\n",
       "      <td>0.03</td>\n",
       "      <td>0.35</td>\n",
       "      <td>0.47</td>\n",
       "      <td>0.30</td>\n",
       "      <td>0.15</td>\n",
       "      <td>0.01</td>\n",
       "      <td>-0.15</td>\n",
       "      <td>-0.00</td>\n",
       "      <td>0.12</td>\n",
       "      <td>0.39</td>\n",
       "      <td>0.03</td>\n",
       "      <td>-0.01</td>\n",
       "      <td>-0.15</td>\n",
       "      <td>0.01</td>\n",
       "      <td>-0.01</td>\n",
       "      <td>0.16</td>\n",
       "    </tr>\n",
       "    <tr>\n",
       "      <th>bathrooms</th>\n",
       "      <td>0.00</td>\n",
       "      <td>0.51</td>\n",
       "      <td>1.00</td>\n",
       "      <td>0.76</td>\n",
       "      <td>0.09</td>\n",
       "      <td>0.50</td>\n",
       "      <td>0.07</td>\n",
       "      <td>0.19</td>\n",
       "      <td>-0.12</td>\n",
       "      <td>0.66</td>\n",
       "      <td>0.69</td>\n",
       "      <td>0.28</td>\n",
       "      <td>0.51</td>\n",
       "      <td>0.05</td>\n",
       "      <td>-0.20</td>\n",
       "      <td>0.02</td>\n",
       "      <td>0.22</td>\n",
       "      <td>0.57</td>\n",
       "      <td>0.09</td>\n",
       "      <td>-0.03</td>\n",
       "      <td>-0.51</td>\n",
       "      <td>0.05</td>\n",
       "      <td>-0.01</td>\n",
       "      <td>0.16</td>\n",
       "    </tr>\n",
       "    <tr>\n",
       "      <th>sqft_living</th>\n",
       "      <td>-0.01</td>\n",
       "      <td>0.57</td>\n",
       "      <td>0.76</td>\n",
       "      <td>1.00</td>\n",
       "      <td>0.17</td>\n",
       "      <td>0.36</td>\n",
       "      <td>0.11</td>\n",
       "      <td>0.28</td>\n",
       "      <td>-0.06</td>\n",
       "      <td>0.76</td>\n",
       "      <td>0.88</td>\n",
       "      <td>0.44</td>\n",
       "      <td>0.32</td>\n",
       "      <td>0.05</td>\n",
       "      <td>-0.20</td>\n",
       "      <td>0.05</td>\n",
       "      <td>0.23</td>\n",
       "      <td>0.76</td>\n",
       "      <td>0.18</td>\n",
       "      <td>-0.03</td>\n",
       "      <td>-0.32</td>\n",
       "      <td>0.05</td>\n",
       "      <td>0.01</td>\n",
       "      <td>0.20</td>\n",
       "    </tr>\n",
       "    <tr>\n",
       "      <th>sqft_lot</th>\n",
       "      <td>-0.13</td>\n",
       "      <td>0.03</td>\n",
       "      <td>0.09</td>\n",
       "      <td>0.17</td>\n",
       "      <td>1.00</td>\n",
       "      <td>-0.00</td>\n",
       "      <td>0.02</td>\n",
       "      <td>0.07</td>\n",
       "      <td>-0.01</td>\n",
       "      <td>0.11</td>\n",
       "      <td>0.18</td>\n",
       "      <td>0.01</td>\n",
       "      <td>0.05</td>\n",
       "      <td>0.00</td>\n",
       "      <td>-0.13</td>\n",
       "      <td>-0.08</td>\n",
       "      <td>0.23</td>\n",
       "      <td>0.14</td>\n",
       "      <td>0.70</td>\n",
       "      <td>0.00</td>\n",
       "      <td>-0.05</td>\n",
       "      <td>0.00</td>\n",
       "      <td>0.01</td>\n",
       "      <td>-0.04</td>\n",
       "    </tr>\n",
       "    <tr>\n",
       "      <th>floors</th>\n",
       "      <td>0.02</td>\n",
       "      <td>0.17</td>\n",
       "      <td>0.50</td>\n",
       "      <td>0.36</td>\n",
       "      <td>-0.00</td>\n",
       "      <td>1.00</td>\n",
       "      <td>0.03</td>\n",
       "      <td>0.03</td>\n",
       "      <td>-0.26</td>\n",
       "      <td>0.46</td>\n",
       "      <td>0.53</td>\n",
       "      <td>-0.25</td>\n",
       "      <td>0.48</td>\n",
       "      <td>0.01</td>\n",
       "      <td>-0.06</td>\n",
       "      <td>0.05</td>\n",
       "      <td>0.13</td>\n",
       "      <td>0.28</td>\n",
       "      <td>-0.01</td>\n",
       "      <td>-0.02</td>\n",
       "      <td>-0.48</td>\n",
       "      <td>0.01</td>\n",
       "      <td>-0.00</td>\n",
       "      <td>-0.26</td>\n",
       "    </tr>\n",
       "    <tr>\n",
       "      <th>waterfront</th>\n",
       "      <td>0.00</td>\n",
       "      <td>-0.01</td>\n",
       "      <td>0.07</td>\n",
       "      <td>0.11</td>\n",
       "      <td>0.02</td>\n",
       "      <td>0.03</td>\n",
       "      <td>1.00</td>\n",
       "      <td>0.41</td>\n",
       "      <td>0.01</td>\n",
       "      <td>0.09</td>\n",
       "      <td>0.08</td>\n",
       "      <td>0.08</td>\n",
       "      <td>-0.02</td>\n",
       "      <td>0.09</td>\n",
       "      <td>0.03</td>\n",
       "      <td>-0.01</td>\n",
       "      <td>-0.04</td>\n",
       "      <td>0.09</td>\n",
       "      <td>0.03</td>\n",
       "      <td>-0.00</td>\n",
       "      <td>0.02</td>\n",
       "      <td>0.09</td>\n",
       "      <td>0.10</td>\n",
       "      <td>0.04</td>\n",
       "    </tr>\n",
       "    <tr>\n",
       "      <th>view</th>\n",
       "      <td>0.01</td>\n",
       "      <td>0.08</td>\n",
       "      <td>0.19</td>\n",
       "      <td>0.28</td>\n",
       "      <td>0.07</td>\n",
       "      <td>0.03</td>\n",
       "      <td>0.41</td>\n",
       "      <td>1.00</td>\n",
       "      <td>0.05</td>\n",
       "      <td>0.25</td>\n",
       "      <td>0.16</td>\n",
       "      <td>0.28</td>\n",
       "      <td>-0.05</td>\n",
       "      <td>0.09</td>\n",
       "      <td>0.09</td>\n",
       "      <td>0.00</td>\n",
       "      <td>-0.08</td>\n",
       "      <td>0.28</td>\n",
       "      <td>0.07</td>\n",
       "      <td>0.00</td>\n",
       "      <td>0.05</td>\n",
       "      <td>0.09</td>\n",
       "      <td>0.08</td>\n",
       "      <td>0.19</td>\n",
       "    </tr>\n",
       "    <tr>\n",
       "      <th>condition</th>\n",
       "      <td>-0.01</td>\n",
       "      <td>0.03</td>\n",
       "      <td>-0.12</td>\n",
       "      <td>-0.06</td>\n",
       "      <td>-0.01</td>\n",
       "      <td>-0.26</td>\n",
       "      <td>0.01</td>\n",
       "      <td>0.05</td>\n",
       "      <td>1.00</td>\n",
       "      <td>-0.14</td>\n",
       "      <td>-0.16</td>\n",
       "      <td>0.17</td>\n",
       "      <td>-0.36</td>\n",
       "      <td>-0.06</td>\n",
       "      <td>0.01</td>\n",
       "      <td>-0.01</td>\n",
       "      <td>-0.11</td>\n",
       "      <td>-0.09</td>\n",
       "      <td>-0.01</td>\n",
       "      <td>-0.04</td>\n",
       "      <td>0.36</td>\n",
       "      <td>-0.06</td>\n",
       "      <td>-0.00</td>\n",
       "      <td>0.13</td>\n",
       "    </tr>\n",
       "    <tr>\n",
       "      <th>grade</th>\n",
       "      <td>0.00</td>\n",
       "      <td>0.35</td>\n",
       "      <td>0.66</td>\n",
       "      <td>0.76</td>\n",
       "      <td>0.11</td>\n",
       "      <td>0.46</td>\n",
       "      <td>0.09</td>\n",
       "      <td>0.25</td>\n",
       "      <td>-0.14</td>\n",
       "      <td>1.00</td>\n",
       "      <td>0.76</td>\n",
       "      <td>0.17</td>\n",
       "      <td>0.45</td>\n",
       "      <td>0.01</td>\n",
       "      <td>-0.18</td>\n",
       "      <td>0.12</td>\n",
       "      <td>0.20</td>\n",
       "      <td>0.72</td>\n",
       "      <td>0.12</td>\n",
       "      <td>-0.04</td>\n",
       "      <td>-0.45</td>\n",
       "      <td>0.01</td>\n",
       "      <td>-0.03</td>\n",
       "      <td>0.05</td>\n",
       "    </tr>\n",
       "    <tr>\n",
       "      <th>sqft_above</th>\n",
       "      <td>-0.01</td>\n",
       "      <td>0.47</td>\n",
       "      <td>0.69</td>\n",
       "      <td>0.88</td>\n",
       "      <td>0.18</td>\n",
       "      <td>0.53</td>\n",
       "      <td>0.08</td>\n",
       "      <td>0.16</td>\n",
       "      <td>-0.16</td>\n",
       "      <td>0.76</td>\n",
       "      <td>1.00</td>\n",
       "      <td>-0.05</td>\n",
       "      <td>0.42</td>\n",
       "      <td>0.02</td>\n",
       "      <td>-0.26</td>\n",
       "      <td>0.00</td>\n",
       "      <td>0.34</td>\n",
       "      <td>0.73</td>\n",
       "      <td>0.19</td>\n",
       "      <td>-0.03</td>\n",
       "      <td>-0.42</td>\n",
       "      <td>0.02</td>\n",
       "      <td>0.00</td>\n",
       "      <td>-0.21</td>\n",
       "    </tr>\n",
       "    <tr>\n",
       "      <th>sqft_basement</th>\n",
       "      <td>-0.00</td>\n",
       "      <td>0.30</td>\n",
       "      <td>0.28</td>\n",
       "      <td>0.44</td>\n",
       "      <td>0.01</td>\n",
       "      <td>-0.25</td>\n",
       "      <td>0.08</td>\n",
       "      <td>0.28</td>\n",
       "      <td>0.17</td>\n",
       "      <td>0.17</td>\n",
       "      <td>-0.05</td>\n",
       "      <td>1.00</td>\n",
       "      <td>-0.13</td>\n",
       "      <td>0.07</td>\n",
       "      <td>0.08</td>\n",
       "      <td>0.11</td>\n",
       "      <td>-0.15</td>\n",
       "      <td>0.20</td>\n",
       "      <td>0.01</td>\n",
       "      <td>-0.01</td>\n",
       "      <td>0.13</td>\n",
       "      <td>0.07</td>\n",
       "      <td>0.02</td>\n",
       "      <td>0.82</td>\n",
       "    </tr>\n",
       "    <tr>\n",
       "      <th>yr_built</th>\n",
       "      <td>0.01</td>\n",
       "      <td>0.15</td>\n",
       "      <td>0.51</td>\n",
       "      <td>0.32</td>\n",
       "      <td>0.05</td>\n",
       "      <td>0.48</td>\n",
       "      <td>-0.02</td>\n",
       "      <td>-0.05</td>\n",
       "      <td>-0.36</td>\n",
       "      <td>0.45</td>\n",
       "      <td>0.42</td>\n",
       "      <td>-0.13</td>\n",
       "      <td>1.00</td>\n",
       "      <td>-0.22</td>\n",
       "      <td>-0.35</td>\n",
       "      <td>-0.15</td>\n",
       "      <td>0.41</td>\n",
       "      <td>0.33</td>\n",
       "      <td>0.08</td>\n",
       "      <td>0.00</td>\n",
       "      <td>-1.00</td>\n",
       "      <td>-0.22</td>\n",
       "      <td>-0.20</td>\n",
       "      <td>-0.17</td>\n",
       "    </tr>\n",
       "    <tr>\n",
       "      <th>yr_renovated</th>\n",
       "      <td>-0.02</td>\n",
       "      <td>0.01</td>\n",
       "      <td>0.05</td>\n",
       "      <td>0.05</td>\n",
       "      <td>0.00</td>\n",
       "      <td>0.01</td>\n",
       "      <td>0.09</td>\n",
       "      <td>0.09</td>\n",
       "      <td>-0.06</td>\n",
       "      <td>0.01</td>\n",
       "      <td>0.02</td>\n",
       "      <td>0.07</td>\n",
       "      <td>-0.22</td>\n",
       "      <td>1.00</td>\n",
       "      <td>0.06</td>\n",
       "      <td>0.03</td>\n",
       "      <td>-0.06</td>\n",
       "      <td>-0.01</td>\n",
       "      <td>0.00</td>\n",
       "      <td>-0.02</td>\n",
       "      <td>0.22</td>\n",
       "      <td>1.00</td>\n",
       "      <td>0.75</td>\n",
       "      <td>0.05</td>\n",
       "    </tr>\n",
       "    <tr>\n",
       "      <th>zipcode</th>\n",
       "      <td>-0.01</td>\n",
       "      <td>-0.15</td>\n",
       "      <td>-0.20</td>\n",
       "      <td>-0.20</td>\n",
       "      <td>-0.13</td>\n",
       "      <td>-0.06</td>\n",
       "      <td>0.03</td>\n",
       "      <td>0.09</td>\n",
       "      <td>0.01</td>\n",
       "      <td>-0.18</td>\n",
       "      <td>-0.26</td>\n",
       "      <td>0.08</td>\n",
       "      <td>-0.35</td>\n",
       "      <td>0.06</td>\n",
       "      <td>1.00</td>\n",
       "      <td>0.26</td>\n",
       "      <td>-0.56</td>\n",
       "      <td>-0.27</td>\n",
       "      <td>-0.15</td>\n",
       "      <td>0.00</td>\n",
       "      <td>0.35</td>\n",
       "      <td>0.06</td>\n",
       "      <td>0.05</td>\n",
       "      <td>0.17</td>\n",
       "    </tr>\n",
       "    <tr>\n",
       "      <th>lat</th>\n",
       "      <td>-0.00</td>\n",
       "      <td>-0.00</td>\n",
       "      <td>0.02</td>\n",
       "      <td>0.05</td>\n",
       "      <td>-0.08</td>\n",
       "      <td>0.05</td>\n",
       "      <td>-0.01</td>\n",
       "      <td>0.00</td>\n",
       "      <td>-0.01</td>\n",
       "      <td>0.12</td>\n",
       "      <td>0.00</td>\n",
       "      <td>0.11</td>\n",
       "      <td>-0.15</td>\n",
       "      <td>0.03</td>\n",
       "      <td>0.26</td>\n",
       "      <td>1.00</td>\n",
       "      <td>-0.13</td>\n",
       "      <td>0.05</td>\n",
       "      <td>-0.09</td>\n",
       "      <td>-0.03</td>\n",
       "      <td>0.14</td>\n",
       "      <td>0.03</td>\n",
       "      <td>0.02</td>\n",
       "      <td>0.13</td>\n",
       "    </tr>\n",
       "    <tr>\n",
       "      <th>long</th>\n",
       "      <td>0.02</td>\n",
       "      <td>0.12</td>\n",
       "      <td>0.22</td>\n",
       "      <td>0.23</td>\n",
       "      <td>0.23</td>\n",
       "      <td>0.13</td>\n",
       "      <td>-0.04</td>\n",
       "      <td>-0.08</td>\n",
       "      <td>-0.11</td>\n",
       "      <td>0.20</td>\n",
       "      <td>0.34</td>\n",
       "      <td>-0.15</td>\n",
       "      <td>0.41</td>\n",
       "      <td>-0.06</td>\n",
       "      <td>-0.56</td>\n",
       "      <td>-0.13</td>\n",
       "      <td>1.00</td>\n",
       "      <td>0.33</td>\n",
       "      <td>0.25</td>\n",
       "      <td>0.00</td>\n",
       "      <td>-0.41</td>\n",
       "      <td>-0.06</td>\n",
       "      <td>-0.05</td>\n",
       "      <td>-0.24</td>\n",
       "    </tr>\n",
       "    <tr>\n",
       "      <th>sqft_living15</th>\n",
       "      <td>-0.01</td>\n",
       "      <td>0.39</td>\n",
       "      <td>0.57</td>\n",
       "      <td>0.76</td>\n",
       "      <td>0.14</td>\n",
       "      <td>0.28</td>\n",
       "      <td>0.09</td>\n",
       "      <td>0.28</td>\n",
       "      <td>-0.09</td>\n",
       "      <td>0.72</td>\n",
       "      <td>0.73</td>\n",
       "      <td>0.20</td>\n",
       "      <td>0.33</td>\n",
       "      <td>-0.01</td>\n",
       "      <td>-0.27</td>\n",
       "      <td>0.05</td>\n",
       "      <td>0.33</td>\n",
       "      <td>1.00</td>\n",
       "      <td>0.18</td>\n",
       "      <td>-0.03</td>\n",
       "      <td>-0.33</td>\n",
       "      <td>-0.01</td>\n",
       "      <td>-0.02</td>\n",
       "      <td>0.04</td>\n",
       "    </tr>\n",
       "    <tr>\n",
       "      <th>sqft_lot15</th>\n",
       "      <td>-0.14</td>\n",
       "      <td>0.03</td>\n",
       "      <td>0.09</td>\n",
       "      <td>0.18</td>\n",
       "      <td>0.70</td>\n",
       "      <td>-0.01</td>\n",
       "      <td>0.03</td>\n",
       "      <td>0.07</td>\n",
       "      <td>-0.01</td>\n",
       "      <td>0.12</td>\n",
       "      <td>0.19</td>\n",
       "      <td>0.01</td>\n",
       "      <td>0.08</td>\n",
       "      <td>0.00</td>\n",
       "      <td>-0.15</td>\n",
       "      <td>-0.09</td>\n",
       "      <td>0.25</td>\n",
       "      <td>0.18</td>\n",
       "      <td>1.00</td>\n",
       "      <td>-0.01</td>\n",
       "      <td>-0.08</td>\n",
       "      <td>0.00</td>\n",
       "      <td>0.01</td>\n",
       "      <td>-0.04</td>\n",
       "    </tr>\n",
       "    <tr>\n",
       "      <th>year_sold</th>\n",
       "      <td>0.01</td>\n",
       "      <td>-0.01</td>\n",
       "      <td>-0.03</td>\n",
       "      <td>-0.03</td>\n",
       "      <td>0.00</td>\n",
       "      <td>-0.02</td>\n",
       "      <td>-0.00</td>\n",
       "      <td>0.00</td>\n",
       "      <td>-0.04</td>\n",
       "      <td>-0.04</td>\n",
       "      <td>-0.03</td>\n",
       "      <td>-0.01</td>\n",
       "      <td>0.00</td>\n",
       "      <td>-0.02</td>\n",
       "      <td>0.00</td>\n",
       "      <td>-0.03</td>\n",
       "      <td>0.00</td>\n",
       "      <td>-0.03</td>\n",
       "      <td>-0.01</td>\n",
       "      <td>1.00</td>\n",
       "      <td>0.01</td>\n",
       "      <td>-0.02</td>\n",
       "      <td>-0.01</td>\n",
       "      <td>-0.00</td>\n",
       "    </tr>\n",
       "    <tr>\n",
       "      <th>y_old_sold</th>\n",
       "      <td>-0.01</td>\n",
       "      <td>-0.15</td>\n",
       "      <td>-0.51</td>\n",
       "      <td>-0.32</td>\n",
       "      <td>-0.05</td>\n",
       "      <td>-0.48</td>\n",
       "      <td>0.02</td>\n",
       "      <td>0.05</td>\n",
       "      <td>0.36</td>\n",
       "      <td>-0.45</td>\n",
       "      <td>-0.42</td>\n",
       "      <td>0.13</td>\n",
       "      <td>-1.00</td>\n",
       "      <td>0.22</td>\n",
       "      <td>0.35</td>\n",
       "      <td>0.14</td>\n",
       "      <td>-0.41</td>\n",
       "      <td>-0.33</td>\n",
       "      <td>-0.08</td>\n",
       "      <td>0.01</td>\n",
       "      <td>1.00</td>\n",
       "      <td>0.22</td>\n",
       "      <td>0.20</td>\n",
       "      <td>0.17</td>\n",
       "    </tr>\n",
       "    <tr>\n",
       "      <th>was_renovated</th>\n",
       "      <td>-0.02</td>\n",
       "      <td>0.01</td>\n",
       "      <td>0.05</td>\n",
       "      <td>0.05</td>\n",
       "      <td>0.00</td>\n",
       "      <td>0.01</td>\n",
       "      <td>0.09</td>\n",
       "      <td>0.09</td>\n",
       "      <td>-0.06</td>\n",
       "      <td>0.01</td>\n",
       "      <td>0.02</td>\n",
       "      <td>0.07</td>\n",
       "      <td>-0.22</td>\n",
       "      <td>1.00</td>\n",
       "      <td>0.06</td>\n",
       "      <td>0.03</td>\n",
       "      <td>-0.06</td>\n",
       "      <td>-0.01</td>\n",
       "      <td>0.00</td>\n",
       "      <td>-0.02</td>\n",
       "      <td>0.22</td>\n",
       "      <td>1.00</td>\n",
       "      <td>0.75</td>\n",
       "      <td>0.05</td>\n",
       "    </tr>\n",
       "    <tr>\n",
       "      <th>yrs_since_reno</th>\n",
       "      <td>-0.01</td>\n",
       "      <td>-0.01</td>\n",
       "      <td>-0.01</td>\n",
       "      <td>0.01</td>\n",
       "      <td>0.01</td>\n",
       "      <td>-0.00</td>\n",
       "      <td>0.10</td>\n",
       "      <td>0.08</td>\n",
       "      <td>-0.00</td>\n",
       "      <td>-0.03</td>\n",
       "      <td>0.00</td>\n",
       "      <td>0.02</td>\n",
       "      <td>-0.20</td>\n",
       "      <td>0.75</td>\n",
       "      <td>0.05</td>\n",
       "      <td>0.02</td>\n",
       "      <td>-0.05</td>\n",
       "      <td>-0.02</td>\n",
       "      <td>0.01</td>\n",
       "      <td>-0.01</td>\n",
       "      <td>0.20</td>\n",
       "      <td>0.75</td>\n",
       "      <td>1.00</td>\n",
       "      <td>0.02</td>\n",
       "    </tr>\n",
       "    <tr>\n",
       "      <th>has_bsmnt</th>\n",
       "      <td>0.00</td>\n",
       "      <td>0.16</td>\n",
       "      <td>0.16</td>\n",
       "      <td>0.20</td>\n",
       "      <td>-0.04</td>\n",
       "      <td>-0.26</td>\n",
       "      <td>0.04</td>\n",
       "      <td>0.19</td>\n",
       "      <td>0.13</td>\n",
       "      <td>0.05</td>\n",
       "      <td>-0.21</td>\n",
       "      <td>0.82</td>\n",
       "      <td>-0.17</td>\n",
       "      <td>0.05</td>\n",
       "      <td>0.17</td>\n",
       "      <td>0.13</td>\n",
       "      <td>-0.24</td>\n",
       "      <td>0.04</td>\n",
       "      <td>-0.04</td>\n",
       "      <td>-0.00</td>\n",
       "      <td>0.17</td>\n",
       "      <td>0.05</td>\n",
       "      <td>0.02</td>\n",
       "      <td>1.00</td>\n",
       "    </tr>\n",
       "  </tbody>\n",
       "</table>\n",
       "</div>"
      ],
      "text/plain": [
       "                  id  bedrooms  bathrooms  sqft_living  sqft_lot  floors  \\\n",
       "id              1.00     -0.00       0.00        -0.01     -0.13    0.02   \n",
       "bedrooms       -0.00      1.00       0.51         0.57      0.03    0.17   \n",
       "bathrooms       0.00      0.51       1.00         0.76      0.09    0.50   \n",
       "sqft_living    -0.01      0.57       0.76         1.00      0.17    0.36   \n",
       "sqft_lot       -0.13      0.03       0.09         0.17      1.00   -0.00   \n",
       "floors          0.02      0.17       0.50         0.36     -0.00    1.00   \n",
       "waterfront      0.00     -0.01       0.07         0.11      0.02    0.03   \n",
       "view            0.01      0.08       0.19         0.28      0.07    0.03   \n",
       "condition      -0.01      0.03      -0.12        -0.06     -0.01   -0.26   \n",
       "grade           0.00      0.35       0.66         0.76      0.11    0.46   \n",
       "sqft_above     -0.01      0.47       0.69         0.88      0.18    0.53   \n",
       "sqft_basement  -0.00      0.30       0.28         0.44      0.01   -0.25   \n",
       "yr_built        0.01      0.15       0.51         0.32      0.05    0.48   \n",
       "yr_renovated   -0.02      0.01       0.05         0.05      0.00    0.01   \n",
       "zipcode        -0.01     -0.15      -0.20        -0.20     -0.13   -0.06   \n",
       "lat            -0.00     -0.00       0.02         0.05     -0.08    0.05   \n",
       "long            0.02      0.12       0.22         0.23      0.23    0.13   \n",
       "sqft_living15  -0.01      0.39       0.57         0.76      0.14    0.28   \n",
       "sqft_lot15     -0.14      0.03       0.09         0.18      0.70   -0.01   \n",
       "year_sold       0.01     -0.01      -0.03        -0.03      0.00   -0.02   \n",
       "y_old_sold     -0.01     -0.15      -0.51        -0.32     -0.05   -0.48   \n",
       "was_renovated  -0.02      0.01       0.05         0.05      0.00    0.01   \n",
       "yrs_since_reno -0.01     -0.01      -0.01         0.01      0.01   -0.00   \n",
       "has_bsmnt       0.00      0.16       0.16         0.20     -0.04   -0.26   \n",
       "\n",
       "                waterfront  view  condition  grade  sqft_above  sqft_basement  \\\n",
       "id                    0.00  0.01      -0.01   0.00       -0.01          -0.00   \n",
       "bedrooms             -0.01  0.08       0.03   0.35        0.47           0.30   \n",
       "bathrooms             0.07  0.19      -0.12   0.66        0.69           0.28   \n",
       "sqft_living           0.11  0.28      -0.06   0.76        0.88           0.44   \n",
       "sqft_lot              0.02  0.07      -0.01   0.11        0.18           0.01   \n",
       "floors                0.03  0.03      -0.26   0.46        0.53          -0.25   \n",
       "waterfront            1.00  0.41       0.01   0.09        0.08           0.08   \n",
       "view                  0.41  1.00       0.05   0.25        0.16           0.28   \n",
       "condition             0.01  0.05       1.00  -0.14       -0.16           0.17   \n",
       "grade                 0.09  0.25      -0.14   1.00        0.76           0.17   \n",
       "sqft_above            0.08  0.16      -0.16   0.76        1.00          -0.05   \n",
       "sqft_basement         0.08  0.28       0.17   0.17       -0.05           1.00   \n",
       "yr_built             -0.02 -0.05      -0.36   0.45        0.42          -0.13   \n",
       "yr_renovated          0.09  0.09      -0.06   0.01        0.02           0.07   \n",
       "zipcode               0.03  0.09       0.01  -0.18       -0.26           0.08   \n",
       "lat                  -0.01  0.00      -0.01   0.12        0.00           0.11   \n",
       "long                 -0.04 -0.08      -0.11   0.20        0.34          -0.15   \n",
       "sqft_living15         0.09  0.28      -0.09   0.72        0.73           0.20   \n",
       "sqft_lot15            0.03  0.07      -0.01   0.12        0.19           0.01   \n",
       "year_sold            -0.00  0.00      -0.04  -0.04       -0.03          -0.01   \n",
       "y_old_sold            0.02  0.05       0.36  -0.45       -0.42           0.13   \n",
       "was_renovated         0.09  0.09      -0.06   0.01        0.02           0.07   \n",
       "yrs_since_reno        0.10  0.08      -0.00  -0.03        0.00           0.02   \n",
       "has_bsmnt             0.04  0.19       0.13   0.05       -0.21           0.82   \n",
       "\n",
       "                yr_built  yr_renovated  zipcode   lat  long  sqft_living15  \\\n",
       "id                  0.01         -0.02    -0.01 -0.00  0.02          -0.01   \n",
       "bedrooms            0.15          0.01    -0.15 -0.00  0.12           0.39   \n",
       "bathrooms           0.51          0.05    -0.20  0.02  0.22           0.57   \n",
       "sqft_living         0.32          0.05    -0.20  0.05  0.23           0.76   \n",
       "sqft_lot            0.05          0.00    -0.13 -0.08  0.23           0.14   \n",
       "floors              0.48          0.01    -0.06  0.05  0.13           0.28   \n",
       "waterfront         -0.02          0.09     0.03 -0.01 -0.04           0.09   \n",
       "view               -0.05          0.09     0.09  0.00 -0.08           0.28   \n",
       "condition          -0.36         -0.06     0.01 -0.01 -0.11          -0.09   \n",
       "grade               0.45          0.01    -0.18  0.12  0.20           0.72   \n",
       "sqft_above          0.42          0.02    -0.26  0.00  0.34           0.73   \n",
       "sqft_basement      -0.13          0.07     0.08  0.11 -0.15           0.20   \n",
       "yr_built            1.00         -0.22    -0.35 -0.15  0.41           0.33   \n",
       "yr_renovated       -0.22          1.00     0.06  0.03 -0.06          -0.01   \n",
       "zipcode            -0.35          0.06     1.00  0.26 -0.56          -0.27   \n",
       "lat                -0.15          0.03     0.26  1.00 -0.13           0.05   \n",
       "long                0.41         -0.06    -0.56 -0.13  1.00           0.33   \n",
       "sqft_living15       0.33         -0.01    -0.27  0.05  0.33           1.00   \n",
       "sqft_lot15          0.08          0.00    -0.15 -0.09  0.25           0.18   \n",
       "year_sold           0.00         -0.02     0.00 -0.03  0.00          -0.03   \n",
       "y_old_sold         -1.00          0.22     0.35  0.14 -0.41          -0.33   \n",
       "was_renovated      -0.22          1.00     0.06  0.03 -0.06          -0.01   \n",
       "yrs_since_reno     -0.20          0.75     0.05  0.02 -0.05          -0.02   \n",
       "has_bsmnt          -0.17          0.05     0.17  0.13 -0.24           0.04   \n",
       "\n",
       "                sqft_lot15  year_sold  y_old_sold  was_renovated  \\\n",
       "id                   -0.14       0.01       -0.01          -0.02   \n",
       "bedrooms              0.03      -0.01       -0.15           0.01   \n",
       "bathrooms             0.09      -0.03       -0.51           0.05   \n",
       "sqft_living           0.18      -0.03       -0.32           0.05   \n",
       "sqft_lot              0.70       0.00       -0.05           0.00   \n",
       "floors               -0.01      -0.02       -0.48           0.01   \n",
       "waterfront            0.03      -0.00        0.02           0.09   \n",
       "view                  0.07       0.00        0.05           0.09   \n",
       "condition            -0.01      -0.04        0.36          -0.06   \n",
       "grade                 0.12      -0.04       -0.45           0.01   \n",
       "sqft_above            0.19      -0.03       -0.42           0.02   \n",
       "sqft_basement         0.01      -0.01        0.13           0.07   \n",
       "yr_built              0.08       0.00       -1.00          -0.22   \n",
       "yr_renovated          0.00      -0.02        0.22           1.00   \n",
       "zipcode              -0.15       0.00        0.35           0.06   \n",
       "lat                  -0.09      -0.03        0.14           0.03   \n",
       "long                  0.25       0.00       -0.41          -0.06   \n",
       "sqft_living15         0.18      -0.03       -0.33          -0.01   \n",
       "sqft_lot15            1.00      -0.01       -0.08           0.00   \n",
       "year_sold            -0.01       1.00        0.01          -0.02   \n",
       "y_old_sold           -0.08       0.01        1.00           0.22   \n",
       "was_renovated         0.00      -0.02        0.22           1.00   \n",
       "yrs_since_reno        0.01      -0.01        0.20           0.75   \n",
       "has_bsmnt            -0.04      -0.00        0.17           0.05   \n",
       "\n",
       "                yrs_since_reno  has_bsmnt  \n",
       "id                       -0.01       0.00  \n",
       "bedrooms                 -0.01       0.16  \n",
       "bathrooms                -0.01       0.16  \n",
       "sqft_living               0.01       0.20  \n",
       "sqft_lot                  0.01      -0.04  \n",
       "floors                   -0.00      -0.26  \n",
       "waterfront                0.10       0.04  \n",
       "view                      0.08       0.19  \n",
       "condition                -0.00       0.13  \n",
       "grade                    -0.03       0.05  \n",
       "sqft_above                0.00      -0.21  \n",
       "sqft_basement             0.02       0.82  \n",
       "yr_built                 -0.20      -0.17  \n",
       "yr_renovated              0.75       0.05  \n",
       "zipcode                   0.05       0.17  \n",
       "lat                       0.02       0.13  \n",
       "long                     -0.05      -0.24  \n",
       "sqft_living15            -0.02       0.04  \n",
       "sqft_lot15                0.01      -0.04  \n",
       "year_sold                -0.01      -0.00  \n",
       "y_old_sold                0.20       0.17  \n",
       "was_renovated             0.75       0.05  \n",
       "yrs_since_reno            1.00       0.02  \n",
       "has_bsmnt                 0.02       1.00  "
      ]
     },
     "execution_count": 103,
     "metadata": {},
     "output_type": "execute_result"
    }
   ],
   "source": [
    "## Get the correlation matrix for the data (without the target)\n",
    "corr = df.drop('price',axis=1).corr()\n",
    "corr.round(2)"
   ]
  },
  {
   "cell_type": "markdown",
   "metadata": {},
   "source": [
    "## ƒ: `\"corr_val\"`"
   ]
  },
  {
   "cell_type": "code",
   "execution_count": 104,
   "metadata": {
    "ExecuteTime": {
     "end_time": "2021-06-03T23:31:05.733582Z",
     "start_time": "2021-06-03T23:31:05.721584Z"
    },
    "code_folding": []
   },
   "outputs": [],
   "source": [
    "# Create \"corr_val\" function\n",
    "\n",
    "def corr_val(df,figsize=(15,15),cmap=\"OrRd\",):\n",
    "    \n",
    "    # Calculate correlations\n",
    "    corr = df.corr()\n",
    "       \n",
    "    # Create a mask of the same size as our correlation data\n",
    "    mask = np.zeros_like(corr)\n",
    "    \n",
    "    # Set the upper values of the numpy array to \"True\" to ignore them\n",
    "    mask[np.triu_indices_from(mask)] = True\n",
    "\n",
    "    fig, ax = plt.subplots(figsize=figsize)\n",
    "    \n",
    "    # Mask=mask to hide the upper-right half of values (otherwise mirrored)\n",
    "    sns.heatmap(corr, annot=True,cmap=\"Reds\",mask=mask)\n",
    "    return fig, ax"
   ]
  },
  {
   "cell_type": "code",
   "execution_count": 105,
   "metadata": {
    "ExecuteTime": {
     "end_time": "2021-06-03T23:31:09.490580Z",
     "start_time": "2021-06-03T23:31:05.735581Z"
    },
    "code_folding": []
   },
   "outputs": [
    {
     "data": {
      "image/png": "[encoded data removed]",
      "text/plain": [
       "<Figure size 1440x1440 with 2 Axes>"
      ]
     },
     "metadata": {
      "needs_background": "light"
     },
     "output_type": "display_data"
    }
   ],
   "source": [
    "corr_val(df.drop('price',axis=1), figsize=(20,20));"
   ]
  },
  {
   "cell_type": "code",
   "execution_count": 106,
   "metadata": {
    "ExecuteTime": {
     "end_time": "2021-06-03T23:31:09.536580Z",
     "start_time": "2021-06-03T23:31:09.496582Z"
    },
    "code_folding": []
   },
   "outputs": [],
   "source": [
    "# Correlation results ignoring (most) duplicate values\n",
    "df_corr_results = df.corr().unstack().sort_values(ascending=False).drop_duplicates()"
   ]
  },
  {
   "cell_type": "code",
   "execution_count": 107,
   "metadata": {
    "ExecuteTime": {
     "end_time": "2021-06-03T23:31:09.567581Z",
     "start_time": "2021-06-03T23:31:09.544591Z"
    },
    "code_folding": []
   },
   "outputs": [
    {
     "data": {
      "text/plain": [
       "yr_renovated    was_renovated    1.00\n",
       "sqft_living     sqft_above       0.88\n",
       "has_bsmnt       sqft_basement    0.82\n",
       "sqft_living     grade            0.76\n",
       "grade           sqft_above       0.76\n",
       "sqft_living     bathrooms        0.76\n",
       "sqft_living15   sqft_living      0.76\n",
       "was_renovated   yrs_since_reno   0.75\n",
       "yrs_since_reno  yr_renovated     0.75\n",
       "sqft_living15   sqft_above       0.73\n",
       "dtype: float64"
      ]
     },
     "metadata": {},
     "output_type": "display_data"
    },
    {
     "data": {
      "text/plain": [
       "sqft_living  y_old_sold      -0.32\n",
       "y_old_sold   sqft_living15   -0.33\n",
       "zipcode      yr_built        -0.35\n",
       "condition    yr_built        -0.36\n",
       "long         y_old_sold      -0.41\n",
       "sqft_above   y_old_sold      -0.42\n",
       "y_old_sold   grade           -0.45\n",
       "floors       y_old_sold      -0.48\n",
       "y_old_sold   bathrooms       -0.51\n",
       "zipcode      long            -0.56\n",
       "dtype: float64"
      ]
     },
     "metadata": {},
     "output_type": "display_data"
    }
   ],
   "source": [
    "# Show strongest postive and negative correlations\n",
    "display(df_corr_results[1:11], df_corr_results[-11:-1])"
   ]
  },
  {
   "cell_type": "code",
   "execution_count": 108,
   "metadata": {
    "ExecuteTime": {
     "end_time": "2021-06-03T23:31:09.598580Z",
     "start_time": "2021-06-03T23:31:09.576581Z"
    }
   },
   "outputs": [],
   "source": [
    "# Dropping columns to address multicollinearity (over .8)\n",
    "\n",
    "df.drop(['yr_renovated','sqft_basement','sqft_above'], axis=1, inplace=True)"
   ]
  },
  {
   "cell_type": "code",
   "execution_count": 109,
   "metadata": {
    "ExecuteTime": {
     "end_time": "2021-06-03T23:31:12.185581Z",
     "start_time": "2021-06-03T23:31:09.600581Z"
    }
   },
   "outputs": [
    {
     "data": {
      "image/png": "[encoded data removed]",
      "text/plain": [
       "<Figure size 1440x1440 with 2 Axes>"
      ]
     },
     "metadata": {
      "needs_background": "light"
     },
     "output_type": "display_data"
    }
   ],
   "source": [
    "# Rerunning model\n",
    "\n",
    "corr_val(df.drop('price',axis=1), figsize=(20,20));"
   ]
  },
  {
   "cell_type": "code",
   "execution_count": 110,
   "metadata": {
    "ExecuteTime": {
     "end_time": "2021-06-03T23:31:12.233614Z",
     "start_time": "2021-06-03T23:31:12.188584Z"
    },
    "scrolled": false
   },
   "outputs": [
    {
     "data": {
      "text/plain": [
       "grade           sqft_living     0.76\n",
       "sqft_living     bathrooms       0.76\n",
       "                sqft_living15   0.76\n",
       "yrs_since_reno  was_renovated   0.75\n",
       "sqft_living15   grade           0.72\n",
       "sqft_living     price           0.70\n",
       "sqft_lot        sqft_lot15      0.70\n",
       "price           grade           0.67\n",
       "grade           bathrooms       0.66\n",
       "price           sqft_living15   0.59\n",
       "dtype: float64"
      ]
     },
     "metadata": {},
     "output_type": "display_data"
    },
    {
     "data": {
      "text/plain": [
       "zipcode      sqft_living15   -0.27\n",
       "sqft_living  y_old_sold      -0.32\n",
       "y_old_sold   sqft_living15   -0.33\n",
       "yr_built     zipcode         -0.35\n",
       "condition    yr_built        -0.36\n",
       "long         y_old_sold      -0.41\n",
       "grade        y_old_sold      -0.45\n",
       "y_old_sold   floors          -0.48\n",
       "             bathrooms       -0.51\n",
       "long         zipcode         -0.56\n",
       "dtype: float64"
      ]
     },
     "metadata": {},
     "output_type": "display_data"
    }
   ],
   "source": [
    "# Correlation results ignoring (most) duplicate values\n",
    "df_corr_results = df.corr().unstack().sort_values(ascending=False).drop_duplicates()\n",
    "\n",
    "# Show strongest postive and negative correlations\n",
    "display(df_corr_results[1:11], df_corr_results[-11:-1])"
   ]
  },
  {
   "cell_type": "markdown",
   "metadata": {},
   "source": [
    "### Interpretation of Correlations"
   ]
  },
  {
   "cell_type": "markdown",
   "metadata": {},
   "source": [
    "***\n",
    "**Top 10 Positive Relationships**\n",
    ">* Nothing too surprising as most of the matches are intuitively related.\n",
    ">  * E.g. \"yr_renovated\" and \"was_renovated\" have a nearly-perfect positive correlation as \"was_renovated\" is determined by \"yr_renovated\" in our feature engineering.\n",
    ">\n",
    ">\n",
    ">* Two interesting relationships would be:\n",
    ">  * The living space (ft^2) and grade\n",
    ">    * Indicates that a larger house has a higher grade\n",
    "> * The living space (ft^2) of the 15 nearest houses sold\n",
    ">   * Indicates a larger area above ground (ft^2)\n",
    ">    * Perhaps larger houses are more likely to be nearby each other?\n",
    "***\n",
    "**Top 10 Negative Relationships**\n",
    ">* Older houses may have fewer bathrooms\n",
    ">* Older houses may have fewer floors\n",
    ">* Older houses have a lower grade\n",
    "***"
   ]
  },
  {
   "cell_type": "markdown",
   "metadata": {},
   "source": [
    "# **Statistical Testing**"
   ]
  },
  {
   "cell_type": "markdown",
   "metadata": {},
   "source": [
    "## One-Way ANOVA"
   ]
  },
  {
   "cell_type": "markdown",
   "metadata": {},
   "source": [
    "### *Testing `'condition'`*"
   ]
  },
  {
   "cell_type": "markdown",
   "metadata": {},
   "source": [
    "* H0: The feature \"condition\" does not have an effect on price.\n",
    "\n",
    "* Ha: The feature \"condition\" does  have an effect on price.\n"
   ]
  },
  {
   "cell_type": "code",
   "execution_count": 111,
   "metadata": {
    "ExecuteTime": {
     "end_time": "2021-06-03T23:31:12.248612Z",
     "start_time": "2021-06-03T23:31:12.235593Z"
    }
   },
   "outputs": [],
   "source": [
    "## Defining variables for the prices of each value of conditions\n",
    "\n",
    "condition_1 = df.loc[df['condition'] == 1, 'price']\n",
    "condition_2 = df.loc[df['condition'] == 2, 'price']\n",
    "condition_3 = df.loc[df['condition'] == 3, 'price']\n",
    "condition_4 = df.loc[df['condition'] == 4, 'price']\n",
    "condition_5 = df.loc[df['condition'] == 5, 'price']"
   ]
  },
  {
   "cell_type": "code",
   "execution_count": 112,
   "metadata": {
    "ExecuteTime": {
     "end_time": "2021-06-03T23:31:12.264579Z",
     "start_time": "2021-06-03T23:31:12.250581Z"
    }
   },
   "outputs": [
    {
     "name": "stdout",
     "output_type": "stream",
     "text": [
      "The condition of a home is statistically significant with a p-value of 6.813536869427384e-24.\n"
     ]
    }
   ],
   "source": [
    "## Running ANOVA test to determine significance\n",
    "\n",
    "# Define alpha\n",
    "alpha = .05\n",
    "\n",
    "# Run test\n",
    "result = stats.f_oneway(condition_1, condition_2, condition_3, condition_4, condition_5)\n",
    "f_stat, p_value = result\n",
    "\n",
    "# Evaluate if significant or not\n",
    "if p_value < .05:\n",
    "    print(f'The condition of a home is statistically significant with a p-value of {p_value}.')\n",
    "    \n",
    "else:\n",
    "     print(f'The condition of a home is not statistically significant with a p-value of {p_value}.')"
   ]
  },
  {
   "cell_type": "code",
   "execution_count": 113,
   "metadata": {
    "ExecuteTime": {
     "end_time": "2021-06-03T23:31:12.730581Z",
     "start_time": "2021-06-03T23:31:12.266581Z"
    }
   },
   "outputs": [
    {
     "data": {
      "image/png": "[encoded data removed]",
      "text/plain": [
       "<Figure size 748.8x514.8 with 1 Axes>"
      ]
     },
     "metadata": {
      "needs_background": "light"
     },
     "output_type": "display_data"
    }
   ],
   "source": [
    "# Show visual of conclusion\n",
    "\n",
    "sns.barplot(data=df, x= 'condition', y = 'price', ci=68)\n",
    "plt.suptitle(\"Conditon's Affect on Price\", size = (20))\n",
    "plt.xlabel('Condition')\n",
    "plt.ylabel('Price ($)');"
   ]
  },
  {
   "cell_type": "markdown",
   "metadata": {},
   "source": [
    "#### Interpretation"
   ]
  },
  {
   "cell_type": "markdown",
   "metadata": {},
   "source": [
    "> The t-test shows that the condition of a house is statistically significant due to the p-value below our alpha of .05.\n",
    ">\n",
    "> This means that the quality of a house will have a statistically significant impact on the sell price."
   ]
  },
  {
   "cell_type": "markdown",
   "metadata": {},
   "source": [
    "## Two-Sample T-Tests"
   ]
  },
  {
   "cell_type": "markdown",
   "metadata": {},
   "source": [
    "### *Testing  `'waterfront'`*"
   ]
  },
  {
   "cell_type": "markdown",
   "metadata": {},
   "source": [
    "* H0: The feature \"waterfront\" does not have an effect on price.\n",
    "\n",
    "* Ha: The feature \"waterfront\" does  have an effect on price.\n",
    "\n",
    "\n",
    "* Alpha = .05"
   ]
  },
  {
   "cell_type": "code",
   "execution_count": 114,
   "metadata": {
    "ExecuteTime": {
     "end_time": "2021-06-03T23:31:12.746597Z",
     "start_time": "2021-06-03T23:31:12.732580Z"
    }
   },
   "outputs": [],
   "source": [
    "# Set variables to represent whether or not a property is listed as 'waterfront.'\n",
    "\n",
    "wf_yes = df.loc[df['waterfront'] == 1, 'price']\n",
    "wf_no = df.loc[df['waterfront'] == 0, 'price']"
   ]
  },
  {
   "cell_type": "code",
   "execution_count": 115,
   "metadata": {
    "ExecuteTime": {
     "end_time": "2021-06-03T23:31:12.761608Z",
     "start_time": "2021-06-03T23:31:12.748580Z"
    }
   },
   "outputs": [
    {
     "name": "stdout",
     "output_type": "stream",
     "text": [
      "The feature \"Waterfront\" is statistically significant with a p-value of 2.465038317654299e-299.\n"
     ]
    },
    {
     "data": {
      "text/plain": [
       "2.465038317654299e-299"
      ]
     },
     "execution_count": 115,
     "metadata": {},
     "output_type": "execute_result"
    }
   ],
   "source": [
    "ttest_review(wf_yes, wf_no, feature_name = 'Waterfront')"
   ]
  },
  {
   "cell_type": "code",
   "execution_count": 116,
   "metadata": {
    "ExecuteTime": {
     "end_time": "2021-06-03T23:31:13.086594Z",
     "start_time": "2021-06-03T23:31:12.763581Z"
    }
   },
   "outputs": [
    {
     "data": {
      "image/png": "[encoded data removed]",
      "text/plain": [
       "<Figure size 748.8x514.8 with 1 Axes>"
      ]
     },
     "metadata": {
      "needs_background": "light"
     },
     "output_type": "display_data"
    }
   ],
   "source": [
    "# Show visual of conclusion\n",
    "\n",
    "sns.barplot(data=df, x= 'waterfront', y = 'price', ci=68);"
   ]
  },
  {
   "cell_type": "markdown",
   "metadata": {},
   "source": [
    "#### Interpretation"
   ]
  },
  {
   "cell_type": "markdown",
   "metadata": {},
   "source": [
    "> The t-test shows that waterfront is statistically significant due to the p-value below our alpha of .05.\n",
    ">\n",
    "> This means that having a house on the waterfront will have a significant impact on the sell price."
   ]
  },
  {
   "cell_type": "markdown",
   "metadata": {},
   "source": [
    "### *Testing `\"was_renovated\"`*"
   ]
  },
  {
   "cell_type": "markdown",
   "metadata": {},
   "source": [
    "**Hypotheses**\n",
    "\n",
    "---\n",
    ">**H0:** There is not a statistically significant difference in price in homes with a basement than those without.\n",
    ">\n",
    ">**HA:** There is a statistically significant difference in price in homes with a basement than those without.\n",
    "---"
   ]
  },
  {
   "cell_type": "code",
   "execution_count": 117,
   "metadata": {
    "ExecuteTime": {
     "end_time": "2021-06-03T23:31:13.102580Z",
     "start_time": "2021-06-03T23:31:13.089582Z"
    }
   },
   "outputs": [],
   "source": [
    "reno_y = df.loc[df['was_renovated'] == 1, 'price']\n",
    "reno_n = df.loc[df['was_renovated'] == 0, 'price']\n"
   ]
  },
  {
   "cell_type": "code",
   "execution_count": 118,
   "metadata": {
    "ExecuteTime": {
     "end_time": "2021-06-03T23:31:13.117580Z",
     "start_time": "2021-06-03T23:31:13.105585Z"
    }
   },
   "outputs": [
    {
     "name": "stdout",
     "output_type": "stream",
     "text": [
      "The feature \"was_renovated\" is statistically significant with a p-value of 4.007705820364685e-54.\n"
     ]
    },
    {
     "data": {
      "text/plain": [
       "4.007705820364685e-54"
      ]
     },
     "execution_count": 118,
     "metadata": {},
     "output_type": "execute_result"
    }
   ],
   "source": [
    "ttest_review(reno_y, reno_n, \"was_renovated\")"
   ]
  },
  {
   "cell_type": "code",
   "execution_count": 119,
   "metadata": {
    "ExecuteTime": {
     "end_time": "2021-06-03T23:31:13.459580Z",
     "start_time": "2021-06-03T23:31:13.120581Z"
    },
    "scrolled": false
   },
   "outputs": [
    {
     "data": {
      "image/png": "[encoded data removed]",
      "text/plain": [
       "<Figure size 748.8x514.8 with 1 Axes>"
      ]
     },
     "metadata": {
      "needs_background": "light"
     },
     "output_type": "display_data"
    }
   ],
   "source": [
    "# Show visual of conclusion\n",
    "\n",
    "sns.barplot(data=df, x= 'was_renovated', y = 'price', ci=68);"
   ]
  },
  {
   "cell_type": "markdown",
   "metadata": {},
   "source": [
    "#### Interpretation"
   ]
  },
  {
   "cell_type": "markdown",
   "metadata": {},
   "source": [
    "> The t-test shows that having a basement is statistically significant due to the p-value below our alpha of .05.\n",
    ">\n",
    "> This means that having a house with a basement will have a significant impact on the sell price."
   ]
  },
  {
   "cell_type": "markdown",
   "metadata": {},
   "source": [
    "# **Modeling**"
   ]
  },
  {
   "cell_type": "markdown",
   "metadata": {},
   "source": [
    "## Baseline Model"
   ]
  },
  {
   "cell_type": "code",
   "execution_count": 120,
   "metadata": {
    "ExecuteTime": {
     "end_time": "2021-06-03T23:31:13.569581Z",
     "start_time": "2021-06-03T23:31:13.462584Z"
    },
    "scrolled": true
   },
   "outputs": [
    {
     "data": {
      "text/html": [
       "<div>\n",
       "<style scoped>\n",
       "    .dataframe tbody tr th:only-of-type {\n",
       "        vertical-align: middle;\n",
       "    }\n",
       "\n",
       "    .dataframe tbody tr th {\n",
       "        vertical-align: top;\n",
       "    }\n",
       "\n",
       "    .dataframe thead th {\n",
       "        text-align: right;\n",
       "    }\n",
       "</style>\n",
       "<table border=\"1\" class=\"dataframe\">\n",
       "  <thead>\n",
       "    <tr style=\"text-align: right;\">\n",
       "      <th></th>\n",
       "      <th>id</th>\n",
       "      <th>price</th>\n",
       "      <th>bedrooms</th>\n",
       "      <th>bathrooms</th>\n",
       "      <th>sqft_living</th>\n",
       "      <th>sqft_lot</th>\n",
       "      <th>floors</th>\n",
       "      <th>waterfront</th>\n",
       "      <th>view</th>\n",
       "      <th>condition</th>\n",
       "      <th>grade</th>\n",
       "      <th>yr_built</th>\n",
       "      <th>zipcode</th>\n",
       "      <th>lat</th>\n",
       "      <th>long</th>\n",
       "      <th>sqft_living15</th>\n",
       "      <th>sqft_lot15</th>\n",
       "      <th>year_sold</th>\n",
       "      <th>y_old_sold</th>\n",
       "      <th>was_renovated</th>\n",
       "      <th>yrs_since_reno</th>\n",
       "      <th>has_bsmnt</th>\n",
       "    </tr>\n",
       "  </thead>\n",
       "  <tbody>\n",
       "    <tr>\n",
       "      <th>count</th>\n",
       "      <td>17,290.00</td>\n",
       "      <td>17,290.00</td>\n",
       "      <td>17,290.00</td>\n",
       "      <td>17,290.00</td>\n",
       "      <td>17,290.00</td>\n",
       "      <td>17,290.00</td>\n",
       "      <td>17,290.00</td>\n",
       "      <td>17,290.00</td>\n",
       "      <td>17,290.00</td>\n",
       "      <td>17,290.00</td>\n",
       "      <td>17,290.00</td>\n",
       "      <td>17,290.00</td>\n",
       "      <td>17,290.00</td>\n",
       "      <td>17,290.00</td>\n",
       "      <td>17,290.00</td>\n",
       "      <td>17,290.00</td>\n",
       "      <td>17,290.00</td>\n",
       "      <td>17,290.00</td>\n",
       "      <td>17,290.00</td>\n",
       "      <td>17,290.00</td>\n",
       "      <td>17,290.00</td>\n",
       "      <td>17,290.00</td>\n",
       "    </tr>\n",
       "    <tr>\n",
       "      <th>mean</th>\n",
       "      <td>4,565,501,756.44</td>\n",
       "      <td>540,739.55</td>\n",
       "      <td>3.37</td>\n",
       "      <td>2.11</td>\n",
       "      <td>2,081.46</td>\n",
       "      <td>15,243.40</td>\n",
       "      <td>1.49</td>\n",
       "      <td>0.01</td>\n",
       "      <td>0.24</td>\n",
       "      <td>3.41</td>\n",
       "      <td>7.65</td>\n",
       "      <td>1,970.79</td>\n",
       "      <td>98,078.19</td>\n",
       "      <td>47.56</td>\n",
       "      <td>-122.21</td>\n",
       "      <td>1,987.99</td>\n",
       "      <td>12,873.48</td>\n",
       "      <td>2,014.32</td>\n",
       "      <td>43.53</td>\n",
       "      <td>0.04</td>\n",
       "      <td>0.77</td>\n",
       "      <td>0.39</td>\n",
       "    </tr>\n",
       "    <tr>\n",
       "      <th>std</th>\n",
       "      <td>2,874,655,595.36</td>\n",
       "      <td>373,318.98</td>\n",
       "      <td>0.94</td>\n",
       "      <td>0.77</td>\n",
       "      <td>920.02</td>\n",
       "      <td>42,304.62</td>\n",
       "      <td>0.54</td>\n",
       "      <td>0.09</td>\n",
       "      <td>0.78</td>\n",
       "      <td>0.65</td>\n",
       "      <td>1.17</td>\n",
       "      <td>29.34</td>\n",
       "      <td>53.61</td>\n",
       "      <td>0.14</td>\n",
       "      <td>0.14</td>\n",
       "      <td>684.80</td>\n",
       "      <td>27,227.44</td>\n",
       "      <td>0.47</td>\n",
       "      <td>29.35</td>\n",
       "      <td>0.20</td>\n",
       "      <td>4.89</td>\n",
       "      <td>0.49</td>\n",
       "    </tr>\n",
       "    <tr>\n",
       "      <th>min</th>\n",
       "      <td>1,000,102.00</td>\n",
       "      <td>75,000.00</td>\n",
       "      <td>0.00</td>\n",
       "      <td>0.00</td>\n",
       "      <td>290.00</td>\n",
       "      <td>572.00</td>\n",
       "      <td>1.00</td>\n",
       "      <td>0.00</td>\n",
       "      <td>0.00</td>\n",
       "      <td>1.00</td>\n",
       "      <td>1.00</td>\n",
       "      <td>1,900.00</td>\n",
       "      <td>98,001.00</td>\n",
       "      <td>47.16</td>\n",
       "      <td>-122.52</td>\n",
       "      <td>399.00</td>\n",
       "      <td>659.00</td>\n",
       "      <td>2,014.00</td>\n",
       "      <td>-1.00</td>\n",
       "      <td>0.00</td>\n",
       "      <td>-1.00</td>\n",
       "      <td>0.00</td>\n",
       "    </tr>\n",
       "    <tr>\n",
       "      <th>25%</th>\n",
       "      <td>2,114,700,558.75</td>\n",
       "      <td>321,000.00</td>\n",
       "      <td>3.00</td>\n",
       "      <td>1.50</td>\n",
       "      <td>1,430.00</td>\n",
       "      <td>5,081.25</td>\n",
       "      <td>1.00</td>\n",
       "      <td>0.00</td>\n",
       "      <td>0.00</td>\n",
       "      <td>3.00</td>\n",
       "      <td>7.00</td>\n",
       "      <td>1,951.00</td>\n",
       "      <td>98,033.00</td>\n",
       "      <td>47.47</td>\n",
       "      <td>-122.33</td>\n",
       "      <td>1,490.00</td>\n",
       "      <td>5,111.25</td>\n",
       "      <td>2,014.00</td>\n",
       "      <td>18.00</td>\n",
       "      <td>0.00</td>\n",
       "      <td>0.00</td>\n",
       "      <td>0.00</td>\n",
       "    </tr>\n",
       "    <tr>\n",
       "      <th>50%</th>\n",
       "      <td>3,903,650,042.50</td>\n",
       "      <td>450,000.00</td>\n",
       "      <td>3.00</td>\n",
       "      <td>2.25</td>\n",
       "      <td>1,920.00</td>\n",
       "      <td>7,642.00</td>\n",
       "      <td>1.50</td>\n",
       "      <td>0.00</td>\n",
       "      <td>0.00</td>\n",
       "      <td>3.00</td>\n",
       "      <td>7.00</td>\n",
       "      <td>1,974.00</td>\n",
       "      <td>98,065.00</td>\n",
       "      <td>47.57</td>\n",
       "      <td>-122.23</td>\n",
       "      <td>1,840.00</td>\n",
       "      <td>7,622.50</td>\n",
       "      <td>2,014.00</td>\n",
       "      <td>40.00</td>\n",
       "      <td>0.00</td>\n",
       "      <td>0.00</td>\n",
       "      <td>0.00</td>\n",
       "    </tr>\n",
       "    <tr>\n",
       "      <th>75%</th>\n",
       "      <td>7,301,150,051.50</td>\n",
       "      <td>645,000.00</td>\n",
       "      <td>4.00</td>\n",
       "      <td>2.50</td>\n",
       "      <td>2,550.00</td>\n",
       "      <td>10,725.75</td>\n",
       "      <td>2.00</td>\n",
       "      <td>0.00</td>\n",
       "      <td>0.00</td>\n",
       "      <td>4.00</td>\n",
       "      <td>8.00</td>\n",
       "      <td>1,996.00</td>\n",
       "      <td>98,118.00</td>\n",
       "      <td>47.68</td>\n",
       "      <td>-122.13</td>\n",
       "      <td>2,360.00</td>\n",
       "      <td>10,101.75</td>\n",
       "      <td>2,015.00</td>\n",
       "      <td>63.00</td>\n",
       "      <td>0.00</td>\n",
       "      <td>0.00</td>\n",
       "      <td>1.00</td>\n",
       "    </tr>\n",
       "    <tr>\n",
       "      <th>max</th>\n",
       "      <td>9,900,000,190.00</td>\n",
       "      <td>7,700,000.00</td>\n",
       "      <td>33.00</td>\n",
       "      <td>8.00</td>\n",
       "      <td>13,540.00</td>\n",
       "      <td>1,651,359.00</td>\n",
       "      <td>3.50</td>\n",
       "      <td>1.00</td>\n",
       "      <td>4.00</td>\n",
       "      <td>5.00</td>\n",
       "      <td>13.00</td>\n",
       "      <td>2,015.00</td>\n",
       "      <td>98,199.00</td>\n",
       "      <td>47.78</td>\n",
       "      <td>-121.31</td>\n",
       "      <td>6,210.00</td>\n",
       "      <td>858,132.00</td>\n",
       "      <td>2,015.00</td>\n",
       "      <td>115.00</td>\n",
       "      <td>1.00</td>\n",
       "      <td>80.00</td>\n",
       "      <td>1.00</td>\n",
       "    </tr>\n",
       "  </tbody>\n",
       "</table>\n",
       "</div>"
      ],
      "text/plain": [
       "                    id        price  bedrooms  bathrooms  sqft_living  \\\n",
       "count        17,290.00    17,290.00 17,290.00  17,290.00    17,290.00   \n",
       "mean  4,565,501,756.44   540,739.55      3.37       2.11     2,081.46   \n",
       "std   2,874,655,595.36   373,318.98      0.94       0.77       920.02   \n",
       "min       1,000,102.00    75,000.00      0.00       0.00       290.00   \n",
       "25%   2,114,700,558.75   321,000.00      3.00       1.50     1,430.00   \n",
       "50%   3,903,650,042.50   450,000.00      3.00       2.25     1,920.00   \n",
       "75%   7,301,150,051.50   645,000.00      4.00       2.50     2,550.00   \n",
       "max   9,900,000,190.00 7,700,000.00     33.00       8.00    13,540.00   \n",
       "\n",
       "          sqft_lot    floors  waterfront      view  condition     grade  \\\n",
       "count    17,290.00 17,290.00   17,290.00 17,290.00  17,290.00 17,290.00   \n",
       "mean     15,243.40      1.49        0.01      0.24       3.41      7.65   \n",
       "std      42,304.62      0.54        0.09      0.78       0.65      1.17   \n",
       "min         572.00      1.00        0.00      0.00       1.00      1.00   \n",
       "25%       5,081.25      1.00        0.00      0.00       3.00      7.00   \n",
       "50%       7,642.00      1.50        0.00      0.00       3.00      7.00   \n",
       "75%      10,725.75      2.00        0.00      0.00       4.00      8.00   \n",
       "max   1,651,359.00      3.50        1.00      4.00       5.00     13.00   \n",
       "\n",
       "       yr_built   zipcode       lat      long  sqft_living15  sqft_lot15  \\\n",
       "count 17,290.00 17,290.00 17,290.00 17,290.00      17,290.00   17,290.00   \n",
       "mean   1,970.79 98,078.19     47.56   -122.21       1,987.99   12,873.48   \n",
       "std       29.34     53.61      0.14      0.14         684.80   27,227.44   \n",
       "min    1,900.00 98,001.00     47.16   -122.52         399.00      659.00   \n",
       "25%    1,951.00 98,033.00     47.47   -122.33       1,490.00    5,111.25   \n",
       "50%    1,974.00 98,065.00     47.57   -122.23       1,840.00    7,622.50   \n",
       "75%    1,996.00 98,118.00     47.68   -122.13       2,360.00   10,101.75   \n",
       "max    2,015.00 98,199.00     47.78   -121.31       6,210.00  858,132.00   \n",
       "\n",
       "       year_sold  y_old_sold  was_renovated  yrs_since_reno  has_bsmnt  \n",
       "count  17,290.00   17,290.00      17,290.00       17,290.00  17,290.00  \n",
       "mean    2,014.32       43.53           0.04            0.77       0.39  \n",
       "std         0.47       29.35           0.20            4.89       0.49  \n",
       "min     2,014.00       -1.00           0.00           -1.00       0.00  \n",
       "25%     2,014.00       18.00           0.00            0.00       0.00  \n",
       "50%     2,014.00       40.00           0.00            0.00       0.00  \n",
       "75%     2,015.00       63.00           0.00            0.00       1.00  \n",
       "max     2,015.00      115.00           1.00           80.00       1.00  "
      ]
     },
     "execution_count": 120,
     "metadata": {},
     "output_type": "execute_result"
    }
   ],
   "source": [
    "df.describe()"
   ]
  },
  {
   "cell_type": "code",
   "execution_count": 121,
   "metadata": {
    "ExecuteTime": {
     "end_time": "2021-06-03T23:31:14.358579Z",
     "start_time": "2021-06-03T23:31:13.571580Z"
    }
   },
   "outputs": [
    {
     "name": "stdout",
     "output_type": "stream",
     "text": [
      "price~+y_old_sold+yrs_since_reno+bedrooms+bathrooms+condition+grade+floors+C(was_renovated)+C(has_bsmnt)+C(waterfront)\n"
     ]
    },
    {
     "data": {
      "text/html": [
       "<table class=\"simpletable\">\n",
       "<caption>OLS Regression Results</caption>\n",
       "<tr>\n",
       "  <th>Dep. Variable:</th>          <td>price</td>      <th>  R-squared:         </th>  <td>   0.599</td>  \n",
       "</tr>\n",
       "<tr>\n",
       "  <th>Model:</th>                   <td>OLS</td>       <th>  Adj. R-squared:    </th>  <td>   0.598</td>  \n",
       "</tr>\n",
       "<tr>\n",
       "  <th>Method:</th>             <td>Least Squares</td>  <th>  F-statistic:       </th>  <td>   2576.</td>  \n",
       "</tr>\n",
       "<tr>\n",
       "  <th>Date:</th>             <td>Thu, 03 Jun 2021</td> <th>  Prob (F-statistic):</th>   <td>  0.00</td>   \n",
       "</tr>\n",
       "<tr>\n",
       "  <th>Time:</th>                 <td>19:31:13</td>     <th>  Log-Likelihood:    </th> <td>-2.3848e+05</td>\n",
       "</tr>\n",
       "<tr>\n",
       "  <th>No. Observations:</th>      <td> 17290</td>      <th>  AIC:               </th>  <td>4.770e+05</td> \n",
       "</tr>\n",
       "<tr>\n",
       "  <th>Df Residuals:</th>          <td> 17279</td>      <th>  BIC:               </th>  <td>4.771e+05</td> \n",
       "</tr>\n",
       "<tr>\n",
       "  <th>Df Model:</th>              <td>    10</td>      <th>                     </th>      <td> </td>     \n",
       "</tr>\n",
       "<tr>\n",
       "  <th>Covariance Type:</th>      <td>nonrobust</td>    <th>                     </th>      <td> </td>     \n",
       "</tr>\n",
       "</table>\n",
       "<table class=\"simpletable\">\n",
       "<tr>\n",
       "            <td></td>               <th>coef</th>     <th>std err</th>      <th>t</th>      <th>P>|t|</th>  <th>[0.025</th>    <th>0.975]</th>  \n",
       "</tr>\n",
       "<tr>\n",
       "  <th>Intercept</th>             <td>-1.531e+06</td> <td> 1.81e+04</td> <td>  -84.504</td> <td> 0.000</td> <td>-1.57e+06</td> <td> -1.5e+06</td>\n",
       "</tr>\n",
       "<tr>\n",
       "  <th>C(was_renovated)[T.1]</th> <td> 5.842e+04</td> <td> 1.41e+04</td> <td>    4.130</td> <td> 0.000</td> <td> 3.07e+04</td> <td> 8.62e+04</td>\n",
       "</tr>\n",
       "<tr>\n",
       "  <th>C(has_bsmnt)[T.1]</th>     <td> 3.158e+04</td> <td> 4156.712</td> <td>    7.597</td> <td> 0.000</td> <td> 2.34e+04</td> <td> 3.97e+04</td>\n",
       "</tr>\n",
       "<tr>\n",
       "  <th>C(waterfront)[T.1]</th>    <td> 8.042e+05</td> <td> 2.05e+04</td> <td>   39.232</td> <td> 0.000</td> <td> 7.64e+05</td> <td> 8.44e+05</td>\n",
       "</tr>\n",
       "<tr>\n",
       "  <th>y_old_sold</th>            <td> 4325.6941</td> <td>   85.480</td> <td>   50.605</td> <td> 0.000</td> <td> 4158.144</td> <td> 4493.244</td>\n",
       "</tr>\n",
       "<tr>\n",
       "  <th>yrs_since_reno</th>        <td>-2511.5735</td> <td>  564.503</td> <td>   -4.449</td> <td> 0.000</td> <td>-3618.057</td> <td>-1405.090</td>\n",
       "</tr>\n",
       "<tr>\n",
       "  <th>bedrooms</th>              <td>-2081.5430</td> <td> 2266.058</td> <td>   -0.919</td> <td> 0.358</td> <td>-6523.247</td> <td> 2360.161</td>\n",
       "</tr>\n",
       "<tr>\n",
       "  <th>bathrooms</th>             <td>  1.25e+05</td> <td> 3930.644</td> <td>   31.793</td> <td> 0.000</td> <td> 1.17e+05</td> <td> 1.33e+05</td>\n",
       "</tr>\n",
       "<tr>\n",
       "  <th>condition</th>             <td> 2.008e+04</td> <td> 3045.263</td> <td>    6.594</td> <td> 0.000</td> <td> 1.41e+04</td> <td>  2.6e+04</td>\n",
       "</tr>\n",
       "<tr>\n",
       "  <th>grade</th>                 <td>  1.98e+05</td> <td> 2117.430</td> <td>   93.491</td> <td> 0.000</td> <td> 1.94e+05</td> <td> 2.02e+05</td>\n",
       "</tr>\n",
       "<tr>\n",
       "  <th>floors</th>                <td> 1.586e+04</td> <td> 4400.252</td> <td>    3.604</td> <td> 0.000</td> <td> 7232.686</td> <td> 2.45e+04</td>\n",
       "</tr>\n",
       "</table>\n",
       "<table class=\"simpletable\">\n",
       "<tr>\n",
       "  <th>Omnibus:</th>       <td>15571.873</td> <th>  Durbin-Watson:     </th>  <td>   1.991</td>  \n",
       "</tr>\n",
       "<tr>\n",
       "  <th>Prob(Omnibus):</th>  <td> 0.000</td>   <th>  Jarque-Bera (JB):  </th> <td>1844101.619</td>\n",
       "</tr>\n",
       "<tr>\n",
       "  <th>Skew:</th>           <td> 3.873</td>   <th>  Prob(JB):          </th>  <td>    0.00</td>  \n",
       "</tr>\n",
       "<tr>\n",
       "  <th>Kurtosis:</th>       <td>52.998</td>   <th>  Cond. No.          </th>  <td>    610.</td>  \n",
       "</tr>\n",
       "</table><br/><br/>Notes:<br/>[1] Standard Errors assume that the covariance matrix of the errors is correctly specified."
      ],
      "text/plain": [
       "<class 'statsmodels.iolib.summary.Summary'>\n",
       "\"\"\"\n",
       "                            OLS Regression Results                            \n",
       "==============================================================================\n",
       "Dep. Variable:                  price   R-squared:                       0.599\n",
       "Model:                            OLS   Adj. R-squared:                  0.598\n",
       "Method:                 Least Squares   F-statistic:                     2576.\n",
       "Date:                Thu, 03 Jun 2021   Prob (F-statistic):               0.00\n",
       "Time:                        19:31:13   Log-Likelihood:            -2.3848e+05\n",
       "No. Observations:               17290   AIC:                         4.770e+05\n",
       "Df Residuals:                   17279   BIC:                         4.771e+05\n",
       "Df Model:                          10                                         \n",
       "Covariance Type:            nonrobust                                         \n",
       "=========================================================================================\n",
       "                            coef    std err          t      P>|t|      [0.025      0.975]\n",
       "-----------------------------------------------------------------------------------------\n",
       "Intercept             -1.531e+06   1.81e+04    -84.504      0.000   -1.57e+06    -1.5e+06\n",
       "C(was_renovated)[T.1]  5.842e+04   1.41e+04      4.130      0.000    3.07e+04    8.62e+04\n",
       "C(has_bsmnt)[T.1]      3.158e+04   4156.712      7.597      0.000    2.34e+04    3.97e+04\n",
       "C(waterfront)[T.1]     8.042e+05   2.05e+04     39.232      0.000    7.64e+05    8.44e+05\n",
       "y_old_sold             4325.6941     85.480     50.605      0.000    4158.144    4493.244\n",
       "yrs_since_reno        -2511.5735    564.503     -4.449      0.000   -3618.057   -1405.090\n",
       "bedrooms              -2081.5430   2266.058     -0.919      0.358   -6523.247    2360.161\n",
       "bathrooms               1.25e+05   3930.644     31.793      0.000    1.17e+05    1.33e+05\n",
       "condition              2.008e+04   3045.263      6.594      0.000    1.41e+04     2.6e+04\n",
       "grade                   1.98e+05   2117.430     93.491      0.000    1.94e+05    2.02e+05\n",
       "floors                 1.586e+04   4400.252      3.604      0.000    7232.686    2.45e+04\n",
       "==============================================================================\n",
       "Omnibus:                    15571.873   Durbin-Watson:                   1.991\n",
       "Prob(Omnibus):                  0.000   Jarque-Bera (JB):          1844101.619\n",
       "Skew:                           3.873   Prob(JB):                         0.00\n",
       "Kurtosis:                      52.998   Cond. No.                         610.\n",
       "==============================================================================\n",
       "\n",
       "Notes:\n",
       "[1] Standard Errors assume that the covariance matrix of the errors is correctly specified.\n",
       "\"\"\""
      ]
     },
     "metadata": {},
     "output_type": "display_data"
    },
    {
     "data": {
      "image/png": "[encoded data removed]",
      "text/plain": [
       "<Figure size 720x360 with 2 Axes>"
      ]
     },
     "metadata": {
      "needs_background": "light"
     },
     "output_type": "display_data"
    }
   ],
   "source": [
    "categorical_features = ['was_renovated','has_bsmnt', 'waterfront']\n",
    "\n",
    "continuous_features = ['y_old_sold','yrs_since_reno', 'bedrooms', 'bathrooms',\n",
    "                       'condition','grade', 'floors']\n",
    "\n",
    "create_model(df,continuous_features,categorical_features,model_name='model1');"
   ]
  },
  {
   "cell_type": "markdown",
   "metadata": {},
   "source": [
    "Interpretation:\n",
    "\n",
    "* R^2: ~.6, less than target of .75\n",
    "\n",
    "* Residual plots show heteroscedasticity\n",
    "\n",
    "* Q-Q Plot shows non-normal residuals\n",
    "\n",
    "* Changes: remove outliers and retest"
   ]
  },
  {
   "cell_type": "markdown",
   "metadata": {},
   "source": [
    "## Model - W/O Outliers"
   ]
  },
  {
   "cell_type": "markdown",
   "metadata": {},
   "source": [
    "### ✨ Cleaning 'Price' Data"
   ]
  },
  {
   "cell_type": "code",
   "execution_count": 122,
   "metadata": {
    "ExecuteTime": {
     "end_time": "2021-06-03T23:31:14.404579Z",
     "start_time": "2021-06-03T23:31:14.360581Z"
    }
   },
   "outputs": [
    {
     "data": {
      "text/html": [
       "<div>\n",
       "<style scoped>\n",
       "    .dataframe tbody tr th:only-of-type {\n",
       "        vertical-align: middle;\n",
       "    }\n",
       "\n",
       "    .dataframe tbody tr th {\n",
       "        vertical-align: top;\n",
       "    }\n",
       "\n",
       "    .dataframe thead th {\n",
       "        text-align: right;\n",
       "    }\n",
       "</style>\n",
       "<table border=\"1\" class=\"dataframe\">\n",
       "  <thead>\n",
       "    <tr style=\"text-align: right;\">\n",
       "      <th></th>\n",
       "      <th>id</th>\n",
       "      <th>date</th>\n",
       "      <th>price</th>\n",
       "      <th>bedrooms</th>\n",
       "      <th>bathrooms</th>\n",
       "      <th>sqft_living</th>\n",
       "      <th>sqft_lot</th>\n",
       "      <th>floors</th>\n",
       "      <th>waterfront</th>\n",
       "      <th>view</th>\n",
       "      <th>condition</th>\n",
       "      <th>grade</th>\n",
       "      <th>yr_built</th>\n",
       "      <th>zipcode</th>\n",
       "      <th>lat</th>\n",
       "      <th>long</th>\n",
       "      <th>sqft_living15</th>\n",
       "      <th>sqft_lot15</th>\n",
       "      <th>year_sold</th>\n",
       "      <th>y_old_sold</th>\n",
       "      <th>was_renovated</th>\n",
       "      <th>yrs_since_reno</th>\n",
       "      <th>has_bsmnt</th>\n",
       "    </tr>\n",
       "  </thead>\n",
       "  <tbody>\n",
       "    <tr>\n",
       "      <th>0</th>\n",
       "      <td>2591820310</td>\n",
       "      <td>20141006T000000</td>\n",
       "      <td>365,000.00</td>\n",
       "      <td>4</td>\n",
       "      <td>2.25</td>\n",
       "      <td>2070</td>\n",
       "      <td>8893</td>\n",
       "      <td>2.00</td>\n",
       "      <td>0</td>\n",
       "      <td>0</td>\n",
       "      <td>4</td>\n",
       "      <td>8</td>\n",
       "      <td>1986</td>\n",
       "      <td>98058</td>\n",
       "      <td>47.44</td>\n",
       "      <td>-122.16</td>\n",
       "      <td>2390</td>\n",
       "      <td>7700</td>\n",
       "      <td>2014</td>\n",
       "      <td>28</td>\n",
       "      <td>0</td>\n",
       "      <td>0.00</td>\n",
       "      <td>0</td>\n",
       "    </tr>\n",
       "    <tr>\n",
       "      <th>1</th>\n",
       "      <td>7974200820</td>\n",
       "      <td>20140821T000000</td>\n",
       "      <td>865,000.00</td>\n",
       "      <td>5</td>\n",
       "      <td>3.00</td>\n",
       "      <td>2900</td>\n",
       "      <td>6730</td>\n",
       "      <td>1.00</td>\n",
       "      <td>0</td>\n",
       "      <td>0</td>\n",
       "      <td>5</td>\n",
       "      <td>8</td>\n",
       "      <td>1977</td>\n",
       "      <td>98115</td>\n",
       "      <td>47.68</td>\n",
       "      <td>-122.28</td>\n",
       "      <td>2370</td>\n",
       "      <td>6283</td>\n",
       "      <td>2014</td>\n",
       "      <td>37</td>\n",
       "      <td>0</td>\n",
       "      <td>0.00</td>\n",
       "      <td>1</td>\n",
       "    </tr>\n",
       "    <tr>\n",
       "      <th>2</th>\n",
       "      <td>7701450110</td>\n",
       "      <td>20140815T000000</td>\n",
       "      <td>1,038,000.00</td>\n",
       "      <td>4</td>\n",
       "      <td>2.50</td>\n",
       "      <td>3770</td>\n",
       "      <td>10893</td>\n",
       "      <td>2.00</td>\n",
       "      <td>0</td>\n",
       "      <td>2</td>\n",
       "      <td>3</td>\n",
       "      <td>11</td>\n",
       "      <td>1997</td>\n",
       "      <td>98006</td>\n",
       "      <td>47.56</td>\n",
       "      <td>-122.13</td>\n",
       "      <td>3710</td>\n",
       "      <td>9685</td>\n",
       "      <td>2014</td>\n",
       "      <td>17</td>\n",
       "      <td>0</td>\n",
       "      <td>0.00</td>\n",
       "      <td>0</td>\n",
       "    </tr>\n",
       "    <tr>\n",
       "      <th>3</th>\n",
       "      <td>9522300010</td>\n",
       "      <td>20150331T000000</td>\n",
       "      <td>1,490,000.00</td>\n",
       "      <td>3</td>\n",
       "      <td>3.50</td>\n",
       "      <td>4560</td>\n",
       "      <td>14608</td>\n",
       "      <td>2.00</td>\n",
       "      <td>0</td>\n",
       "      <td>2</td>\n",
       "      <td>3</td>\n",
       "      <td>12</td>\n",
       "      <td>1990</td>\n",
       "      <td>98034</td>\n",
       "      <td>47.70</td>\n",
       "      <td>-122.23</td>\n",
       "      <td>4050</td>\n",
       "      <td>14226</td>\n",
       "      <td>2015</td>\n",
       "      <td>25</td>\n",
       "      <td>0</td>\n",
       "      <td>0.00</td>\n",
       "      <td>0</td>\n",
       "    </tr>\n",
       "    <tr>\n",
       "      <th>4</th>\n",
       "      <td>9510861140</td>\n",
       "      <td>20140714T000000</td>\n",
       "      <td>711,000.00</td>\n",
       "      <td>3</td>\n",
       "      <td>2.50</td>\n",
       "      <td>2550</td>\n",
       "      <td>5376</td>\n",
       "      <td>2.00</td>\n",
       "      <td>0</td>\n",
       "      <td>0</td>\n",
       "      <td>3</td>\n",
       "      <td>9</td>\n",
       "      <td>2004</td>\n",
       "      <td>98052</td>\n",
       "      <td>47.66</td>\n",
       "      <td>-122.08</td>\n",
       "      <td>2250</td>\n",
       "      <td>4050</td>\n",
       "      <td>2014</td>\n",
       "      <td>10</td>\n",
       "      <td>0</td>\n",
       "      <td>0.00</td>\n",
       "      <td>0</td>\n",
       "    </tr>\n",
       "    <tr>\n",
       "      <th>...</th>\n",
       "      <td>...</td>\n",
       "      <td>...</td>\n",
       "      <td>...</td>\n",
       "      <td>...</td>\n",
       "      <td>...</td>\n",
       "      <td>...</td>\n",
       "      <td>...</td>\n",
       "      <td>...</td>\n",
       "      <td>...</td>\n",
       "      <td>...</td>\n",
       "      <td>...</td>\n",
       "      <td>...</td>\n",
       "      <td>...</td>\n",
       "      <td>...</td>\n",
       "      <td>...</td>\n",
       "      <td>...</td>\n",
       "      <td>...</td>\n",
       "      <td>...</td>\n",
       "      <td>...</td>\n",
       "      <td>...</td>\n",
       "      <td>...</td>\n",
       "      <td>...</td>\n",
       "      <td>...</td>\n",
       "    </tr>\n",
       "    <tr>\n",
       "      <th>17285</th>\n",
       "      <td>627300195</td>\n",
       "      <td>20150303T000000</td>\n",
       "      <td>750,000.00</td>\n",
       "      <td>5</td>\n",
       "      <td>2.50</td>\n",
       "      <td>3240</td>\n",
       "      <td>9960</td>\n",
       "      <td>1.00</td>\n",
       "      <td>0</td>\n",
       "      <td>1</td>\n",
       "      <td>3</td>\n",
       "      <td>8</td>\n",
       "      <td>1958</td>\n",
       "      <td>98008</td>\n",
       "      <td>47.59</td>\n",
       "      <td>-122.11</td>\n",
       "      <td>2730</td>\n",
       "      <td>10400</td>\n",
       "      <td>2015</td>\n",
       "      <td>57</td>\n",
       "      <td>0</td>\n",
       "      <td>0.00</td>\n",
       "      <td>1</td>\n",
       "    </tr>\n",
       "    <tr>\n",
       "      <th>17286</th>\n",
       "      <td>8819900270</td>\n",
       "      <td>20140520T000000</td>\n",
       "      <td>440,000.00</td>\n",
       "      <td>2</td>\n",
       "      <td>1.75</td>\n",
       "      <td>1300</td>\n",
       "      <td>4000</td>\n",
       "      <td>2.00</td>\n",
       "      <td>0</td>\n",
       "      <td>0</td>\n",
       "      <td>3</td>\n",
       "      <td>7</td>\n",
       "      <td>1948</td>\n",
       "      <td>98105</td>\n",
       "      <td>47.67</td>\n",
       "      <td>-122.29</td>\n",
       "      <td>1350</td>\n",
       "      <td>4013</td>\n",
       "      <td>2014</td>\n",
       "      <td>66</td>\n",
       "      <td>0</td>\n",
       "      <td>0.00</td>\n",
       "      <td>0</td>\n",
       "    </tr>\n",
       "    <tr>\n",
       "      <th>17287</th>\n",
       "      <td>3816300095</td>\n",
       "      <td>20140514T000000</td>\n",
       "      <td>310,000.00</td>\n",
       "      <td>3</td>\n",
       "      <td>1.00</td>\n",
       "      <td>1050</td>\n",
       "      <td>9876</td>\n",
       "      <td>1.00</td>\n",
       "      <td>0</td>\n",
       "      <td>0</td>\n",
       "      <td>3</td>\n",
       "      <td>7</td>\n",
       "      <td>1953</td>\n",
       "      <td>98028</td>\n",
       "      <td>47.76</td>\n",
       "      <td>-122.26</td>\n",
       "      <td>1760</td>\n",
       "      <td>9403</td>\n",
       "      <td>2014</td>\n",
       "      <td>61</td>\n",
       "      <td>0</td>\n",
       "      <td>0.00</td>\n",
       "      <td>0</td>\n",
       "    </tr>\n",
       "    <tr>\n",
       "      <th>17288</th>\n",
       "      <td>122069107</td>\n",
       "      <td>20141204T000000</td>\n",
       "      <td>427,500.00</td>\n",
       "      <td>3</td>\n",
       "      <td>1.50</td>\n",
       "      <td>1900</td>\n",
       "      <td>43186</td>\n",
       "      <td>1.50</td>\n",
       "      <td>0</td>\n",
       "      <td>0</td>\n",
       "      <td>4</td>\n",
       "      <td>7</td>\n",
       "      <td>1971</td>\n",
       "      <td>98038</td>\n",
       "      <td>47.42</td>\n",
       "      <td>-121.99</td>\n",
       "      <td>2080</td>\n",
       "      <td>108028</td>\n",
       "      <td>2014</td>\n",
       "      <td>43</td>\n",
       "      <td>0</td>\n",
       "      <td>0.00</td>\n",
       "      <td>1</td>\n",
       "    </tr>\n",
       "    <tr>\n",
       "      <th>17289</th>\n",
       "      <td>6703100135</td>\n",
       "      <td>20150116T000000</td>\n",
       "      <td>348,000.00</td>\n",
       "      <td>3</td>\n",
       "      <td>1.50</td>\n",
       "      <td>1330</td>\n",
       "      <td>6768</td>\n",
       "      <td>1.00</td>\n",
       "      <td>0</td>\n",
       "      <td>0</td>\n",
       "      <td>4</td>\n",
       "      <td>7</td>\n",
       "      <td>1952</td>\n",
       "      <td>98155</td>\n",
       "      <td>47.74</td>\n",
       "      <td>-122.32</td>\n",
       "      <td>1320</td>\n",
       "      <td>6910</td>\n",
       "      <td>2015</td>\n",
       "      <td>63</td>\n",
       "      <td>0</td>\n",
       "      <td>0.00</td>\n",
       "      <td>0</td>\n",
       "    </tr>\n",
       "  </tbody>\n",
       "</table>\n",
       "<p>16977 rows × 23 columns</p>\n",
       "</div>"
      ],
      "text/plain": [
       "               id             date        price  bedrooms  bathrooms  \\\n",
       "0      2591820310  20141006T000000   365,000.00         4       2.25   \n",
       "1      7974200820  20140821T000000   865,000.00         5       3.00   \n",
       "2      7701450110  20140815T000000 1,038,000.00         4       2.50   \n",
       "3      9522300010  20150331T000000 1,490,000.00         3       3.50   \n",
       "4      9510861140  20140714T000000   711,000.00         3       2.50   \n",
       "...           ...              ...          ...       ...        ...   \n",
       "17285   627300195  20150303T000000   750,000.00         5       2.50   \n",
       "17286  8819900270  20140520T000000   440,000.00         2       1.75   \n",
       "17287  3816300095  20140514T000000   310,000.00         3       1.00   \n",
       "17288   122069107  20141204T000000   427,500.00         3       1.50   \n",
       "17289  6703100135  20150116T000000   348,000.00         3       1.50   \n",
       "\n",
       "       sqft_living  sqft_lot  floors  waterfront  view  condition  grade  \\\n",
       "0             2070      8893    2.00           0     0          4      8   \n",
       "1             2900      6730    1.00           0     0          5      8   \n",
       "2             3770     10893    2.00           0     2          3     11   \n",
       "3             4560     14608    2.00           0     2          3     12   \n",
       "4             2550      5376    2.00           0     0          3      9   \n",
       "...            ...       ...     ...         ...   ...        ...    ...   \n",
       "17285         3240      9960    1.00           0     1          3      8   \n",
       "17286         1300      4000    2.00           0     0          3      7   \n",
       "17287         1050      9876    1.00           0     0          3      7   \n",
       "17288         1900     43186    1.50           0     0          4      7   \n",
       "17289         1330      6768    1.00           0     0          4      7   \n",
       "\n",
       "       yr_built  zipcode   lat    long  sqft_living15  sqft_lot15  year_sold  \\\n",
       "0          1986    98058 47.44 -122.16           2390        7700       2014   \n",
       "1          1977    98115 47.68 -122.28           2370        6283       2014   \n",
       "2          1997    98006 47.56 -122.13           3710        9685       2014   \n",
       "3          1990    98034 47.70 -122.23           4050       14226       2015   \n",
       "4          2004    98052 47.66 -122.08           2250        4050       2014   \n",
       "...         ...      ...   ...     ...            ...         ...        ...   \n",
       "17285      1958    98008 47.59 -122.11           2730       10400       2015   \n",
       "17286      1948    98105 47.67 -122.29           1350        4013       2014   \n",
       "17287      1953    98028 47.76 -122.26           1760        9403       2014   \n",
       "17288      1971    98038 47.42 -121.99           2080      108028       2014   \n",
       "17289      1952    98155 47.74 -122.32           1320        6910       2015   \n",
       "\n",
       "       y_old_sold  was_renovated  yrs_since_reno  has_bsmnt  \n",
       "0              28              0            0.00          0  \n",
       "1              37              0            0.00          1  \n",
       "2              17              0            0.00          0  \n",
       "3              25              0            0.00          0  \n",
       "4              10              0            0.00          0  \n",
       "...           ...            ...             ...        ...  \n",
       "17285          57              0            0.00          1  \n",
       "17286          66              0            0.00          0  \n",
       "17287          61              0            0.00          0  \n",
       "17288          43              0            0.00          1  \n",
       "17289          63              0            0.00          0  \n",
       "\n",
       "[16977 rows x 23 columns]"
      ]
     },
     "execution_count": 122,
     "metadata": {},
     "output_type": "execute_result"
    }
   ],
   "source": [
    "## Remove outliers from price \n",
    "idx_outs = find_outliers_z(df['price'])\n",
    "df_clean = df[~idx_outs].copy()\n",
    "df_clean"
   ]
  },
  {
   "cell_type": "code",
   "execution_count": 123,
   "metadata": {
    "ExecuteTime": {
     "end_time": "2021-06-03T23:31:14.452580Z",
     "start_time": "2021-06-03T23:31:14.407582Z"
    }
   },
   "outputs": [
    {
     "data": {
      "text/html": [
       "<div>\n",
       "<style scoped>\n",
       "    .dataframe tbody tr th:only-of-type {\n",
       "        vertical-align: middle;\n",
       "    }\n",
       "\n",
       "    .dataframe tbody tr th {\n",
       "        vertical-align: top;\n",
       "    }\n",
       "\n",
       "    .dataframe thead th {\n",
       "        text-align: right;\n",
       "    }\n",
       "</style>\n",
       "<table border=\"1\" class=\"dataframe\">\n",
       "  <thead>\n",
       "    <tr style=\"text-align: right;\">\n",
       "      <th></th>\n",
       "      <th>id</th>\n",
       "      <th>date</th>\n",
       "      <th>price</th>\n",
       "      <th>bedrooms</th>\n",
       "      <th>bathrooms</th>\n",
       "      <th>sqft_living</th>\n",
       "      <th>sqft_lot</th>\n",
       "      <th>floors</th>\n",
       "      <th>waterfront</th>\n",
       "      <th>view</th>\n",
       "      <th>condition</th>\n",
       "      <th>grade</th>\n",
       "      <th>yr_built</th>\n",
       "      <th>zipcode</th>\n",
       "      <th>lat</th>\n",
       "      <th>long</th>\n",
       "      <th>sqft_living15</th>\n",
       "      <th>sqft_lot15</th>\n",
       "      <th>year_sold</th>\n",
       "      <th>y_old_sold</th>\n",
       "      <th>was_renovated</th>\n",
       "      <th>yrs_since_reno</th>\n",
       "      <th>has_bsmnt</th>\n",
       "    </tr>\n",
       "  </thead>\n",
       "  <tbody>\n",
       "    <tr>\n",
       "      <th>0</th>\n",
       "      <td>2591820310</td>\n",
       "      <td>20141006T000000</td>\n",
       "      <td>365,000.00</td>\n",
       "      <td>4</td>\n",
       "      <td>2.25</td>\n",
       "      <td>2070</td>\n",
       "      <td>8893</td>\n",
       "      <td>2.00</td>\n",
       "      <td>0</td>\n",
       "      <td>0</td>\n",
       "      <td>4</td>\n",
       "      <td>8</td>\n",
       "      <td>1986</td>\n",
       "      <td>98058</td>\n",
       "      <td>47.44</td>\n",
       "      <td>-122.16</td>\n",
       "      <td>2390</td>\n",
       "      <td>7700</td>\n",
       "      <td>2014</td>\n",
       "      <td>28</td>\n",
       "      <td>0</td>\n",
       "      <td>0.00</td>\n",
       "      <td>0</td>\n",
       "    </tr>\n",
       "    <tr>\n",
       "      <th>1</th>\n",
       "      <td>7974200820</td>\n",
       "      <td>20140821T000000</td>\n",
       "      <td>865,000.00</td>\n",
       "      <td>5</td>\n",
       "      <td>3.00</td>\n",
       "      <td>2900</td>\n",
       "      <td>6730</td>\n",
       "      <td>1.00</td>\n",
       "      <td>0</td>\n",
       "      <td>0</td>\n",
       "      <td>5</td>\n",
       "      <td>8</td>\n",
       "      <td>1977</td>\n",
       "      <td>98115</td>\n",
       "      <td>47.68</td>\n",
       "      <td>-122.28</td>\n",
       "      <td>2370</td>\n",
       "      <td>6283</td>\n",
       "      <td>2014</td>\n",
       "      <td>37</td>\n",
       "      <td>0</td>\n",
       "      <td>0.00</td>\n",
       "      <td>1</td>\n",
       "    </tr>\n",
       "    <tr>\n",
       "      <th>2</th>\n",
       "      <td>7701450110</td>\n",
       "      <td>20140815T000000</td>\n",
       "      <td>1,038,000.00</td>\n",
       "      <td>4</td>\n",
       "      <td>2.50</td>\n",
       "      <td>3770</td>\n",
       "      <td>10893</td>\n",
       "      <td>2.00</td>\n",
       "      <td>0</td>\n",
       "      <td>2</td>\n",
       "      <td>3</td>\n",
       "      <td>11</td>\n",
       "      <td>1997</td>\n",
       "      <td>98006</td>\n",
       "      <td>47.56</td>\n",
       "      <td>-122.13</td>\n",
       "      <td>3710</td>\n",
       "      <td>9685</td>\n",
       "      <td>2014</td>\n",
       "      <td>17</td>\n",
       "      <td>0</td>\n",
       "      <td>0.00</td>\n",
       "      <td>0</td>\n",
       "    </tr>\n",
       "    <tr>\n",
       "      <th>3</th>\n",
       "      <td>9522300010</td>\n",
       "      <td>20150331T000000</td>\n",
       "      <td>1,490,000.00</td>\n",
       "      <td>3</td>\n",
       "      <td>3.50</td>\n",
       "      <td>4560</td>\n",
       "      <td>14608</td>\n",
       "      <td>2.00</td>\n",
       "      <td>0</td>\n",
       "      <td>2</td>\n",
       "      <td>3</td>\n",
       "      <td>12</td>\n",
       "      <td>1990</td>\n",
       "      <td>98034</td>\n",
       "      <td>47.70</td>\n",
       "      <td>-122.23</td>\n",
       "      <td>4050</td>\n",
       "      <td>14226</td>\n",
       "      <td>2015</td>\n",
       "      <td>25</td>\n",
       "      <td>0</td>\n",
       "      <td>0.00</td>\n",
       "      <td>0</td>\n",
       "    </tr>\n",
       "    <tr>\n",
       "      <th>4</th>\n",
       "      <td>9510861140</td>\n",
       "      <td>20140714T000000</td>\n",
       "      <td>711,000.00</td>\n",
       "      <td>3</td>\n",
       "      <td>2.50</td>\n",
       "      <td>2550</td>\n",
       "      <td>5376</td>\n",
       "      <td>2.00</td>\n",
       "      <td>0</td>\n",
       "      <td>0</td>\n",
       "      <td>3</td>\n",
       "      <td>9</td>\n",
       "      <td>2004</td>\n",
       "      <td>98052</td>\n",
       "      <td>47.66</td>\n",
       "      <td>-122.08</td>\n",
       "      <td>2250</td>\n",
       "      <td>4050</td>\n",
       "      <td>2014</td>\n",
       "      <td>10</td>\n",
       "      <td>0</td>\n",
       "      <td>0.00</td>\n",
       "      <td>0</td>\n",
       "    </tr>\n",
       "    <tr>\n",
       "      <th>...</th>\n",
       "      <td>...</td>\n",
       "      <td>...</td>\n",
       "      <td>...</td>\n",
       "      <td>...</td>\n",
       "      <td>...</td>\n",
       "      <td>...</td>\n",
       "      <td>...</td>\n",
       "      <td>...</td>\n",
       "      <td>...</td>\n",
       "      <td>...</td>\n",
       "      <td>...</td>\n",
       "      <td>...</td>\n",
       "      <td>...</td>\n",
       "      <td>...</td>\n",
       "      <td>...</td>\n",
       "      <td>...</td>\n",
       "      <td>...</td>\n",
       "      <td>...</td>\n",
       "      <td>...</td>\n",
       "      <td>...</td>\n",
       "      <td>...</td>\n",
       "      <td>...</td>\n",
       "      <td>...</td>\n",
       "    </tr>\n",
       "    <tr>\n",
       "      <th>17285</th>\n",
       "      <td>627300195</td>\n",
       "      <td>20150303T000000</td>\n",
       "      <td>750,000.00</td>\n",
       "      <td>5</td>\n",
       "      <td>2.50</td>\n",
       "      <td>3240</td>\n",
       "      <td>9960</td>\n",
       "      <td>1.00</td>\n",
       "      <td>0</td>\n",
       "      <td>1</td>\n",
       "      <td>3</td>\n",
       "      <td>8</td>\n",
       "      <td>1958</td>\n",
       "      <td>98008</td>\n",
       "      <td>47.59</td>\n",
       "      <td>-122.11</td>\n",
       "      <td>2730</td>\n",
       "      <td>10400</td>\n",
       "      <td>2015</td>\n",
       "      <td>57</td>\n",
       "      <td>0</td>\n",
       "      <td>0.00</td>\n",
       "      <td>1</td>\n",
       "    </tr>\n",
       "    <tr>\n",
       "      <th>17286</th>\n",
       "      <td>8819900270</td>\n",
       "      <td>20140520T000000</td>\n",
       "      <td>440,000.00</td>\n",
       "      <td>2</td>\n",
       "      <td>1.75</td>\n",
       "      <td>1300</td>\n",
       "      <td>4000</td>\n",
       "      <td>2.00</td>\n",
       "      <td>0</td>\n",
       "      <td>0</td>\n",
       "      <td>3</td>\n",
       "      <td>7</td>\n",
       "      <td>1948</td>\n",
       "      <td>98105</td>\n",
       "      <td>47.67</td>\n",
       "      <td>-122.29</td>\n",
       "      <td>1350</td>\n",
       "      <td>4013</td>\n",
       "      <td>2014</td>\n",
       "      <td>66</td>\n",
       "      <td>0</td>\n",
       "      <td>0.00</td>\n",
       "      <td>0</td>\n",
       "    </tr>\n",
       "    <tr>\n",
       "      <th>17287</th>\n",
       "      <td>3816300095</td>\n",
       "      <td>20140514T000000</td>\n",
       "      <td>310,000.00</td>\n",
       "      <td>3</td>\n",
       "      <td>1.00</td>\n",
       "      <td>1050</td>\n",
       "      <td>9876</td>\n",
       "      <td>1.00</td>\n",
       "      <td>0</td>\n",
       "      <td>0</td>\n",
       "      <td>3</td>\n",
       "      <td>7</td>\n",
       "      <td>1953</td>\n",
       "      <td>98028</td>\n",
       "      <td>47.76</td>\n",
       "      <td>-122.26</td>\n",
       "      <td>1760</td>\n",
       "      <td>9403</td>\n",
       "      <td>2014</td>\n",
       "      <td>61</td>\n",
       "      <td>0</td>\n",
       "      <td>0.00</td>\n",
       "      <td>0</td>\n",
       "    </tr>\n",
       "    <tr>\n",
       "      <th>17288</th>\n",
       "      <td>122069107</td>\n",
       "      <td>20141204T000000</td>\n",
       "      <td>427,500.00</td>\n",
       "      <td>3</td>\n",
       "      <td>1.50</td>\n",
       "      <td>1900</td>\n",
       "      <td>43186</td>\n",
       "      <td>1.50</td>\n",
       "      <td>0</td>\n",
       "      <td>0</td>\n",
       "      <td>4</td>\n",
       "      <td>7</td>\n",
       "      <td>1971</td>\n",
       "      <td>98038</td>\n",
       "      <td>47.42</td>\n",
       "      <td>-121.99</td>\n",
       "      <td>2080</td>\n",
       "      <td>108028</td>\n",
       "      <td>2014</td>\n",
       "      <td>43</td>\n",
       "      <td>0</td>\n",
       "      <td>0.00</td>\n",
       "      <td>1</td>\n",
       "    </tr>\n",
       "    <tr>\n",
       "      <th>17289</th>\n",
       "      <td>6703100135</td>\n",
       "      <td>20150116T000000</td>\n",
       "      <td>348,000.00</td>\n",
       "      <td>3</td>\n",
       "      <td>1.50</td>\n",
       "      <td>1330</td>\n",
       "      <td>6768</td>\n",
       "      <td>1.00</td>\n",
       "      <td>0</td>\n",
       "      <td>0</td>\n",
       "      <td>4</td>\n",
       "      <td>7</td>\n",
       "      <td>1952</td>\n",
       "      <td>98155</td>\n",
       "      <td>47.74</td>\n",
       "      <td>-122.32</td>\n",
       "      <td>1320</td>\n",
       "      <td>6910</td>\n",
       "      <td>2015</td>\n",
       "      <td>63</td>\n",
       "      <td>0</td>\n",
       "      <td>0.00</td>\n",
       "      <td>0</td>\n",
       "    </tr>\n",
       "  </tbody>\n",
       "</table>\n",
       "<p>16923 rows × 23 columns</p>\n",
       "</div>"
      ],
      "text/plain": [
       "               id             date        price  bedrooms  bathrooms  \\\n",
       "0      2591820310  20141006T000000   365,000.00         4       2.25   \n",
       "1      7974200820  20140821T000000   865,000.00         5       3.00   \n",
       "2      7701450110  20140815T000000 1,038,000.00         4       2.50   \n",
       "3      9522300010  20150331T000000 1,490,000.00         3       3.50   \n",
       "4      9510861140  20140714T000000   711,000.00         3       2.50   \n",
       "...           ...              ...          ...       ...        ...   \n",
       "17285   627300195  20150303T000000   750,000.00         5       2.50   \n",
       "17286  8819900270  20140520T000000   440,000.00         2       1.75   \n",
       "17287  3816300095  20140514T000000   310,000.00         3       1.00   \n",
       "17288   122069107  20141204T000000   427,500.00         3       1.50   \n",
       "17289  6703100135  20150116T000000   348,000.00         3       1.50   \n",
       "\n",
       "       sqft_living  sqft_lot  floors  waterfront  view  condition  grade  \\\n",
       "0             2070      8893    2.00           0     0          4      8   \n",
       "1             2900      6730    1.00           0     0          5      8   \n",
       "2             3770     10893    2.00           0     2          3     11   \n",
       "3             4560     14608    2.00           0     2          3     12   \n",
       "4             2550      5376    2.00           0     0          3      9   \n",
       "...            ...       ...     ...         ...   ...        ...    ...   \n",
       "17285         3240      9960    1.00           0     1          3      8   \n",
       "17286         1300      4000    2.00           0     0          3      7   \n",
       "17287         1050      9876    1.00           0     0          3      7   \n",
       "17288         1900     43186    1.50           0     0          4      7   \n",
       "17289         1330      6768    1.00           0     0          4      7   \n",
       "\n",
       "       yr_built  zipcode   lat    long  sqft_living15  sqft_lot15  year_sold  \\\n",
       "0          1986    98058 47.44 -122.16           2390        7700       2014   \n",
       "1          1977    98115 47.68 -122.28           2370        6283       2014   \n",
       "2          1997    98006 47.56 -122.13           3710        9685       2014   \n",
       "3          1990    98034 47.70 -122.23           4050       14226       2015   \n",
       "4          2004    98052 47.66 -122.08           2250        4050       2014   \n",
       "...         ...      ...   ...     ...            ...         ...        ...   \n",
       "17285      1958    98008 47.59 -122.11           2730       10400       2015   \n",
       "17286      1948    98105 47.67 -122.29           1350        4013       2014   \n",
       "17287      1953    98028 47.76 -122.26           1760        9403       2014   \n",
       "17288      1971    98038 47.42 -121.99           2080      108028       2014   \n",
       "17289      1952    98155 47.74 -122.32           1320        6910       2015   \n",
       "\n",
       "       y_old_sold  was_renovated  yrs_since_reno  has_bsmnt  \n",
       "0              28              0            0.00          0  \n",
       "1              37              0            0.00          1  \n",
       "2              17              0            0.00          0  \n",
       "3              25              0            0.00          0  \n",
       "4              10              0            0.00          0  \n",
       "...           ...            ...             ...        ...  \n",
       "17285          57              0            0.00          1  \n",
       "17286          66              0            0.00          0  \n",
       "17287          61              0            0.00          0  \n",
       "17288          43              0            0.00          1  \n",
       "17289          63              0            0.00          0  \n",
       "\n",
       "[16923 rows x 23 columns]"
      ]
     },
     "execution_count": 123,
     "metadata": {},
     "output_type": "execute_result"
    }
   ],
   "source": [
    "## Remove outliers from bedrooms\n",
    "idx_outs = find_outliers_z(df_clean['bedrooms'])\n",
    "df_clean = df_clean[~idx_outs].copy()\n",
    "\n",
    "df_clean"
   ]
  },
  {
   "cell_type": "code",
   "execution_count": 124,
   "metadata": {
    "ExecuteTime": {
     "end_time": "2021-06-03T23:31:14.546610Z",
     "start_time": "2021-06-03T23:31:14.454580Z"
    }
   },
   "outputs": [
    {
     "data": {
      "text/html": [
       "<div>\n",
       "<style scoped>\n",
       "    .dataframe tbody tr th:only-of-type {\n",
       "        vertical-align: middle;\n",
       "    }\n",
       "\n",
       "    .dataframe tbody tr th {\n",
       "        vertical-align: top;\n",
       "    }\n",
       "\n",
       "    .dataframe thead th {\n",
       "        text-align: right;\n",
       "    }\n",
       "</style>\n",
       "<table border=\"1\" class=\"dataframe\">\n",
       "  <thead>\n",
       "    <tr style=\"text-align: right;\">\n",
       "      <th></th>\n",
       "      <th>id</th>\n",
       "      <th>price</th>\n",
       "      <th>bedrooms</th>\n",
       "      <th>bathrooms</th>\n",
       "      <th>sqft_living</th>\n",
       "      <th>sqft_lot</th>\n",
       "      <th>floors</th>\n",
       "      <th>waterfront</th>\n",
       "      <th>view</th>\n",
       "      <th>condition</th>\n",
       "      <th>grade</th>\n",
       "      <th>yr_built</th>\n",
       "      <th>zipcode</th>\n",
       "      <th>lat</th>\n",
       "      <th>long</th>\n",
       "      <th>sqft_living15</th>\n",
       "      <th>sqft_lot15</th>\n",
       "      <th>year_sold</th>\n",
       "      <th>y_old_sold</th>\n",
       "      <th>was_renovated</th>\n",
       "      <th>yrs_since_reno</th>\n",
       "      <th>has_bsmnt</th>\n",
       "    </tr>\n",
       "  </thead>\n",
       "  <tbody>\n",
       "    <tr>\n",
       "      <th>count</th>\n",
       "      <td>16,923.00</td>\n",
       "      <td>16,923.00</td>\n",
       "      <td>16,923.00</td>\n",
       "      <td>16,923.00</td>\n",
       "      <td>16,923.00</td>\n",
       "      <td>16,923.00</td>\n",
       "      <td>16,923.00</td>\n",
       "      <td>16,923.00</td>\n",
       "      <td>16,923.00</td>\n",
       "      <td>16,923.00</td>\n",
       "      <td>16,923.00</td>\n",
       "      <td>16,923.00</td>\n",
       "      <td>16,923.00</td>\n",
       "      <td>16,923.00</td>\n",
       "      <td>16,923.00</td>\n",
       "      <td>16,923.00</td>\n",
       "      <td>16,923.00</td>\n",
       "      <td>16,923.00</td>\n",
       "      <td>16,923.00</td>\n",
       "      <td>16,923.00</td>\n",
       "      <td>16,923.00</td>\n",
       "      <td>16,923.00</td>\n",
       "    </tr>\n",
       "    <tr>\n",
       "      <th>mean</th>\n",
       "      <td>4,580,302,379.76</td>\n",
       "      <td>506,846.03</td>\n",
       "      <td>3.35</td>\n",
       "      <td>2.08</td>\n",
       "      <td>2,030.81</td>\n",
       "      <td>15,027.35</td>\n",
       "      <td>1.48</td>\n",
       "      <td>0.00</td>\n",
       "      <td>0.21</td>\n",
       "      <td>3.41</td>\n",
       "      <td>7.60</td>\n",
       "      <td>1,970.75</td>\n",
       "      <td>98,078.44</td>\n",
       "      <td>47.56</td>\n",
       "      <td>-122.21</td>\n",
       "      <td>1,961.79</td>\n",
       "      <td>12,762.48</td>\n",
       "      <td>2,014.32</td>\n",
       "      <td>43.57</td>\n",
       "      <td>0.04</td>\n",
       "      <td>0.75</td>\n",
       "      <td>0.39</td>\n",
       "    </tr>\n",
       "    <tr>\n",
       "      <th>std</th>\n",
       "      <td>2,875,948,278.15</td>\n",
       "      <td>259,415.42</td>\n",
       "      <td>0.87</td>\n",
       "      <td>0.73</td>\n",
       "      <td>831.19</td>\n",
       "      <td>41,723.12</td>\n",
       "      <td>0.54</td>\n",
       "      <td>0.07</td>\n",
       "      <td>0.72</td>\n",
       "      <td>0.65</td>\n",
       "      <td>1.11</td>\n",
       "      <td>29.24</td>\n",
       "      <td>53.53</td>\n",
       "      <td>0.14</td>\n",
       "      <td>0.14</td>\n",
       "      <td>654.64</td>\n",
       "      <td>27,137.88</td>\n",
       "      <td>0.47</td>\n",
       "      <td>29.24</td>\n",
       "      <td>0.20</td>\n",
       "      <td>4.86</td>\n",
       "      <td>0.49</td>\n",
       "    </tr>\n",
       "    <tr>\n",
       "      <th>min</th>\n",
       "      <td>1,000,102.00</td>\n",
       "      <td>75,000.00</td>\n",
       "      <td>1.00</td>\n",
       "      <td>0.00</td>\n",
       "      <td>370.00</td>\n",
       "      <td>572.00</td>\n",
       "      <td>1.00</td>\n",
       "      <td>0.00</td>\n",
       "      <td>0.00</td>\n",
       "      <td>1.00</td>\n",
       "      <td>3.00</td>\n",
       "      <td>1,900.00</td>\n",
       "      <td>98,001.00</td>\n",
       "      <td>47.16</td>\n",
       "      <td>-122.52</td>\n",
       "      <td>399.00</td>\n",
       "      <td>659.00</td>\n",
       "      <td>2,014.00</td>\n",
       "      <td>-1.00</td>\n",
       "      <td>0.00</td>\n",
       "      <td>-1.00</td>\n",
       "      <td>0.00</td>\n",
       "    </tr>\n",
       "    <tr>\n",
       "      <th>25%</th>\n",
       "      <td>2,123,049,158.50</td>\n",
       "      <td>320,000.00</td>\n",
       "      <td>3.00</td>\n",
       "      <td>1.50</td>\n",
       "      <td>1,420.00</td>\n",
       "      <td>5,040.00</td>\n",
       "      <td>1.00</td>\n",
       "      <td>0.00</td>\n",
       "      <td>0.00</td>\n",
       "      <td>3.00</td>\n",
       "      <td>7.00</td>\n",
       "      <td>1,951.00</td>\n",
       "      <td>98,033.00</td>\n",
       "      <td>47.47</td>\n",
       "      <td>-122.33</td>\n",
       "      <td>1,480.00</td>\n",
       "      <td>5,100.00</td>\n",
       "      <td>2,014.00</td>\n",
       "      <td>18.00</td>\n",
       "      <td>0.00</td>\n",
       "      <td>0.00</td>\n",
       "      <td>0.00</td>\n",
       "    </tr>\n",
       "    <tr>\n",
       "      <th>50%</th>\n",
       "      <td>3,904,940,140.00</td>\n",
       "      <td>446,450.00</td>\n",
       "      <td>3.00</td>\n",
       "      <td>2.25</td>\n",
       "      <td>1,900.00</td>\n",
       "      <td>7,587.00</td>\n",
       "      <td>1.00</td>\n",
       "      <td>0.00</td>\n",
       "      <td>0.00</td>\n",
       "      <td>3.00</td>\n",
       "      <td>7.00</td>\n",
       "      <td>1,974.00</td>\n",
       "      <td>98,065.00</td>\n",
       "      <td>47.57</td>\n",
       "      <td>-122.23</td>\n",
       "      <td>1,830.00</td>\n",
       "      <td>7,597.00</td>\n",
       "      <td>2,014.00</td>\n",
       "      <td>40.00</td>\n",
       "      <td>0.00</td>\n",
       "      <td>0.00</td>\n",
       "      <td>0.00</td>\n",
       "    </tr>\n",
       "    <tr>\n",
       "      <th>75%</th>\n",
       "      <td>7,309,100,170.00</td>\n",
       "      <td>629,000.00</td>\n",
       "      <td>4.00</td>\n",
       "      <td>2.50</td>\n",
       "      <td>2,500.00</td>\n",
       "      <td>10,511.50</td>\n",
       "      <td>2.00</td>\n",
       "      <td>0.00</td>\n",
       "      <td>0.00</td>\n",
       "      <td>4.00</td>\n",
       "      <td>8.00</td>\n",
       "      <td>1,996.00</td>\n",
       "      <td>98,118.00</td>\n",
       "      <td>47.68</td>\n",
       "      <td>-122.12</td>\n",
       "      <td>2,330.00</td>\n",
       "      <td>10,004.50</td>\n",
       "      <td>2,015.00</td>\n",
       "      <td>63.00</td>\n",
       "      <td>0.00</td>\n",
       "      <td>0.00</td>\n",
       "      <td>1.00</td>\n",
       "    </tr>\n",
       "    <tr>\n",
       "      <th>max</th>\n",
       "      <td>9,900,000,190.00</td>\n",
       "      <td>1,655,000.00</td>\n",
       "      <td>6.00</td>\n",
       "      <td>6.00</td>\n",
       "      <td>7,350.00</td>\n",
       "      <td>1,651,359.00</td>\n",
       "      <td>3.50</td>\n",
       "      <td>1.00</td>\n",
       "      <td>4.00</td>\n",
       "      <td>5.00</td>\n",
       "      <td>12.00</td>\n",
       "      <td>2,015.00</td>\n",
       "      <td>98,199.00</td>\n",
       "      <td>47.78</td>\n",
       "      <td>-121.31</td>\n",
       "      <td>5,790.00</td>\n",
       "      <td>858,132.00</td>\n",
       "      <td>2,015.00</td>\n",
       "      <td>115.00</td>\n",
       "      <td>1.00</td>\n",
       "      <td>80.00</td>\n",
       "      <td>1.00</td>\n",
       "    </tr>\n",
       "  </tbody>\n",
       "</table>\n",
       "</div>"
      ],
      "text/plain": [
       "                    id        price  bedrooms  bathrooms  sqft_living  \\\n",
       "count        16,923.00    16,923.00 16,923.00  16,923.00    16,923.00   \n",
       "mean  4,580,302,379.76   506,846.03      3.35       2.08     2,030.81   \n",
       "std   2,875,948,278.15   259,415.42      0.87       0.73       831.19   \n",
       "min       1,000,102.00    75,000.00      1.00       0.00       370.00   \n",
       "25%   2,123,049,158.50   320,000.00      3.00       1.50     1,420.00   \n",
       "50%   3,904,940,140.00   446,450.00      3.00       2.25     1,900.00   \n",
       "75%   7,309,100,170.00   629,000.00      4.00       2.50     2,500.00   \n",
       "max   9,900,000,190.00 1,655,000.00      6.00       6.00     7,350.00   \n",
       "\n",
       "          sqft_lot    floors  waterfront      view  condition     grade  \\\n",
       "count    16,923.00 16,923.00   16,923.00 16,923.00  16,923.00 16,923.00   \n",
       "mean     15,027.35      1.48        0.00      0.21       3.41      7.60   \n",
       "std      41,723.12      0.54        0.07      0.72       0.65      1.11   \n",
       "min         572.00      1.00        0.00      0.00       1.00      3.00   \n",
       "25%       5,040.00      1.00        0.00      0.00       3.00      7.00   \n",
       "50%       7,587.00      1.00        0.00      0.00       3.00      7.00   \n",
       "75%      10,511.50      2.00        0.00      0.00       4.00      8.00   \n",
       "max   1,651,359.00      3.50        1.00      4.00       5.00     12.00   \n",
       "\n",
       "       yr_built   zipcode       lat      long  sqft_living15  sqft_lot15  \\\n",
       "count 16,923.00 16,923.00 16,923.00 16,923.00      16,923.00   16,923.00   \n",
       "mean   1,970.75 98,078.44     47.56   -122.21       1,961.79   12,762.48   \n",
       "std       29.24     53.53      0.14      0.14         654.64   27,137.88   \n",
       "min    1,900.00 98,001.00     47.16   -122.52         399.00      659.00   \n",
       "25%    1,951.00 98,033.00     47.47   -122.33       1,480.00    5,100.00   \n",
       "50%    1,974.00 98,065.00     47.57   -122.23       1,830.00    7,597.00   \n",
       "75%    1,996.00 98,118.00     47.68   -122.12       2,330.00   10,004.50   \n",
       "max    2,015.00 98,199.00     47.78   -121.31       5,790.00  858,132.00   \n",
       "\n",
       "       year_sold  y_old_sold  was_renovated  yrs_since_reno  has_bsmnt  \n",
       "count  16,923.00   16,923.00      16,923.00       16,923.00  16,923.00  \n",
       "mean    2,014.32       43.57           0.04            0.75       0.39  \n",
       "std         0.47       29.24           0.20            4.86       0.49  \n",
       "min     2,014.00       -1.00           0.00           -1.00       0.00  \n",
       "25%     2,014.00       18.00           0.00            0.00       0.00  \n",
       "50%     2,014.00       40.00           0.00            0.00       0.00  \n",
       "75%     2,015.00       63.00           0.00            0.00       1.00  \n",
       "max     2,015.00      115.00           1.00           80.00       1.00  "
      ]
     },
     "execution_count": 124,
     "metadata": {},
     "output_type": "execute_result"
    }
   ],
   "source": [
    "df_clean.describe()"
   ]
  },
  {
   "cell_type": "code",
   "execution_count": 125,
   "metadata": {
    "ExecuteTime": {
     "end_time": "2021-06-03T23:31:15.246578Z",
     "start_time": "2021-06-03T23:31:14.548581Z"
    }
   },
   "outputs": [
    {
     "name": "stdout",
     "output_type": "stream",
     "text": [
      "price~+y_old_sold+yrs_since_reno+bedrooms+bathrooms+condition+grade+floors+C(was_renovated)+C(has_bsmnt)+C(waterfront)\n"
     ]
    },
    {
     "data": {
      "text/html": [
       "<table class=\"simpletable\">\n",
       "<caption>OLS Regression Results</caption>\n",
       "<tr>\n",
       "  <th>Dep. Variable:</th>          <td>price</td>      <th>  R-squared:         </th>  <td>   0.589</td>  \n",
       "</tr>\n",
       "<tr>\n",
       "  <th>Model:</th>                   <td>OLS</td>       <th>  Adj. R-squared:    </th>  <td>   0.589</td>  \n",
       "</tr>\n",
       "<tr>\n",
       "  <th>Method:</th>             <td>Least Squares</td>  <th>  F-statistic:       </th>  <td>   2422.</td>  \n",
       "</tr>\n",
       "<tr>\n",
       "  <th>Date:</th>             <td>Thu, 03 Jun 2021</td> <th>  Prob (F-statistic):</th>   <td>  0.00</td>   \n",
       "</tr>\n",
       "<tr>\n",
       "  <th>Time:</th>                 <td>19:31:14</td>     <th>  Log-Likelihood:    </th> <td>-2.2746e+05</td>\n",
       "</tr>\n",
       "<tr>\n",
       "  <th>No. Observations:</th>      <td> 16923</td>      <th>  AIC:               </th>  <td>4.549e+05</td> \n",
       "</tr>\n",
       "<tr>\n",
       "  <th>Df Residuals:</th>          <td> 16912</td>      <th>  BIC:               </th>  <td>4.550e+05</td> \n",
       "</tr>\n",
       "<tr>\n",
       "  <th>Df Model:</th>              <td>    10</td>      <th>                     </th>      <td> </td>     \n",
       "</tr>\n",
       "<tr>\n",
       "  <th>Covariance Type:</th>      <td>nonrobust</td>    <th>                     </th>      <td> </td>     \n",
       "</tr>\n",
       "</table>\n",
       "<table class=\"simpletable\">\n",
       "<tr>\n",
       "            <td></td>               <th>coef</th>     <th>std err</th>      <th>t</th>      <th>P>|t|</th>  <th>[0.025</th>    <th>0.975]</th>  \n",
       "</tr>\n",
       "<tr>\n",
       "  <th>Intercept</th>             <td>-1.162e+06</td> <td> 1.35e+04</td> <td>  -86.344</td> <td> 0.000</td> <td>-1.19e+06</td> <td>-1.14e+06</td>\n",
       "</tr>\n",
       "<tr>\n",
       "  <th>C(was_renovated)[T.1]</th> <td>  5.14e+04</td> <td> 1.02e+04</td> <td>    5.021</td> <td> 0.000</td> <td> 3.13e+04</td> <td> 7.15e+04</td>\n",
       "</tr>\n",
       "<tr>\n",
       "  <th>C(has_bsmnt)[T.1]</th>     <td> 4.068e+04</td> <td> 2964.749</td> <td>   13.721</td> <td> 0.000</td> <td> 3.49e+04</td> <td> 4.65e+04</td>\n",
       "</tr>\n",
       "<tr>\n",
       "  <th>C(waterfront)[T.1]</th>    <td>  3.24e+05</td> <td> 1.89e+04</td> <td>   17.130</td> <td> 0.000</td> <td> 2.87e+05</td> <td> 3.61e+05</td>\n",
       "</tr>\n",
       "<tr>\n",
       "  <th>y_old_sold</th>            <td> 3284.2377</td> <td>   62.183</td> <td>   52.816</td> <td> 0.000</td> <td> 3162.353</td> <td> 3406.122</td>\n",
       "</tr>\n",
       "<tr>\n",
       "  <th>yrs_since_reno</th>        <td>-1913.9577</td> <td>  402.413</td> <td>   -4.756</td> <td> 0.000</td> <td>-2702.729</td> <td>-1125.187</td>\n",
       "</tr>\n",
       "<tr>\n",
       "  <th>bedrooms</th>              <td> 5271.9827</td> <td> 1739.192</td> <td>    3.031</td> <td> 0.002</td> <td> 1862.984</td> <td> 8680.981</td>\n",
       "</tr>\n",
       "<tr>\n",
       "  <th>bathrooms</th>             <td> 7.191e+04</td> <td> 2921.530</td> <td>   24.613</td> <td> 0.000</td> <td> 6.62e+04</td> <td> 7.76e+04</td>\n",
       "</tr>\n",
       "<tr>\n",
       "  <th>condition</th>             <td> 2.121e+04</td> <td> 2167.706</td> <td>    9.783</td> <td> 0.000</td> <td>  1.7e+04</td> <td> 2.55e+04</td>\n",
       "</tr>\n",
       "<tr>\n",
       "  <th>grade</th>                 <td> 1.593e+05</td> <td> 1562.805</td> <td>  101.927</td> <td> 0.000</td> <td> 1.56e+05</td> <td> 1.62e+05</td>\n",
       "</tr>\n",
       "<tr>\n",
       "  <th>floors</th>                <td> 3.852e+04</td> <td> 3166.597</td> <td>   12.164</td> <td> 0.000</td> <td> 3.23e+04</td> <td> 4.47e+04</td>\n",
       "</tr>\n",
       "</table>\n",
       "<table class=\"simpletable\">\n",
       "<tr>\n",
       "  <th>Omnibus:</th>       <td>2820.763</td> <th>  Durbin-Watson:     </th> <td>   1.995</td>\n",
       "</tr>\n",
       "<tr>\n",
       "  <th>Prob(Omnibus):</th>  <td> 0.000</td>  <th>  Jarque-Bera (JB):  </th> <td>7575.714</td>\n",
       "</tr>\n",
       "<tr>\n",
       "  <th>Skew:</th>           <td> 0.908</td>  <th>  Prob(JB):          </th> <td>    0.00</td>\n",
       "</tr>\n",
       "<tr>\n",
       "  <th>Kurtosis:</th>       <td> 5.728</td>  <th>  Cond. No.          </th> <td>    784.</td>\n",
       "</tr>\n",
       "</table><br/><br/>Notes:<br/>[1] Standard Errors assume that the covariance matrix of the errors is correctly specified."
      ],
      "text/plain": [
       "<class 'statsmodels.iolib.summary.Summary'>\n",
       "\"\"\"\n",
       "                            OLS Regression Results                            \n",
       "==============================================================================\n",
       "Dep. Variable:                  price   R-squared:                       0.589\n",
       "Model:                            OLS   Adj. R-squared:                  0.589\n",
       "Method:                 Least Squares   F-statistic:                     2422.\n",
       "Date:                Thu, 03 Jun 2021   Prob (F-statistic):               0.00\n",
       "Time:                        19:31:14   Log-Likelihood:            -2.2746e+05\n",
       "No. Observations:               16923   AIC:                         4.549e+05\n",
       "Df Residuals:                   16912   BIC:                         4.550e+05\n",
       "Df Model:                          10                                         \n",
       "Covariance Type:            nonrobust                                         \n",
       "=========================================================================================\n",
       "                            coef    std err          t      P>|t|      [0.025      0.975]\n",
       "-----------------------------------------------------------------------------------------\n",
       "Intercept             -1.162e+06   1.35e+04    -86.344      0.000   -1.19e+06   -1.14e+06\n",
       "C(was_renovated)[T.1]   5.14e+04   1.02e+04      5.021      0.000    3.13e+04    7.15e+04\n",
       "C(has_bsmnt)[T.1]      4.068e+04   2964.749     13.721      0.000    3.49e+04    4.65e+04\n",
       "C(waterfront)[T.1]      3.24e+05   1.89e+04     17.130      0.000    2.87e+05    3.61e+05\n",
       "y_old_sold             3284.2377     62.183     52.816      0.000    3162.353    3406.122\n",
       "yrs_since_reno        -1913.9577    402.413     -4.756      0.000   -2702.729   -1125.187\n",
       "bedrooms               5271.9827   1739.192      3.031      0.002    1862.984    8680.981\n",
       "bathrooms              7.191e+04   2921.530     24.613      0.000    6.62e+04    7.76e+04\n",
       "condition              2.121e+04   2167.706      9.783      0.000     1.7e+04    2.55e+04\n",
       "grade                  1.593e+05   1562.805    101.927      0.000    1.56e+05    1.62e+05\n",
       "floors                 3.852e+04   3166.597     12.164      0.000    3.23e+04    4.47e+04\n",
       "==============================================================================\n",
       "Omnibus:                     2820.763   Durbin-Watson:                   1.995\n",
       "Prob(Omnibus):                  0.000   Jarque-Bera (JB):             7575.714\n",
       "Skew:                           0.908   Prob(JB):                         0.00\n",
       "Kurtosis:                       5.728   Cond. No.                         784.\n",
       "==============================================================================\n",
       "\n",
       "Notes:\n",
       "[1] Standard Errors assume that the covariance matrix of the errors is correctly specified.\n",
       "\"\"\""
      ]
     },
     "metadata": {},
     "output_type": "display_data"
    },
    {
     "data": {
      "image/png": "[encoded data removed]",
      "text/plain": [
       "<Figure size 720x360 with 2 Axes>"
      ]
     },
     "metadata": {
      "needs_background": "light"
     },
     "output_type": "display_data"
    }
   ],
   "source": [
    "categorical_features = ['was_renovated','has_bsmnt', 'waterfront']\n",
    "\n",
    "continuous_features = ['y_old_sold','yrs_since_reno', 'bedrooms', 'bathrooms',\n",
    "                       'condition','grade', 'floors']\n",
    "\n",
    "create_model(df_clean,cont=continuous_features,cat=categorical_features, model_name='model_clean1');"
   ]
  },
  {
   "cell_type": "markdown",
   "metadata": {},
   "source": [
    "Interpretation:\n",
    "\n",
    "* R^2: ~.59, less than target of .75\n",
    "\n",
    "* Residual plots show somewhat homoscedasticity\n",
    "\n",
    "* Q-Q Plot shows more normal residuals (vs. earlier plot)\n",
    "\n",
    "* Changes: add zipcode "
   ]
  },
  {
   "cell_type": "code",
   "execution_count": 126,
   "metadata": {
    "ExecuteTime": {
     "end_time": "2021-06-03T23:31:15.262580Z",
     "start_time": "2021-06-03T23:31:15.248579Z"
    }
   },
   "outputs": [],
   "source": [
    "## Unsure if duplicate model or not - holding until confirmed\n",
    "\n",
    "# categorical_features = ['was_renovated','has_bsmnt', 'waterfront']\n",
    "\n",
    "# continuous_features = ['y_old_sold','yrs_since_reno', 'bedrooms', 'bathrooms',\n",
    "#                        'condition','grade', 'floors']\n",
    "\n",
    "# create_model(df_clean,continuous_features,categorical_features,'clean_model1');"
   ]
  },
  {
   "cell_type": "markdown",
   "metadata": {},
   "source": [
    "## Model - w/ Zip Codes"
   ]
  },
  {
   "cell_type": "code",
   "execution_count": 139,
   "metadata": {
    "ExecuteTime": {
     "end_time": "2021-06-03T23:42:28.960774Z",
     "start_time": "2021-06-03T23:42:27.959762Z"
    },
    "scrolled": false
   },
   "outputs": [
    {
     "name": "stdout",
     "output_type": "stream",
     "text": [
      "price~+y_old_sold+yrs_since_reno+bedrooms+bathrooms+condition+grade+floors+C(was_renovated)+C(has_bsmnt)+C(waterfront)+C(zipcode)\n"
     ]
    },
    {
     "data": {
      "text/html": [
       "<table class=\"simpletable\">\n",
       "<caption>OLS Regression Results</caption>\n",
       "<tr>\n",
       "  <th>Dep. Variable:</th>          <td>price</td>      <th>  R-squared:         </th>  <td>   0.772</td>  \n",
       "</tr>\n",
       "<tr>\n",
       "  <th>Model:</th>                   <td>OLS</td>       <th>  Adj. R-squared:    </th>  <td>   0.771</td>  \n",
       "</tr>\n",
       "<tr>\n",
       "  <th>Method:</th>             <td>Least Squares</td>  <th>  F-statistic:       </th>  <td>   723.0</td>  \n",
       "</tr>\n",
       "<tr>\n",
       "  <th>Date:</th>             <td>Thu, 03 Jun 2021</td> <th>  Prob (F-statistic):</th>   <td>  0.00</td>   \n",
       "</tr>\n",
       "<tr>\n",
       "  <th>Time:</th>                 <td>19:42:28</td>     <th>  Log-Likelihood:    </th> <td>-2.2246e+05</td>\n",
       "</tr>\n",
       "<tr>\n",
       "  <th>No. Observations:</th>      <td> 16923</td>      <th>  AIC:               </th>  <td>4.451e+05</td> \n",
       "</tr>\n",
       "<tr>\n",
       "  <th>Df Residuals:</th>          <td> 16843</td>      <th>  BIC:               </th>  <td>4.457e+05</td> \n",
       "</tr>\n",
       "<tr>\n",
       "  <th>Df Model:</th>              <td>    79</td>      <th>                     </th>      <td> </td>     \n",
       "</tr>\n",
       "<tr>\n",
       "  <th>Covariance Type:</th>      <td>nonrobust</td>    <th>                     </th>      <td> </td>     \n",
       "</tr>\n",
       "</table>\n",
       "<table class=\"simpletable\">\n",
       "<tr>\n",
       "            <td></td>               <th>coef</th>     <th>std err</th>      <th>t</th>      <th>P>|t|</th>  <th>[0.025</th>    <th>0.975]</th>  \n",
       "</tr>\n",
       "<tr>\n",
       "  <th>Intercept</th>             <td>-9.082e+05</td> <td> 1.29e+04</td> <td>  -70.617</td> <td> 0.000</td> <td>-9.33e+05</td> <td>-8.83e+05</td>\n",
       "</tr>\n",
       "<tr>\n",
       "  <th>C(was_renovated)[T.1]</th> <td> 5.205e+04</td> <td> 7669.920</td> <td>    6.786</td> <td> 0.000</td> <td>  3.7e+04</td> <td> 6.71e+04</td>\n",
       "</tr>\n",
       "<tr>\n",
       "  <th>C(has_bsmnt)[T.1]</th>     <td> 4194.0254</td> <td> 2410.118</td> <td>    1.740</td> <td> 0.082</td> <td> -530.059</td> <td> 8918.109</td>\n",
       "</tr>\n",
       "<tr>\n",
       "  <th>C(waterfront)[T.1]</th>    <td> 4.146e+05</td> <td> 1.46e+04</td> <td>   28.492</td> <td> 0.000</td> <td> 3.86e+05</td> <td> 4.43e+05</td>\n",
       "</tr>\n",
       "<tr>\n",
       "  <th>C(zipcode)[T.98002]</th>   <td> 7700.3206</td> <td> 1.24e+04</td> <td>    0.622</td> <td> 0.534</td> <td>-1.66e+04</td> <td>  3.2e+04</td>\n",
       "</tr>\n",
       "<tr>\n",
       "  <th>C(zipcode)[T.98003]</th>   <td>-2.942e+04</td> <td> 1.11e+04</td> <td>   -2.651</td> <td> 0.008</td> <td>-5.12e+04</td> <td>-7666.780</td>\n",
       "</tr>\n",
       "<tr>\n",
       "  <th>C(zipcode)[T.98004]</th>   <td> 6.095e+05</td> <td> 1.21e+04</td> <td>   50.472</td> <td> 0.000</td> <td> 5.86e+05</td> <td> 6.33e+05</td>\n",
       "</tr>\n",
       "<tr>\n",
       "  <th>C(zipcode)[T.98005]</th>   <td> 2.997e+05</td> <td>  1.3e+04</td> <td>   22.968</td> <td> 0.000</td> <td> 2.74e+05</td> <td> 3.25e+05</td>\n",
       "</tr>\n",
       "<tr>\n",
       "  <th>C(zipcode)[T.98006]</th>   <td> 2.806e+05</td> <td> 9970.638</td> <td>   28.143</td> <td> 0.000</td> <td> 2.61e+05</td> <td>    3e+05</td>\n",
       "</tr>\n",
       "<tr>\n",
       "  <th>C(zipcode)[T.98007]</th>   <td> 2.074e+05</td> <td> 1.35e+04</td> <td>   15.307</td> <td> 0.000</td> <td> 1.81e+05</td> <td> 2.34e+05</td>\n",
       "</tr>\n",
       "<tr>\n",
       "  <th>C(zipcode)[T.98008]</th>   <td> 2.307e+05</td> <td> 1.12e+04</td> <td>   20.617</td> <td> 0.000</td> <td> 2.09e+05</td> <td> 2.53e+05</td>\n",
       "</tr>\n",
       "<tr>\n",
       "  <th>C(zipcode)[T.98010]</th>   <td> 1.156e+05</td> <td> 1.62e+04</td> <td>    7.135</td> <td> 0.000</td> <td> 8.39e+04</td> <td> 1.47e+05</td>\n",
       "</tr>\n",
       "<tr>\n",
       "  <th>C(zipcode)[T.98011]</th>   <td> 1.349e+05</td> <td> 1.22e+04</td> <td>   11.047</td> <td> 0.000</td> <td> 1.11e+05</td> <td> 1.59e+05</td>\n",
       "</tr>\n",
       "<tr>\n",
       "  <th>C(zipcode)[T.98014]</th>   <td> 1.667e+05</td> <td> 1.44e+04</td> <td>   11.542</td> <td> 0.000</td> <td> 1.38e+05</td> <td> 1.95e+05</td>\n",
       "</tr>\n",
       "<tr>\n",
       "  <th>C(zipcode)[T.98019]</th>   <td> 1.188e+05</td> <td> 1.27e+04</td> <td>    9.368</td> <td> 0.000</td> <td>  9.4e+04</td> <td> 1.44e+05</td>\n",
       "</tr>\n",
       "<tr>\n",
       "  <th>C(zipcode)[T.98022]</th>   <td> 3.376e+04</td> <td> 1.17e+04</td> <td>    2.892</td> <td> 0.004</td> <td> 1.09e+04</td> <td> 5.66e+04</td>\n",
       "</tr>\n",
       "<tr>\n",
       "  <th>C(zipcode)[T.98023]</th>   <td>-3.732e+04</td> <td> 9591.428</td> <td>   -3.891</td> <td> 0.000</td> <td>-5.61e+04</td> <td>-1.85e+04</td>\n",
       "</tr>\n",
       "<tr>\n",
       "  <th>C(zipcode)[T.98024]</th>   <td> 2.266e+05</td> <td> 1.73e+04</td> <td>   13.095</td> <td> 0.000</td> <td> 1.93e+05</td> <td> 2.61e+05</td>\n",
       "</tr>\n",
       "<tr>\n",
       "  <th>C(zipcode)[T.98027]</th>   <td> 1.868e+05</td> <td> 1.01e+04</td> <td>   18.439</td> <td> 0.000</td> <td> 1.67e+05</td> <td> 2.07e+05</td>\n",
       "</tr>\n",
       "<tr>\n",
       "  <th>C(zipcode)[T.98028]</th>   <td> 1.311e+05</td> <td> 1.12e+04</td> <td>   11.735</td> <td> 0.000</td> <td> 1.09e+05</td> <td> 1.53e+05</td>\n",
       "</tr>\n",
       "<tr>\n",
       "  <th>C(zipcode)[T.98029]</th>   <td> 1.883e+05</td> <td> 1.09e+04</td> <td>   17.344</td> <td> 0.000</td> <td> 1.67e+05</td> <td>  2.1e+05</td>\n",
       "</tr>\n",
       "<tr>\n",
       "  <th>C(zipcode)[T.98030]</th>   <td>-7414.8887</td> <td> 1.14e+04</td> <td>   -0.648</td> <td> 0.517</td> <td>-2.98e+04</td> <td>  1.5e+04</td>\n",
       "</tr>\n",
       "<tr>\n",
       "  <th>C(zipcode)[T.98031]</th>   <td>-5749.4528</td> <td> 1.12e+04</td> <td>   -0.511</td> <td> 0.609</td> <td>-2.78e+04</td> <td> 1.63e+04</td>\n",
       "</tr>\n",
       "<tr>\n",
       "  <th>C(zipcode)[T.98032]</th>   <td>-1.688e+04</td> <td> 1.43e+04</td> <td>   -1.181</td> <td> 0.238</td> <td>-4.49e+04</td> <td> 1.11e+04</td>\n",
       "</tr>\n",
       "<tr>\n",
       "  <th>C(zipcode)[T.98033]</th>   <td> 3.474e+05</td> <td> 9992.388</td> <td>   34.769</td> <td> 0.000</td> <td> 3.28e+05</td> <td> 3.67e+05</td>\n",
       "</tr>\n",
       "<tr>\n",
       "  <th>C(zipcode)[T.98034]</th>   <td> 1.682e+05</td> <td> 9518.772</td> <td>   17.668</td> <td> 0.000</td> <td>  1.5e+05</td> <td> 1.87e+05</td>\n",
       "</tr>\n",
       "<tr>\n",
       "  <th>C(zipcode)[T.98038]</th>   <td>  5.18e+04</td> <td> 9424.092</td> <td>    5.497</td> <td> 0.000</td> <td> 3.33e+04</td> <td> 7.03e+04</td>\n",
       "</tr>\n",
       "<tr>\n",
       "  <th>C(zipcode)[T.98039]</th>   <td> 8.197e+05</td> <td> 3.19e+04</td> <td>   25.677</td> <td> 0.000</td> <td> 7.57e+05</td> <td> 8.82e+05</td>\n",
       "</tr>\n",
       "<tr>\n",
       "  <th>C(zipcode)[T.98040]</th>   <td> 4.667e+05</td> <td> 1.17e+04</td> <td>   39.877</td> <td> 0.000</td> <td> 4.44e+05</td> <td>  4.9e+05</td>\n",
       "</tr>\n",
       "<tr>\n",
       "  <th>C(zipcode)[T.98042]</th>   <td> 1.474e+04</td> <td> 9540.112</td> <td>    1.545</td> <td> 0.122</td> <td>-3957.891</td> <td> 3.34e+04</td>\n",
       "</tr>\n",
       "<tr>\n",
       "  <th>C(zipcode)[T.98045]</th>   <td> 1.216e+05</td> <td> 1.19e+04</td> <td>   10.209</td> <td> 0.000</td> <td> 9.83e+04</td> <td> 1.45e+05</td>\n",
       "</tr>\n",
       "<tr>\n",
       "  <th>C(zipcode)[T.98052]</th>   <td> 2.325e+05</td> <td> 9361.152</td> <td>   24.832</td> <td> 0.000</td> <td> 2.14e+05</td> <td> 2.51e+05</td>\n",
       "</tr>\n",
       "<tr>\n",
       "  <th>C(zipcode)[T.98053]</th>   <td> 2.761e+05</td> <td> 1.02e+04</td> <td>   27.076</td> <td> 0.000</td> <td> 2.56e+05</td> <td> 2.96e+05</td>\n",
       "</tr>\n",
       "<tr>\n",
       "  <th>C(zipcode)[T.98055]</th>   <td> 3.111e+04</td> <td> 1.13e+04</td> <td>    2.747</td> <td> 0.006</td> <td> 8912.468</td> <td> 5.33e+04</td>\n",
       "</tr>\n",
       "<tr>\n",
       "  <th>C(zipcode)[T.98056]</th>   <td> 1.057e+05</td> <td>    1e+04</td> <td>   10.521</td> <td> 0.000</td> <td>  8.6e+04</td> <td> 1.25e+05</td>\n",
       "</tr>\n",
       "<tr>\n",
       "  <th>C(zipcode)[T.98058]</th>   <td> 2.717e+04</td> <td> 9715.247</td> <td>    2.796</td> <td> 0.005</td> <td> 8122.425</td> <td> 4.62e+04</td>\n",
       "</tr>\n",
       "<tr>\n",
       "  <th>C(zipcode)[T.98059]</th>   <td> 1.253e+05</td> <td> 9806.382</td> <td>   12.782</td> <td> 0.000</td> <td> 1.06e+05</td> <td> 1.45e+05</td>\n",
       "</tr>\n",
       "<tr>\n",
       "  <th>C(zipcode)[T.98065]</th>   <td> 1.717e+05</td> <td> 1.09e+04</td> <td>   15.819</td> <td> 0.000</td> <td>  1.5e+05</td> <td> 1.93e+05</td>\n",
       "</tr>\n",
       "<tr>\n",
       "  <th>C(zipcode)[T.98070]</th>   <td>  1.21e+05</td> <td> 1.48e+04</td> <td>    8.173</td> <td> 0.000</td> <td>  9.2e+04</td> <td>  1.5e+05</td>\n",
       "</tr>\n",
       "<tr>\n",
       "  <th>C(zipcode)[T.98072]</th>   <td> 1.799e+05</td> <td> 1.13e+04</td> <td>   15.988</td> <td> 0.000</td> <td> 1.58e+05</td> <td> 2.02e+05</td>\n",
       "</tr>\n",
       "<tr>\n",
       "  <th>C(zipcode)[T.98074]</th>   <td> 2.038e+05</td> <td> 9989.473</td> <td>   20.397</td> <td> 0.000</td> <td> 1.84e+05</td> <td> 2.23e+05</td>\n",
       "</tr>\n",
       "<tr>\n",
       "  <th>C(zipcode)[T.98075]</th>   <td> 2.444e+05</td> <td> 1.06e+04</td> <td>   23.079</td> <td> 0.000</td> <td> 2.24e+05</td> <td> 2.65e+05</td>\n",
       "</tr>\n",
       "<tr>\n",
       "  <th>C(zipcode)[T.98077]</th>   <td> 1.818e+05</td> <td> 1.24e+04</td> <td>   14.708</td> <td> 0.000</td> <td> 1.58e+05</td> <td> 2.06e+05</td>\n",
       "</tr>\n",
       "<tr>\n",
       "  <th>C(zipcode)[T.98092]</th>   <td>-1.356e+04</td> <td> 1.04e+04</td> <td>   -1.301</td> <td> 0.193</td> <td> -3.4e+04</td> <td> 6869.682</td>\n",
       "</tr>\n",
       "<tr>\n",
       "  <th>C(zipcode)[T.98102]</th>   <td> 3.381e+05</td> <td> 1.67e+04</td> <td>   20.287</td> <td> 0.000</td> <td> 3.05e+05</td> <td> 3.71e+05</td>\n",
       "</tr>\n",
       "<tr>\n",
       "  <th>C(zipcode)[T.98103]</th>   <td> 2.578e+05</td> <td> 9666.639</td> <td>   26.673</td> <td> 0.000</td> <td> 2.39e+05</td> <td> 2.77e+05</td>\n",
       "</tr>\n",
       "<tr>\n",
       "  <th>C(zipcode)[T.98105]</th>   <td> 3.731e+05</td> <td> 1.26e+04</td> <td>   29.548</td> <td> 0.000</td> <td> 3.48e+05</td> <td> 3.98e+05</td>\n",
       "</tr>\n",
       "<tr>\n",
       "  <th>C(zipcode)[T.98106]</th>   <td> 8.367e+04</td> <td> 1.07e+04</td> <td>    7.839</td> <td> 0.000</td> <td> 6.27e+04</td> <td> 1.05e+05</td>\n",
       "</tr>\n",
       "<tr>\n",
       "  <th>C(zipcode)[T.98107]</th>   <td> 2.401e+05</td> <td> 1.15e+04</td> <td>   20.845</td> <td> 0.000</td> <td> 2.18e+05</td> <td> 2.63e+05</td>\n",
       "</tr>\n",
       "<tr>\n",
       "  <th>C(zipcode)[T.98108]</th>   <td> 7.647e+04</td> <td> 1.26e+04</td> <td>    6.077</td> <td> 0.000</td> <td> 5.18e+04</td> <td> 1.01e+05</td>\n",
       "</tr>\n",
       "<tr>\n",
       "  <th>C(zipcode)[T.98109]</th>   <td> 3.639e+05</td> <td> 1.61e+04</td> <td>   22.662</td> <td> 0.000</td> <td> 3.32e+05</td> <td> 3.95e+05</td>\n",
       "</tr>\n",
       "<tr>\n",
       "  <th>C(zipcode)[T.98112]</th>   <td> 4.291e+05</td> <td> 1.22e+04</td> <td>   35.188</td> <td> 0.000</td> <td> 4.05e+05</td> <td> 4.53e+05</td>\n",
       "</tr>\n",
       "<tr>\n",
       "  <th>C(zipcode)[T.98115]</th>   <td> 2.738e+05</td> <td> 9561.468</td> <td>   28.632</td> <td> 0.000</td> <td> 2.55e+05</td> <td> 2.93e+05</td>\n",
       "</tr>\n",
       "<tr>\n",
       "  <th>C(zipcode)[T.98116]</th>   <td> 2.591e+05</td> <td> 1.08e+04</td> <td>   24.009</td> <td> 0.000</td> <td> 2.38e+05</td> <td>  2.8e+05</td>\n",
       "</tr>\n",
       "<tr>\n",
       "  <th>C(zipcode)[T.98117]</th>   <td> 2.563e+05</td> <td> 9689.714</td> <td>   26.454</td> <td> 0.000</td> <td> 2.37e+05</td> <td> 2.75e+05</td>\n",
       "</tr>\n",
       "<tr>\n",
       "  <th>C(zipcode)[T.98118]</th>   <td> 1.385e+05</td> <td> 9747.827</td> <td>   14.207</td> <td> 0.000</td> <td> 1.19e+05</td> <td> 1.58e+05</td>\n",
       "</tr>\n",
       "<tr>\n",
       "  <th>C(zipcode)[T.98119]</th>   <td> 3.655e+05</td> <td> 1.31e+04</td> <td>   27.878</td> <td> 0.000</td> <td>  3.4e+05</td> <td> 3.91e+05</td>\n",
       "</tr>\n",
       "<tr>\n",
       "  <th>C(zipcode)[T.98122]</th>   <td> 2.284e+05</td> <td> 1.13e+04</td> <td>   20.223</td> <td> 0.000</td> <td> 2.06e+05</td> <td> 2.51e+05</td>\n",
       "</tr>\n",
       "<tr>\n",
       "  <th>C(zipcode)[T.98125]</th>   <td> 1.715e+05</td> <td> 1.02e+04</td> <td>   16.811</td> <td> 0.000</td> <td> 1.51e+05</td> <td> 1.91e+05</td>\n",
       "</tr>\n",
       "<tr>\n",
       "  <th>C(zipcode)[T.98126]</th>   <td>  1.54e+05</td> <td> 1.06e+04</td> <td>   14.512</td> <td> 0.000</td> <td> 1.33e+05</td> <td> 1.75e+05</td>\n",
       "</tr>\n",
       "<tr>\n",
       "  <th>C(zipcode)[T.98133]</th>   <td> 1.161e+05</td> <td> 9703.189</td> <td>   11.966</td> <td> 0.000</td> <td> 9.71e+04</td> <td> 1.35e+05</td>\n",
       "</tr>\n",
       "<tr>\n",
       "  <th>C(zipcode)[T.98136]</th>   <td> 2.234e+05</td> <td> 1.14e+04</td> <td>   19.560</td> <td> 0.000</td> <td> 2.01e+05</td> <td> 2.46e+05</td>\n",
       "</tr>\n",
       "<tr>\n",
       "  <th>C(zipcode)[T.98144]</th>   <td> 2.165e+05</td> <td> 1.09e+04</td> <td>   19.869</td> <td> 0.000</td> <td> 1.95e+05</td> <td> 2.38e+05</td>\n",
       "</tr>\n",
       "<tr>\n",
       "  <th>C(zipcode)[T.98146]</th>   <td> 1.136e+05</td> <td> 1.09e+04</td> <td>   10.448</td> <td> 0.000</td> <td> 9.23e+04</td> <td> 1.35e+05</td>\n",
       "</tr>\n",
       "<tr>\n",
       "  <th>C(zipcode)[T.98148]</th>   <td> 2.775e+04</td> <td> 2.03e+04</td> <td>    1.365</td> <td> 0.172</td> <td>-1.21e+04</td> <td> 6.76e+04</td>\n",
       "</tr>\n",
       "<tr>\n",
       "  <th>C(zipcode)[T.98155]</th>   <td> 1.177e+05</td> <td> 9977.705</td> <td>   11.800</td> <td> 0.000</td> <td> 9.82e+04</td> <td> 1.37e+05</td>\n",
       "</tr>\n",
       "<tr>\n",
       "  <th>C(zipcode)[T.98166]</th>   <td> 9.723e+04</td> <td> 1.15e+04</td> <td>    8.485</td> <td> 0.000</td> <td> 7.48e+04</td> <td>  1.2e+05</td>\n",
       "</tr>\n",
       "<tr>\n",
       "  <th>C(zipcode)[T.98168]</th>   <td>  5.43e+04</td> <td> 1.13e+04</td> <td>    4.805</td> <td> 0.000</td> <td> 3.21e+04</td> <td> 7.64e+04</td>\n",
       "</tr>\n",
       "<tr>\n",
       "  <th>C(zipcode)[T.98177]</th>   <td> 2.171e+05</td> <td> 1.14e+04</td> <td>   19.125</td> <td> 0.000</td> <td> 1.95e+05</td> <td> 2.39e+05</td>\n",
       "</tr>\n",
       "<tr>\n",
       "  <th>C(zipcode)[T.98178]</th>   <td> 4.547e+04</td> <td> 1.13e+04</td> <td>    4.022</td> <td> 0.000</td> <td> 2.33e+04</td> <td> 6.76e+04</td>\n",
       "</tr>\n",
       "<tr>\n",
       "  <th>C(zipcode)[T.98188]</th>   <td> 2.522e+04</td> <td>  1.4e+04</td> <td>    1.802</td> <td> 0.072</td> <td>-2217.644</td> <td> 5.27e+04</td>\n",
       "</tr>\n",
       "<tr>\n",
       "  <th>C(zipcode)[T.98198]</th>   <td> 2.883e+04</td> <td> 1.12e+04</td> <td>    2.580</td> <td> 0.010</td> <td> 6923.167</td> <td> 5.07e+04</td>\n",
       "</tr>\n",
       "<tr>\n",
       "  <th>C(zipcode)[T.98199]</th>   <td> 3.282e+05</td> <td> 1.09e+04</td> <td>   30.061</td> <td> 0.000</td> <td> 3.07e+05</td> <td>  3.5e+05</td>\n",
       "</tr>\n",
       "<tr>\n",
       "  <th>y_old_sold</th>            <td> 1627.0931</td> <td>   55.079</td> <td>   29.541</td> <td> 0.000</td> <td> 1519.132</td> <td> 1735.054</td>\n",
       "</tr>\n",
       "<tr>\n",
       "  <th>yrs_since_reno</th>        <td>-1367.4953</td> <td>  301.397</td> <td>   -4.537</td> <td> 0.000</td> <td>-1958.265</td> <td> -776.726</td>\n",
       "</tr>\n",
       "<tr>\n",
       "  <th>bedrooms</th>              <td> 1.827e+04</td> <td> 1339.987</td> <td>   13.635</td> <td> 0.000</td> <td> 1.56e+04</td> <td> 2.09e+04</td>\n",
       "</tr>\n",
       "<tr>\n",
       "  <th>bathrooms</th>             <td> 7.179e+04</td> <td> 2196.916</td> <td>   32.675</td> <td> 0.000</td> <td> 6.75e+04</td> <td> 7.61e+04</td>\n",
       "</tr>\n",
       "<tr>\n",
       "  <th>condition</th>             <td> 2.066e+04</td> <td> 1670.976</td> <td>   12.366</td> <td> 0.000</td> <td> 1.74e+04</td> <td> 2.39e+04</td>\n",
       "</tr>\n",
       "<tr>\n",
       "  <th>grade</th>                 <td> 1.186e+05</td> <td> 1269.882</td> <td>   93.416</td> <td> 0.000</td> <td> 1.16e+05</td> <td> 1.21e+05</td>\n",
       "</tr>\n",
       "<tr>\n",
       "  <th>floors</th>                <td>-4885.4475</td> <td> 2672.150</td> <td>   -1.828</td> <td> 0.068</td> <td>-1.01e+04</td> <td>  352.246</td>\n",
       "</tr>\n",
       "</table>\n",
       "<table class=\"simpletable\">\n",
       "<tr>\n",
       "  <th>Omnibus:</th>       <td>3595.690</td> <th>  Durbin-Watson:     </th> <td>   2.016</td> \n",
       "</tr>\n",
       "<tr>\n",
       "  <th>Prob(Omnibus):</th>  <td> 0.000</td>  <th>  Jarque-Bera (JB):  </th> <td>13713.791</td>\n",
       "</tr>\n",
       "<tr>\n",
       "  <th>Skew:</th>           <td> 1.024</td>  <th>  Prob(JB):          </th> <td>    0.00</td> \n",
       "</tr>\n",
       "<tr>\n",
       "  <th>Kurtosis:</th>       <td> 6.906</td>  <th>  Cond. No.          </th> <td>3.49e+03</td> \n",
       "</tr>\n",
       "</table><br/><br/>Notes:<br/>[1] Standard Errors assume that the covariance matrix of the errors is correctly specified.<br/>[2] The condition number is large, 3.49e+03. This might indicate that there are<br/>strong multicollinearity or other numerical problems."
      ],
      "text/plain": [
       "<class 'statsmodels.iolib.summary.Summary'>\n",
       "\"\"\"\n",
       "                            OLS Regression Results                            \n",
       "==============================================================================\n",
       "Dep. Variable:                  price   R-squared:                       0.772\n",
       "Model:                            OLS   Adj. R-squared:                  0.771\n",
       "Method:                 Least Squares   F-statistic:                     723.0\n",
       "Date:                Thu, 03 Jun 2021   Prob (F-statistic):               0.00\n",
       "Time:                        19:42:28   Log-Likelihood:            -2.2246e+05\n",
       "No. Observations:               16923   AIC:                         4.451e+05\n",
       "Df Residuals:                   16843   BIC:                         4.457e+05\n",
       "Df Model:                          79                                         \n",
       "Covariance Type:            nonrobust                                         \n",
       "=========================================================================================\n",
       "                            coef    std err          t      P>|t|      [0.025      0.975]\n",
       "-----------------------------------------------------------------------------------------\n",
       "Intercept             -9.082e+05   1.29e+04    -70.617      0.000   -9.33e+05   -8.83e+05\n",
       "C(was_renovated)[T.1]  5.205e+04   7669.920      6.786      0.000     3.7e+04    6.71e+04\n",
       "C(has_bsmnt)[T.1]      4194.0254   2410.118      1.740      0.082    -530.059    8918.109\n",
       "C(waterfront)[T.1]     4.146e+05   1.46e+04     28.492      0.000    3.86e+05    4.43e+05\n",
       "C(zipcode)[T.98002]    7700.3206   1.24e+04      0.622      0.534   -1.66e+04     3.2e+04\n",
       "C(zipcode)[T.98003]   -2.942e+04   1.11e+04     -2.651      0.008   -5.12e+04   -7666.780\n",
       "C(zipcode)[T.98004]    6.095e+05   1.21e+04     50.472      0.000    5.86e+05    6.33e+05\n",
       "C(zipcode)[T.98005]    2.997e+05    1.3e+04     22.968      0.000    2.74e+05    3.25e+05\n",
       "C(zipcode)[T.98006]    2.806e+05   9970.638     28.143      0.000    2.61e+05       3e+05\n",
       "C(zipcode)[T.98007]    2.074e+05   1.35e+04     15.307      0.000    1.81e+05    2.34e+05\n",
       "C(zipcode)[T.98008]    2.307e+05   1.12e+04     20.617      0.000    2.09e+05    2.53e+05\n",
       "C(zipcode)[T.98010]    1.156e+05   1.62e+04      7.135      0.000    8.39e+04    1.47e+05\n",
       "C(zipcode)[T.98011]    1.349e+05   1.22e+04     11.047      0.000    1.11e+05    1.59e+05\n",
       "C(zipcode)[T.98014]    1.667e+05   1.44e+04     11.542      0.000    1.38e+05    1.95e+05\n",
       "C(zipcode)[T.98019]    1.188e+05   1.27e+04      9.368      0.000     9.4e+04    1.44e+05\n",
       "C(zipcode)[T.98022]    3.376e+04   1.17e+04      2.892      0.004    1.09e+04    5.66e+04\n",
       "C(zipcode)[T.98023]   -3.732e+04   9591.428     -3.891      0.000   -5.61e+04   -1.85e+04\n",
       "C(zipcode)[T.98024]    2.266e+05   1.73e+04     13.095      0.000    1.93e+05    2.61e+05\n",
       "C(zipcode)[T.98027]    1.868e+05   1.01e+04     18.439      0.000    1.67e+05    2.07e+05\n",
       "C(zipcode)[T.98028]    1.311e+05   1.12e+04     11.735      0.000    1.09e+05    1.53e+05\n",
       "C(zipcode)[T.98029]    1.883e+05   1.09e+04     17.344      0.000    1.67e+05     2.1e+05\n",
       "C(zipcode)[T.98030]   -7414.8887   1.14e+04     -0.648      0.517   -2.98e+04     1.5e+04\n",
       "C(zipcode)[T.98031]   -5749.4528   1.12e+04     -0.511      0.609   -2.78e+04    1.63e+04\n",
       "C(zipcode)[T.98032]   -1.688e+04   1.43e+04     -1.181      0.238   -4.49e+04    1.11e+04\n",
       "C(zipcode)[T.98033]    3.474e+05   9992.388     34.769      0.000    3.28e+05    3.67e+05\n",
       "C(zipcode)[T.98034]    1.682e+05   9518.772     17.668      0.000     1.5e+05    1.87e+05\n",
       "C(zipcode)[T.98038]     5.18e+04   9424.092      5.497      0.000    3.33e+04    7.03e+04\n",
       "C(zipcode)[T.98039]    8.197e+05   3.19e+04     25.677      0.000    7.57e+05    8.82e+05\n",
       "C(zipcode)[T.98040]    4.667e+05   1.17e+04     39.877      0.000    4.44e+05     4.9e+05\n",
       "C(zipcode)[T.98042]    1.474e+04   9540.112      1.545      0.122   -3957.891    3.34e+04\n",
       "C(zipcode)[T.98045]    1.216e+05   1.19e+04     10.209      0.000    9.83e+04    1.45e+05\n",
       "C(zipcode)[T.98052]    2.325e+05   9361.152     24.832      0.000    2.14e+05    2.51e+05\n",
       "C(zipcode)[T.98053]    2.761e+05   1.02e+04     27.076      0.000    2.56e+05    2.96e+05\n",
       "C(zipcode)[T.98055]    3.111e+04   1.13e+04      2.747      0.006    8912.468    5.33e+04\n",
       "C(zipcode)[T.98056]    1.057e+05      1e+04     10.521      0.000     8.6e+04    1.25e+05\n",
       "C(zipcode)[T.98058]    2.717e+04   9715.247      2.796      0.005    8122.425    4.62e+04\n",
       "C(zipcode)[T.98059]    1.253e+05   9806.382     12.782      0.000    1.06e+05    1.45e+05\n",
       "C(zipcode)[T.98065]    1.717e+05   1.09e+04     15.819      0.000     1.5e+05    1.93e+05\n",
       "C(zipcode)[T.98070]     1.21e+05   1.48e+04      8.173      0.000     9.2e+04     1.5e+05\n",
       "C(zipcode)[T.98072]    1.799e+05   1.13e+04     15.988      0.000    1.58e+05    2.02e+05\n",
       "C(zipcode)[T.98074]    2.038e+05   9989.473     20.397      0.000    1.84e+05    2.23e+05\n",
       "C(zipcode)[T.98075]    2.444e+05   1.06e+04     23.079      0.000    2.24e+05    2.65e+05\n",
       "C(zipcode)[T.98077]    1.818e+05   1.24e+04     14.708      0.000    1.58e+05    2.06e+05\n",
       "C(zipcode)[T.98092]   -1.356e+04   1.04e+04     -1.301      0.193    -3.4e+04    6869.682\n",
       "C(zipcode)[T.98102]    3.381e+05   1.67e+04     20.287      0.000    3.05e+05    3.71e+05\n",
       "C(zipcode)[T.98103]    2.578e+05   9666.639     26.673      0.000    2.39e+05    2.77e+05\n",
       "C(zipcode)[T.98105]    3.731e+05   1.26e+04     29.548      0.000    3.48e+05    3.98e+05\n",
       "C(zipcode)[T.98106]    8.367e+04   1.07e+04      7.839      0.000    6.27e+04    1.05e+05\n",
       "C(zipcode)[T.98107]    2.401e+05   1.15e+04     20.845      0.000    2.18e+05    2.63e+05\n",
       "C(zipcode)[T.98108]    7.647e+04   1.26e+04      6.077      0.000    5.18e+04    1.01e+05\n",
       "C(zipcode)[T.98109]    3.639e+05   1.61e+04     22.662      0.000    3.32e+05    3.95e+05\n",
       "C(zipcode)[T.98112]    4.291e+05   1.22e+04     35.188      0.000    4.05e+05    4.53e+05\n",
       "C(zipcode)[T.98115]    2.738e+05   9561.468     28.632      0.000    2.55e+05    2.93e+05\n",
       "C(zipcode)[T.98116]    2.591e+05   1.08e+04     24.009      0.000    2.38e+05     2.8e+05\n",
       "C(zipcode)[T.98117]    2.563e+05   9689.714     26.454      0.000    2.37e+05    2.75e+05\n",
       "C(zipcode)[T.98118]    1.385e+05   9747.827     14.207      0.000    1.19e+05    1.58e+05\n",
       "C(zipcode)[T.98119]    3.655e+05   1.31e+04     27.878      0.000     3.4e+05    3.91e+05\n",
       "C(zipcode)[T.98122]    2.284e+05   1.13e+04     20.223      0.000    2.06e+05    2.51e+05\n",
       "C(zipcode)[T.98125]    1.715e+05   1.02e+04     16.811      0.000    1.51e+05    1.91e+05\n",
       "C(zipcode)[T.98126]     1.54e+05   1.06e+04     14.512      0.000    1.33e+05    1.75e+05\n",
       "C(zipcode)[T.98133]    1.161e+05   9703.189     11.966      0.000    9.71e+04    1.35e+05\n",
       "C(zipcode)[T.98136]    2.234e+05   1.14e+04     19.560      0.000    2.01e+05    2.46e+05\n",
       "C(zipcode)[T.98144]    2.165e+05   1.09e+04     19.869      0.000    1.95e+05    2.38e+05\n",
       "C(zipcode)[T.98146]    1.136e+05   1.09e+04     10.448      0.000    9.23e+04    1.35e+05\n",
       "C(zipcode)[T.98148]    2.775e+04   2.03e+04      1.365      0.172   -1.21e+04    6.76e+04\n",
       "C(zipcode)[T.98155]    1.177e+05   9977.705     11.800      0.000    9.82e+04    1.37e+05\n",
       "C(zipcode)[T.98166]    9.723e+04   1.15e+04      8.485      0.000    7.48e+04     1.2e+05\n",
       "C(zipcode)[T.98168]     5.43e+04   1.13e+04      4.805      0.000    3.21e+04    7.64e+04\n",
       "C(zipcode)[T.98177]    2.171e+05   1.14e+04     19.125      0.000    1.95e+05    2.39e+05\n",
       "C(zipcode)[T.98178]    4.547e+04   1.13e+04      4.022      0.000    2.33e+04    6.76e+04\n",
       "C(zipcode)[T.98188]    2.522e+04    1.4e+04      1.802      0.072   -2217.644    5.27e+04\n",
       "C(zipcode)[T.98198]    2.883e+04   1.12e+04      2.580      0.010    6923.167    5.07e+04\n",
       "C(zipcode)[T.98199]    3.282e+05   1.09e+04     30.061      0.000    3.07e+05     3.5e+05\n",
       "y_old_sold             1627.0931     55.079     29.541      0.000    1519.132    1735.054\n",
       "yrs_since_reno        -1367.4953    301.397     -4.537      0.000   -1958.265    -776.726\n",
       "bedrooms               1.827e+04   1339.987     13.635      0.000    1.56e+04    2.09e+04\n",
       "bathrooms              7.179e+04   2196.916     32.675      0.000    6.75e+04    7.61e+04\n",
       "condition              2.066e+04   1670.976     12.366      0.000    1.74e+04    2.39e+04\n",
       "grade                  1.186e+05   1269.882     93.416      0.000    1.16e+05    1.21e+05\n",
       "floors                -4885.4475   2672.150     -1.828      0.068   -1.01e+04     352.246\n",
       "==============================================================================\n",
       "Omnibus:                     3595.690   Durbin-Watson:                   2.016\n",
       "Prob(Omnibus):                  0.000   Jarque-Bera (JB):            13713.791\n",
       "Skew:                           1.024   Prob(JB):                         0.00\n",
       "Kurtosis:                       6.906   Cond. No.                     3.49e+03\n",
       "==============================================================================\n",
       "\n",
       "Notes:\n",
       "[1] Standard Errors assume that the covariance matrix of the errors is correctly specified.\n",
       "[2] The condition number is large, 3.49e+03. This might indicate that there are\n",
       "strong multicollinearity or other numerical problems.\n",
       "\"\"\""
      ]
     },
     "metadata": {},
     "output_type": "display_data"
    },
    {
     "data": {
      "image/png": "[encoded data removed]",
      "text/plain": [
       "<Figure size 720x360 with 2 Axes>"
      ]
     },
     "metadata": {
      "needs_background": "light"
     },
     "output_type": "display_data"
    }
   ],
   "source": [
    "## Added zip codes as a categorical feature\n",
    "\n",
    "categorical_features = ['was_renovated','has_bsmnt', 'waterfront', 'zipcode']\n",
    "\n",
    "continuous_features = ['y_old_sold','yrs_since_reno', 'bedrooms', 'bathrooms',\n",
    "                       'condition','grade', 'floors']\n",
    "\n",
    "create_model(df_clean,cont=continuous_features,cat=categorical_features, model_name='model_clean2');"
   ]
  },
  {
   "cell_type": "markdown",
   "metadata": {},
   "source": [
    "Interpretation:\n",
    "\n",
    "* R^2: ~.77, greater than target of .75\n",
    "\n",
    "* Residual plots show somewhat homoscedasticity\n",
    "\n",
    "* Q-Q Plot shows more normal residuals (vs. earlier plot)\n",
    "\n",
    "* Changes: remove features with p-values higher than .05"
   ]
  },
  {
   "cell_type": "code",
   "execution_count": 142,
   "metadata": {
    "ExecuteTime": {
     "end_time": "2021-06-03T23:42:52.650447Z",
     "start_time": "2021-06-03T23:42:51.745448Z"
    },
    "scrolled": false
   },
   "outputs": [
    {
     "name": "stdout",
     "output_type": "stream",
     "text": [
      "price~+y_old_sold+yrs_since_reno+bedrooms+bathrooms+condition+grade+C(was_renovated)+C(waterfront)+C(zipcode)\n"
     ]
    },
    {
     "data": {
      "text/html": [
       "<table class=\"simpletable\">\n",
       "<caption>OLS Regression Results</caption>\n",
       "<tr>\n",
       "  <th>Dep. Variable:</th>          <td>price</td>      <th>  R-squared:         </th>  <td>   0.772</td>  \n",
       "</tr>\n",
       "<tr>\n",
       "  <th>Model:</th>                   <td>OLS</td>       <th>  Adj. R-squared:    </th>  <td>   0.771</td>  \n",
       "</tr>\n",
       "<tr>\n",
       "  <th>Method:</th>             <td>Least Squares</td>  <th>  F-statistic:       </th>  <td>   741.2</td>  \n",
       "</tr>\n",
       "<tr>\n",
       "  <th>Date:</th>             <td>Thu, 03 Jun 2021</td> <th>  Prob (F-statistic):</th>   <td>  0.00</td>   \n",
       "</tr>\n",
       "<tr>\n",
       "  <th>Time:</th>                 <td>19:42:52</td>     <th>  Log-Likelihood:    </th> <td>-2.2246e+05</td>\n",
       "</tr>\n",
       "<tr>\n",
       "  <th>No. Observations:</th>      <td> 16923</td>      <th>  AIC:               </th>  <td>4.451e+05</td> \n",
       "</tr>\n",
       "<tr>\n",
       "  <th>Df Residuals:</th>          <td> 16845</td>      <th>  BIC:               </th>  <td>4.457e+05</td> \n",
       "</tr>\n",
       "<tr>\n",
       "  <th>Df Model:</th>              <td>    77</td>      <th>                     </th>      <td> </td>     \n",
       "</tr>\n",
       "<tr>\n",
       "  <th>Covariance Type:</th>      <td>nonrobust</td>    <th>                     </th>      <td> </td>     \n",
       "</tr>\n",
       "</table>\n",
       "<table class=\"simpletable\">\n",
       "<tr>\n",
       "            <td></td>               <th>coef</th>     <th>std err</th>      <th>t</th>      <th>P>|t|</th>  <th>[0.025</th>    <th>0.975]</th>  \n",
       "</tr>\n",
       "<tr>\n",
       "  <th>Intercept</th>             <td>-9.145e+05</td> <td> 1.26e+04</td> <td>  -72.433</td> <td> 0.000</td> <td>-9.39e+05</td> <td> -8.9e+05</td>\n",
       "</tr>\n",
       "<tr>\n",
       "  <th>C(was_renovated)[T.1]</th> <td> 5.184e+04</td> <td> 7671.429</td> <td>    6.757</td> <td> 0.000</td> <td> 3.68e+04</td> <td> 6.69e+04</td>\n",
       "</tr>\n",
       "<tr>\n",
       "  <th>C(waterfront)[T.1]</th>    <td> 4.146e+05</td> <td> 1.45e+04</td> <td>   28.510</td> <td> 0.000</td> <td> 3.86e+05</td> <td> 4.43e+05</td>\n",
       "</tr>\n",
       "<tr>\n",
       "  <th>C(zipcode)[T.98002]</th>   <td> 6498.2936</td> <td> 1.24e+04</td> <td>    0.525</td> <td> 0.599</td> <td>-1.78e+04</td> <td> 3.08e+04</td>\n",
       "</tr>\n",
       "<tr>\n",
       "  <th>C(zipcode)[T.98003]</th>   <td> -2.86e+04</td> <td> 1.11e+04</td> <td>   -2.577</td> <td> 0.010</td> <td>-5.03e+04</td> <td>-6842.006</td>\n",
       "</tr>\n",
       "<tr>\n",
       "  <th>C(zipcode)[T.98004]</th>   <td> 6.101e+05</td> <td> 1.21e+04</td> <td>   50.523</td> <td> 0.000</td> <td> 5.86e+05</td> <td> 6.34e+05</td>\n",
       "</tr>\n",
       "<tr>\n",
       "  <th>C(zipcode)[T.98005]</th>   <td> 3.014e+05</td> <td>  1.3e+04</td> <td>   23.107</td> <td> 0.000</td> <td> 2.76e+05</td> <td> 3.27e+05</td>\n",
       "</tr>\n",
       "<tr>\n",
       "  <th>C(zipcode)[T.98006]</th>   <td> 2.818e+05</td> <td> 9965.649</td> <td>   28.272</td> <td> 0.000</td> <td> 2.62e+05</td> <td> 3.01e+05</td>\n",
       "</tr>\n",
       "<tr>\n",
       "  <th>C(zipcode)[T.98007]</th>   <td> 2.073e+05</td> <td> 1.36e+04</td> <td>   15.295</td> <td> 0.000</td> <td> 1.81e+05</td> <td> 2.34e+05</td>\n",
       "</tr>\n",
       "<tr>\n",
       "  <th>C(zipcode)[T.98008]</th>   <td>  2.32e+05</td> <td> 1.12e+04</td> <td>   20.739</td> <td> 0.000</td> <td>  2.1e+05</td> <td> 2.54e+05</td>\n",
       "</tr>\n",
       "<tr>\n",
       "  <th>C(zipcode)[T.98010]</th>   <td> 1.148e+05</td> <td> 1.62e+04</td> <td>    7.083</td> <td> 0.000</td> <td>  8.3e+04</td> <td> 1.47e+05</td>\n",
       "</tr>\n",
       "<tr>\n",
       "  <th>C(zipcode)[T.98011]</th>   <td>  1.35e+05</td> <td> 1.22e+04</td> <td>   11.057</td> <td> 0.000</td> <td> 1.11e+05</td> <td> 1.59e+05</td>\n",
       "</tr>\n",
       "<tr>\n",
       "  <th>C(zipcode)[T.98014]</th>   <td> 1.658e+05</td> <td> 1.44e+04</td> <td>   11.478</td> <td> 0.000</td> <td> 1.37e+05</td> <td> 1.94e+05</td>\n",
       "</tr>\n",
       "<tr>\n",
       "  <th>C(zipcode)[T.98019]</th>   <td> 1.179e+05</td> <td> 1.27e+04</td> <td>    9.296</td> <td> 0.000</td> <td> 9.31e+04</td> <td> 1.43e+05</td>\n",
       "</tr>\n",
       "<tr>\n",
       "  <th>C(zipcode)[T.98022]</th>   <td> 3.311e+04</td> <td> 1.17e+04</td> <td>    2.836</td> <td> 0.005</td> <td> 1.02e+04</td> <td>  5.6e+04</td>\n",
       "</tr>\n",
       "<tr>\n",
       "  <th>C(zipcode)[T.98023]</th>   <td>-3.635e+04</td> <td> 9589.388</td> <td>   -3.791</td> <td> 0.000</td> <td>-5.51e+04</td> <td>-1.76e+04</td>\n",
       "</tr>\n",
       "<tr>\n",
       "  <th>C(zipcode)[T.98024]</th>   <td> 2.261e+05</td> <td> 1.73e+04</td> <td>   13.063</td> <td> 0.000</td> <td> 1.92e+05</td> <td>  2.6e+05</td>\n",
       "</tr>\n",
       "<tr>\n",
       "  <th>C(zipcode)[T.98027]</th>   <td>  1.87e+05</td> <td> 1.01e+04</td> <td>   18.496</td> <td> 0.000</td> <td> 1.67e+05</td> <td> 2.07e+05</td>\n",
       "</tr>\n",
       "<tr>\n",
       "  <th>C(zipcode)[T.98028]</th>   <td> 1.316e+05</td> <td> 1.12e+04</td> <td>   11.782</td> <td> 0.000</td> <td>  1.1e+05</td> <td> 1.54e+05</td>\n",
       "</tr>\n",
       "<tr>\n",
       "  <th>C(zipcode)[T.98029]</th>   <td> 1.866e+05</td> <td> 1.08e+04</td> <td>   17.204</td> <td> 0.000</td> <td> 1.65e+05</td> <td> 2.08e+05</td>\n",
       "</tr>\n",
       "<tr>\n",
       "  <th>C(zipcode)[T.98030]</th>   <td>-7704.2765</td> <td> 1.14e+04</td> <td>   -0.673</td> <td> 0.501</td> <td>-3.01e+04</td> <td> 1.47e+04</td>\n",
       "</tr>\n",
       "<tr>\n",
       "  <th>C(zipcode)[T.98031]</th>   <td>-5857.5752</td> <td> 1.12e+04</td> <td>   -0.521</td> <td> 0.602</td> <td>-2.79e+04</td> <td> 1.62e+04</td>\n",
       "</tr>\n",
       "<tr>\n",
       "  <th>C(zipcode)[T.98032]</th>   <td>-1.643e+04</td> <td> 1.43e+04</td> <td>   -1.149</td> <td> 0.250</td> <td>-4.44e+04</td> <td> 1.16e+04</td>\n",
       "</tr>\n",
       "<tr>\n",
       "  <th>C(zipcode)[T.98033]</th>   <td> 3.475e+05</td> <td> 9994.606</td> <td>   34.769</td> <td> 0.000</td> <td> 3.28e+05</td> <td> 3.67e+05</td>\n",
       "</tr>\n",
       "<tr>\n",
       "  <th>C(zipcode)[T.98034]</th>   <td> 1.693e+05</td> <td> 9515.521</td> <td>   17.787</td> <td> 0.000</td> <td> 1.51e+05</td> <td> 1.88e+05</td>\n",
       "</tr>\n",
       "<tr>\n",
       "  <th>C(zipcode)[T.98038]</th>   <td> 5.042e+04</td> <td> 9417.311</td> <td>    5.353</td> <td> 0.000</td> <td>  3.2e+04</td> <td> 6.89e+04</td>\n",
       "</tr>\n",
       "<tr>\n",
       "  <th>C(zipcode)[T.98039]</th>   <td> 8.205e+05</td> <td> 3.19e+04</td> <td>   25.699</td> <td> 0.000</td> <td> 7.58e+05</td> <td> 8.83e+05</td>\n",
       "</tr>\n",
       "<tr>\n",
       "  <th>C(zipcode)[T.98040]</th>   <td> 4.675e+05</td> <td> 1.17e+04</td> <td>   39.945</td> <td> 0.000</td> <td> 4.45e+05</td> <td>  4.9e+05</td>\n",
       "</tr>\n",
       "<tr>\n",
       "  <th>C(zipcode)[T.98042]</th>   <td> 1.417e+04</td> <td> 9540.489</td> <td>    1.486</td> <td> 0.137</td> <td>-4526.835</td> <td> 3.29e+04</td>\n",
       "</tr>\n",
       "<tr>\n",
       "  <th>C(zipcode)[T.98045]</th>   <td> 1.213e+05</td> <td> 1.19e+04</td> <td>   10.179</td> <td> 0.000</td> <td> 9.79e+04</td> <td> 1.45e+05</td>\n",
       "</tr>\n",
       "<tr>\n",
       "  <th>C(zipcode)[T.98052]</th>   <td> 2.326e+05</td> <td> 9362.476</td> <td>   24.843</td> <td> 0.000</td> <td> 2.14e+05</td> <td> 2.51e+05</td>\n",
       "</tr>\n",
       "<tr>\n",
       "  <th>C(zipcode)[T.98053]</th>   <td> 2.754e+05</td> <td> 1.02e+04</td> <td>   27.030</td> <td> 0.000</td> <td> 2.55e+05</td> <td> 2.95e+05</td>\n",
       "</tr>\n",
       "<tr>\n",
       "  <th>C(zipcode)[T.98055]</th>   <td> 3.074e+04</td> <td> 1.13e+04</td> <td>    2.714</td> <td> 0.007</td> <td> 8542.101</td> <td> 5.29e+04</td>\n",
       "</tr>\n",
       "<tr>\n",
       "  <th>C(zipcode)[T.98056]</th>   <td> 1.052e+05</td> <td>    1e+04</td> <td>   10.472</td> <td> 0.000</td> <td> 8.55e+04</td> <td> 1.25e+05</td>\n",
       "</tr>\n",
       "<tr>\n",
       "  <th>C(zipcode)[T.98058]</th>   <td> 2.744e+04</td> <td> 9717.489</td> <td>    2.824</td> <td> 0.005</td> <td> 8392.419</td> <td> 4.65e+04</td>\n",
       "</tr>\n",
       "<tr>\n",
       "  <th>C(zipcode)[T.98059]</th>   <td> 1.243e+05</td> <td> 9803.305</td> <td>   12.683</td> <td> 0.000</td> <td> 1.05e+05</td> <td> 1.44e+05</td>\n",
       "</tr>\n",
       "<tr>\n",
       "  <th>C(zipcode)[T.98065]</th>   <td> 1.699e+05</td> <td> 1.08e+04</td> <td>   15.668</td> <td> 0.000</td> <td> 1.49e+05</td> <td> 1.91e+05</td>\n",
       "</tr>\n",
       "<tr>\n",
       "  <th>C(zipcode)[T.98070]</th>   <td> 1.204e+05</td> <td> 1.48e+04</td> <td>    8.129</td> <td> 0.000</td> <td> 9.14e+04</td> <td> 1.49e+05</td>\n",
       "</tr>\n",
       "<tr>\n",
       "  <th>C(zipcode)[T.98072]</th>   <td> 1.806e+05</td> <td> 1.13e+04</td> <td>   16.055</td> <td> 0.000</td> <td> 1.59e+05</td> <td> 2.03e+05</td>\n",
       "</tr>\n",
       "<tr>\n",
       "  <th>C(zipcode)[T.98074]</th>   <td> 2.031e+05</td> <td> 9990.478</td> <td>   20.334</td> <td> 0.000</td> <td> 1.84e+05</td> <td> 2.23e+05</td>\n",
       "</tr>\n",
       "<tr>\n",
       "  <th>C(zipcode)[T.98075]</th>   <td> 2.433e+05</td> <td> 1.06e+04</td> <td>   22.985</td> <td> 0.000</td> <td> 2.23e+05</td> <td> 2.64e+05</td>\n",
       "</tr>\n",
       "<tr>\n",
       "  <th>C(zipcode)[T.98077]</th>   <td> 1.812e+05</td> <td> 1.24e+04</td> <td>   14.660</td> <td> 0.000</td> <td> 1.57e+05</td> <td> 2.05e+05</td>\n",
       "</tr>\n",
       "<tr>\n",
       "  <th>C(zipcode)[T.98092]</th>   <td>-1.425e+04</td> <td> 1.04e+04</td> <td>   -1.367</td> <td> 0.172</td> <td>-3.47e+04</td> <td> 6187.981</td>\n",
       "</tr>\n",
       "<tr>\n",
       "  <th>C(zipcode)[T.98102]</th>   <td> 3.358e+05</td> <td> 1.65e+04</td> <td>   20.326</td> <td> 0.000</td> <td> 3.03e+05</td> <td> 3.68e+05</td>\n",
       "</tr>\n",
       "<tr>\n",
       "  <th>C(zipcode)[T.98103]</th>   <td> 2.553e+05</td> <td> 9495.899</td> <td>   26.888</td> <td> 0.000</td> <td> 2.37e+05</td> <td> 2.74e+05</td>\n",
       "</tr>\n",
       "<tr>\n",
       "  <th>C(zipcode)[T.98105]</th>   <td> 3.724e+05</td> <td> 1.25e+04</td> <td>   29.693</td> <td> 0.000</td> <td> 3.48e+05</td> <td> 3.97e+05</td>\n",
       "</tr>\n",
       "<tr>\n",
       "  <th>C(zipcode)[T.98106]</th>   <td>   8.4e+04</td> <td> 1.06e+04</td> <td>    7.894</td> <td> 0.000</td> <td> 6.31e+04</td> <td> 1.05e+05</td>\n",
       "</tr>\n",
       "<tr>\n",
       "  <th>C(zipcode)[T.98107]</th>   <td> 2.383e+05</td> <td> 1.14e+04</td> <td>   20.927</td> <td> 0.000</td> <td> 2.16e+05</td> <td> 2.61e+05</td>\n",
       "</tr>\n",
       "<tr>\n",
       "  <th>C(zipcode)[T.98108]</th>   <td> 7.693e+04</td> <td> 1.26e+04</td> <td>    6.129</td> <td> 0.000</td> <td> 5.23e+04</td> <td> 1.02e+05</td>\n",
       "</tr>\n",
       "<tr>\n",
       "  <th>C(zipcode)[T.98109]</th>   <td> 3.625e+05</td> <td> 1.59e+04</td> <td>   22.730</td> <td> 0.000</td> <td> 3.31e+05</td> <td> 3.94e+05</td>\n",
       "</tr>\n",
       "<tr>\n",
       "  <th>C(zipcode)[T.98112]</th>   <td> 4.277e+05</td> <td> 1.21e+04</td> <td>   35.458</td> <td> 0.000</td> <td> 4.04e+05</td> <td> 4.51e+05</td>\n",
       "</tr>\n",
       "<tr>\n",
       "  <th>C(zipcode)[T.98115]</th>   <td> 2.738e+05</td> <td> 9478.528</td> <td>   28.883</td> <td> 0.000</td> <td> 2.55e+05</td> <td> 2.92e+05</td>\n",
       "</tr>\n",
       "<tr>\n",
       "  <th>C(zipcode)[T.98116]</th>   <td> 2.591e+05</td> <td> 1.07e+04</td> <td>   24.197</td> <td> 0.000</td> <td> 2.38e+05</td> <td>  2.8e+05</td>\n",
       "</tr>\n",
       "<tr>\n",
       "  <th>C(zipcode)[T.98117]</th>   <td> 2.558e+05</td> <td> 9603.986</td> <td>   26.632</td> <td> 0.000</td> <td> 2.37e+05</td> <td> 2.75e+05</td>\n",
       "</tr>\n",
       "<tr>\n",
       "  <th>C(zipcode)[T.98118]</th>   <td> 1.385e+05</td> <td> 9698.476</td> <td>   14.281</td> <td> 0.000</td> <td> 1.19e+05</td> <td> 1.58e+05</td>\n",
       "</tr>\n",
       "<tr>\n",
       "  <th>C(zipcode)[T.98119]</th>   <td>  3.64e+05</td> <td>  1.3e+04</td> <td>   28.064</td> <td> 0.000</td> <td> 3.39e+05</td> <td> 3.89e+05</td>\n",
       "</tr>\n",
       "<tr>\n",
       "  <th>C(zipcode)[T.98122]</th>   <td> 2.265e+05</td> <td> 1.12e+04</td> <td>   20.305</td> <td> 0.000</td> <td> 2.05e+05</td> <td> 2.48e+05</td>\n",
       "</tr>\n",
       "<tr>\n",
       "  <th>C(zipcode)[T.98125]</th>   <td> 1.715e+05</td> <td> 1.02e+04</td> <td>   16.856</td> <td> 0.000</td> <td> 1.52e+05</td> <td> 1.91e+05</td>\n",
       "</tr>\n",
       "<tr>\n",
       "  <th>C(zipcode)[T.98126]</th>   <td>  1.54e+05</td> <td> 1.06e+04</td> <td>   14.582</td> <td> 0.000</td> <td> 1.33e+05</td> <td> 1.75e+05</td>\n",
       "</tr>\n",
       "<tr>\n",
       "  <th>C(zipcode)[T.98133]</th>   <td> 1.158e+05</td> <td> 9678.547</td> <td>   11.962</td> <td> 0.000</td> <td> 9.68e+04</td> <td> 1.35e+05</td>\n",
       "</tr>\n",
       "<tr>\n",
       "  <th>C(zipcode)[T.98136]</th>   <td> 2.234e+05</td> <td> 1.14e+04</td> <td>   19.678</td> <td> 0.000</td> <td> 2.01e+05</td> <td> 2.46e+05</td>\n",
       "</tr>\n",
       "<tr>\n",
       "  <th>C(zipcode)[T.98144]</th>   <td>  2.16e+05</td> <td> 1.08e+04</td> <td>   20.053</td> <td> 0.000</td> <td> 1.95e+05</td> <td> 2.37e+05</td>\n",
       "</tr>\n",
       "<tr>\n",
       "  <th>C(zipcode)[T.98146]</th>   <td> 1.138e+05</td> <td> 1.09e+04</td> <td>   10.470</td> <td> 0.000</td> <td> 9.25e+04</td> <td> 1.35e+05</td>\n",
       "</tr>\n",
       "<tr>\n",
       "  <th>C(zipcode)[T.98148]</th>   <td> 2.791e+04</td> <td> 2.03e+04</td> <td>    1.373</td> <td> 0.170</td> <td>-1.19e+04</td> <td> 6.78e+04</td>\n",
       "</tr>\n",
       "<tr>\n",
       "  <th>C(zipcode)[T.98155]</th>   <td> 1.181e+05</td> <td> 9975.645</td> <td>   11.838</td> <td> 0.000</td> <td> 9.85e+04</td> <td> 1.38e+05</td>\n",
       "</tr>\n",
       "<tr>\n",
       "  <th>C(zipcode)[T.98166]</th>   <td> 9.794e+04</td> <td> 1.15e+04</td> <td>    8.553</td> <td> 0.000</td> <td> 7.55e+04</td> <td>  1.2e+05</td>\n",
       "</tr>\n",
       "<tr>\n",
       "  <th>C(zipcode)[T.98168]</th>   <td> 5.454e+04</td> <td> 1.13e+04</td> <td>    4.830</td> <td> 0.000</td> <td> 3.24e+04</td> <td> 7.67e+04</td>\n",
       "</tr>\n",
       "<tr>\n",
       "  <th>C(zipcode)[T.98177]</th>   <td> 2.185e+05</td> <td> 1.13e+04</td> <td>   19.270</td> <td> 0.000</td> <td> 1.96e+05</td> <td> 2.41e+05</td>\n",
       "</tr>\n",
       "<tr>\n",
       "  <th>C(zipcode)[T.98178]</th>   <td> 4.614e+04</td> <td> 1.13e+04</td> <td>    4.085</td> <td> 0.000</td> <td>  2.4e+04</td> <td> 6.83e+04</td>\n",
       "</tr>\n",
       "<tr>\n",
       "  <th>C(zipcode)[T.98188]</th>   <td> 2.592e+04</td> <td>  1.4e+04</td> <td>    1.851</td> <td> 0.064</td> <td>-1525.345</td> <td> 5.34e+04</td>\n",
       "</tr>\n",
       "<tr>\n",
       "  <th>C(zipcode)[T.98198]</th>   <td> 2.934e+04</td> <td> 1.12e+04</td> <td>    2.626</td> <td> 0.009</td> <td> 7436.794</td> <td> 5.12e+04</td>\n",
       "</tr>\n",
       "<tr>\n",
       "  <th>C(zipcode)[T.98199]</th>   <td> 3.294e+05</td> <td> 1.08e+04</td> <td>   30.411</td> <td> 0.000</td> <td> 3.08e+05</td> <td> 3.51e+05</td>\n",
       "</tr>\n",
       "<tr>\n",
       "  <th>y_old_sold</th>            <td> 1672.8602</td> <td>   52.032</td> <td>   32.151</td> <td> 0.000</td> <td> 1570.873</td> <td> 1774.848</td>\n",
       "</tr>\n",
       "<tr>\n",
       "  <th>yrs_since_reno</th>        <td>-1408.1210</td> <td>  301.100</td> <td>   -4.677</td> <td> 0.000</td> <td>-1998.308</td> <td> -817.934</td>\n",
       "</tr>\n",
       "<tr>\n",
       "  <th>bedrooms</th>              <td>  1.85e+04</td> <td> 1334.327</td> <td>   13.861</td> <td> 0.000</td> <td> 1.59e+04</td> <td> 2.11e+04</td>\n",
       "</tr>\n",
       "<tr>\n",
       "  <th>bathrooms</th>             <td> 7.185e+04</td> <td> 2064.623</td> <td>   34.800</td> <td> 0.000</td> <td> 6.78e+04</td> <td> 7.59e+04</td>\n",
       "</tr>\n",
       "<tr>\n",
       "  <th>condition</th>             <td> 2.118e+04</td> <td> 1663.980</td> <td>   12.730</td> <td> 0.000</td> <td> 1.79e+04</td> <td> 2.44e+04</td>\n",
       "</tr>\n",
       "<tr>\n",
       "  <th>grade</th>                 <td> 1.181e+05</td> <td> 1258.259</td> <td>   93.886</td> <td> 0.000</td> <td> 1.16e+05</td> <td> 1.21e+05</td>\n",
       "</tr>\n",
       "</table>\n",
       "<table class=\"simpletable\">\n",
       "<tr>\n",
       "  <th>Omnibus:</th>       <td>3599.647</td> <th>  Durbin-Watson:     </th> <td>   2.017</td> \n",
       "</tr>\n",
       "<tr>\n",
       "  <th>Prob(Omnibus):</th>  <td> 0.000</td>  <th>  Jarque-Bera (JB):  </th> <td>13732.009</td>\n",
       "</tr>\n",
       "<tr>\n",
       "  <th>Skew:</th>           <td> 1.025</td>  <th>  Prob(JB):          </th> <td>    0.00</td> \n",
       "</tr>\n",
       "<tr>\n",
       "  <th>Kurtosis:</th>       <td> 6.908</td>  <th>  Cond. No.          </th> <td>3.48e+03</td> \n",
       "</tr>\n",
       "</table><br/><br/>Notes:<br/>[1] Standard Errors assume that the covariance matrix of the errors is correctly specified.<br/>[2] The condition number is large, 3.48e+03. This might indicate that there are<br/>strong multicollinearity or other numerical problems."
      ],
      "text/plain": [
       "<class 'statsmodels.iolib.summary.Summary'>\n",
       "\"\"\"\n",
       "                            OLS Regression Results                            \n",
       "==============================================================================\n",
       "Dep. Variable:                  price   R-squared:                       0.772\n",
       "Model:                            OLS   Adj. R-squared:                  0.771\n",
       "Method:                 Least Squares   F-statistic:                     741.2\n",
       "Date:                Thu, 03 Jun 2021   Prob (F-statistic):               0.00\n",
       "Time:                        19:42:52   Log-Likelihood:            -2.2246e+05\n",
       "No. Observations:               16923   AIC:                         4.451e+05\n",
       "Df Residuals:                   16845   BIC:                         4.457e+05\n",
       "Df Model:                          77                                         \n",
       "Covariance Type:            nonrobust                                         \n",
       "=========================================================================================\n",
       "                            coef    std err          t      P>|t|      [0.025      0.975]\n",
       "-----------------------------------------------------------------------------------------\n",
       "Intercept             -9.145e+05   1.26e+04    -72.433      0.000   -9.39e+05    -8.9e+05\n",
       "C(was_renovated)[T.1]  5.184e+04   7671.429      6.757      0.000    3.68e+04    6.69e+04\n",
       "C(waterfront)[T.1]     4.146e+05   1.45e+04     28.510      0.000    3.86e+05    4.43e+05\n",
       "C(zipcode)[T.98002]    6498.2936   1.24e+04      0.525      0.599   -1.78e+04    3.08e+04\n",
       "C(zipcode)[T.98003]    -2.86e+04   1.11e+04     -2.577      0.010   -5.03e+04   -6842.006\n",
       "C(zipcode)[T.98004]    6.101e+05   1.21e+04     50.523      0.000    5.86e+05    6.34e+05\n",
       "C(zipcode)[T.98005]    3.014e+05    1.3e+04     23.107      0.000    2.76e+05    3.27e+05\n",
       "C(zipcode)[T.98006]    2.818e+05   9965.649     28.272      0.000    2.62e+05    3.01e+05\n",
       "C(zipcode)[T.98007]    2.073e+05   1.36e+04     15.295      0.000    1.81e+05    2.34e+05\n",
       "C(zipcode)[T.98008]     2.32e+05   1.12e+04     20.739      0.000     2.1e+05    2.54e+05\n",
       "C(zipcode)[T.98010]    1.148e+05   1.62e+04      7.083      0.000     8.3e+04    1.47e+05\n",
       "C(zipcode)[T.98011]     1.35e+05   1.22e+04     11.057      0.000    1.11e+05    1.59e+05\n",
       "C(zipcode)[T.98014]    1.658e+05   1.44e+04     11.478      0.000    1.37e+05    1.94e+05\n",
       "C(zipcode)[T.98019]    1.179e+05   1.27e+04      9.296      0.000    9.31e+04    1.43e+05\n",
       "C(zipcode)[T.98022]    3.311e+04   1.17e+04      2.836      0.005    1.02e+04     5.6e+04\n",
       "C(zipcode)[T.98023]   -3.635e+04   9589.388     -3.791      0.000   -5.51e+04   -1.76e+04\n",
       "C(zipcode)[T.98024]    2.261e+05   1.73e+04     13.063      0.000    1.92e+05     2.6e+05\n",
       "C(zipcode)[T.98027]     1.87e+05   1.01e+04     18.496      0.000    1.67e+05    2.07e+05\n",
       "C(zipcode)[T.98028]    1.316e+05   1.12e+04     11.782      0.000     1.1e+05    1.54e+05\n",
       "C(zipcode)[T.98029]    1.866e+05   1.08e+04     17.204      0.000    1.65e+05    2.08e+05\n",
       "C(zipcode)[T.98030]   -7704.2765   1.14e+04     -0.673      0.501   -3.01e+04    1.47e+04\n",
       "C(zipcode)[T.98031]   -5857.5752   1.12e+04     -0.521      0.602   -2.79e+04    1.62e+04\n",
       "C(zipcode)[T.98032]   -1.643e+04   1.43e+04     -1.149      0.250   -4.44e+04    1.16e+04\n",
       "C(zipcode)[T.98033]    3.475e+05   9994.606     34.769      0.000    3.28e+05    3.67e+05\n",
       "C(zipcode)[T.98034]    1.693e+05   9515.521     17.787      0.000    1.51e+05    1.88e+05\n",
       "C(zipcode)[T.98038]    5.042e+04   9417.311      5.353      0.000     3.2e+04    6.89e+04\n",
       "C(zipcode)[T.98039]    8.205e+05   3.19e+04     25.699      0.000    7.58e+05    8.83e+05\n",
       "C(zipcode)[T.98040]    4.675e+05   1.17e+04     39.945      0.000    4.45e+05     4.9e+05\n",
       "C(zipcode)[T.98042]    1.417e+04   9540.489      1.486      0.137   -4526.835    3.29e+04\n",
       "C(zipcode)[T.98045]    1.213e+05   1.19e+04     10.179      0.000    9.79e+04    1.45e+05\n",
       "C(zipcode)[T.98052]    2.326e+05   9362.476     24.843      0.000    2.14e+05    2.51e+05\n",
       "C(zipcode)[T.98053]    2.754e+05   1.02e+04     27.030      0.000    2.55e+05    2.95e+05\n",
       "C(zipcode)[T.98055]    3.074e+04   1.13e+04      2.714      0.007    8542.101    5.29e+04\n",
       "C(zipcode)[T.98056]    1.052e+05      1e+04     10.472      0.000    8.55e+04    1.25e+05\n",
       "C(zipcode)[T.98058]    2.744e+04   9717.489      2.824      0.005    8392.419    4.65e+04\n",
       "C(zipcode)[T.98059]    1.243e+05   9803.305     12.683      0.000    1.05e+05    1.44e+05\n",
       "C(zipcode)[T.98065]    1.699e+05   1.08e+04     15.668      0.000    1.49e+05    1.91e+05\n",
       "C(zipcode)[T.98070]    1.204e+05   1.48e+04      8.129      0.000    9.14e+04    1.49e+05\n",
       "C(zipcode)[T.98072]    1.806e+05   1.13e+04     16.055      0.000    1.59e+05    2.03e+05\n",
       "C(zipcode)[T.98074]    2.031e+05   9990.478     20.334      0.000    1.84e+05    2.23e+05\n",
       "C(zipcode)[T.98075]    2.433e+05   1.06e+04     22.985      0.000    2.23e+05    2.64e+05\n",
       "C(zipcode)[T.98077]    1.812e+05   1.24e+04     14.660      0.000    1.57e+05    2.05e+05\n",
       "C(zipcode)[T.98092]   -1.425e+04   1.04e+04     -1.367      0.172   -3.47e+04    6187.981\n",
       "C(zipcode)[T.98102]    3.358e+05   1.65e+04     20.326      0.000    3.03e+05    3.68e+05\n",
       "C(zipcode)[T.98103]    2.553e+05   9495.899     26.888      0.000    2.37e+05    2.74e+05\n",
       "C(zipcode)[T.98105]    3.724e+05   1.25e+04     29.693      0.000    3.48e+05    3.97e+05\n",
       "C(zipcode)[T.98106]      8.4e+04   1.06e+04      7.894      0.000    6.31e+04    1.05e+05\n",
       "C(zipcode)[T.98107]    2.383e+05   1.14e+04     20.927      0.000    2.16e+05    2.61e+05\n",
       "C(zipcode)[T.98108]    7.693e+04   1.26e+04      6.129      0.000    5.23e+04    1.02e+05\n",
       "C(zipcode)[T.98109]    3.625e+05   1.59e+04     22.730      0.000    3.31e+05    3.94e+05\n",
       "C(zipcode)[T.98112]    4.277e+05   1.21e+04     35.458      0.000    4.04e+05    4.51e+05\n",
       "C(zipcode)[T.98115]    2.738e+05   9478.528     28.883      0.000    2.55e+05    2.92e+05\n",
       "C(zipcode)[T.98116]    2.591e+05   1.07e+04     24.197      0.000    2.38e+05     2.8e+05\n",
       "C(zipcode)[T.98117]    2.558e+05   9603.986     26.632      0.000    2.37e+05    2.75e+05\n",
       "C(zipcode)[T.98118]    1.385e+05   9698.476     14.281      0.000    1.19e+05    1.58e+05\n",
       "C(zipcode)[T.98119]     3.64e+05    1.3e+04     28.064      0.000    3.39e+05    3.89e+05\n",
       "C(zipcode)[T.98122]    2.265e+05   1.12e+04     20.305      0.000    2.05e+05    2.48e+05\n",
       "C(zipcode)[T.98125]    1.715e+05   1.02e+04     16.856      0.000    1.52e+05    1.91e+05\n",
       "C(zipcode)[T.98126]     1.54e+05   1.06e+04     14.582      0.000    1.33e+05    1.75e+05\n",
       "C(zipcode)[T.98133]    1.158e+05   9678.547     11.962      0.000    9.68e+04    1.35e+05\n",
       "C(zipcode)[T.98136]    2.234e+05   1.14e+04     19.678      0.000    2.01e+05    2.46e+05\n",
       "C(zipcode)[T.98144]     2.16e+05   1.08e+04     20.053      0.000    1.95e+05    2.37e+05\n",
       "C(zipcode)[T.98146]    1.138e+05   1.09e+04     10.470      0.000    9.25e+04    1.35e+05\n",
       "C(zipcode)[T.98148]    2.791e+04   2.03e+04      1.373      0.170   -1.19e+04    6.78e+04\n",
       "C(zipcode)[T.98155]    1.181e+05   9975.645     11.838      0.000    9.85e+04    1.38e+05\n",
       "C(zipcode)[T.98166]    9.794e+04   1.15e+04      8.553      0.000    7.55e+04     1.2e+05\n",
       "C(zipcode)[T.98168]    5.454e+04   1.13e+04      4.830      0.000    3.24e+04    7.67e+04\n",
       "C(zipcode)[T.98177]    2.185e+05   1.13e+04     19.270      0.000    1.96e+05    2.41e+05\n",
       "C(zipcode)[T.98178]    4.614e+04   1.13e+04      4.085      0.000     2.4e+04    6.83e+04\n",
       "C(zipcode)[T.98188]    2.592e+04    1.4e+04      1.851      0.064   -1525.345    5.34e+04\n",
       "C(zipcode)[T.98198]    2.934e+04   1.12e+04      2.626      0.009    7436.794    5.12e+04\n",
       "C(zipcode)[T.98199]    3.294e+05   1.08e+04     30.411      0.000    3.08e+05    3.51e+05\n",
       "y_old_sold             1672.8602     52.032     32.151      0.000    1570.873    1774.848\n",
       "yrs_since_reno        -1408.1210    301.100     -4.677      0.000   -1998.308    -817.934\n",
       "bedrooms                1.85e+04   1334.327     13.861      0.000    1.59e+04    2.11e+04\n",
       "bathrooms              7.185e+04   2064.623     34.800      0.000    6.78e+04    7.59e+04\n",
       "condition              2.118e+04   1663.980     12.730      0.000    1.79e+04    2.44e+04\n",
       "grade                  1.181e+05   1258.259     93.886      0.000    1.16e+05    1.21e+05\n",
       "==============================================================================\n",
       "Omnibus:                     3599.647   Durbin-Watson:                   2.017\n",
       "Prob(Omnibus):                  0.000   Jarque-Bera (JB):            13732.009\n",
       "Skew:                           1.025   Prob(JB):                         0.00\n",
       "Kurtosis:                       6.908   Cond. No.                     3.48e+03\n",
       "==============================================================================\n",
       "\n",
       "Notes:\n",
       "[1] Standard Errors assume that the covariance matrix of the errors is correctly specified.\n",
       "[2] The condition number is large, 3.48e+03. This might indicate that there are\n",
       "strong multicollinearity or other numerical problems.\n",
       "\"\"\""
      ]
     },
     "metadata": {},
     "output_type": "display_data"
    },
    {
     "data": {
      "image/png": "[encoded data removed]",
      "text/plain": [
       "<Figure size 720x360 with 2 Axes>"
      ]
     },
     "metadata": {
      "needs_background": "light"
     },
     "output_type": "display_data"
    }
   ],
   "source": [
    "## Removed 'has_basement', 'floors' due to high p-values\n",
    "\n",
    "categorical_features = ['was_renovated','waterfront', 'zipcode']\n",
    "\n",
    "continuous_features = ['y_old_sold','yrs_since_reno', 'bedrooms', 'bathrooms',\n",
    "                       'condition','grade']\n",
    "\n",
    "model_clean1 = create_model(df_clean,cont=continuous_features,cat=categorical_features, model_name='model_clean3');"
   ]
  },
  {
   "cell_type": "code",
   "execution_count": 143,
   "metadata": {
    "ExecuteTime": {
     "end_time": "2021-06-03T23:43:04.260346Z",
     "start_time": "2021-06-03T23:43:01.777349Z"
    }
   },
   "outputs": [
    {
     "data": {
      "image/png": "[encoded data removed]",
      "text/plain": [
       "<Figure size 748.8x514.8 with 1 Axes>"
      ]
     },
     "metadata": {
      "needs_background": "light"
     },
     "output_type": "display_data"
    }
   ],
   "source": [
    "coeff_clean = model_clean1.params.sort_values(ascending=False)\n",
    "coeff_clean.plot(kind='barh');"
   ]
  },
  {
   "cell_type": "code",
   "execution_count": 144,
   "metadata": {
    "ExecuteTime": {
     "end_time": "2021-06-03T23:43:04.477346Z",
     "start_time": "2021-06-03T23:43:04.470347Z"
    }
   },
   "outputs": [
    {
     "data": {
      "text/plain": [
       "C(was_renovated)[T.1]     51,837.91\n",
       "C(waterfront)[T.1]       414,606.13\n",
       "C(zipcode)[T.98002]        6,498.29\n",
       "C(zipcode)[T.98003]      -28,595.15\n",
       "C(zipcode)[T.98004]      610,089.19\n",
       "C(zipcode)[T.98005]      301,351.40\n",
       "C(zipcode)[T.98006]      281,751.91\n",
       "C(zipcode)[T.98007]      207,288.13\n",
       "C(zipcode)[T.98008]      232,019.60\n",
       "C(zipcode)[T.98010]      114,796.29\n",
       "C(zipcode)[T.98011]      135,016.93\n",
       "C(zipcode)[T.98014]      165,804.03\n",
       "C(zipcode)[T.98019]      117,918.13\n",
       "C(zipcode)[T.98022]       33,105.46\n",
       "C(zipcode)[T.98023]      -36,350.80\n",
       "C(zipcode)[T.98024]      226,084.70\n",
       "C(zipcode)[T.98027]      187,040.98\n",
       "C(zipcode)[T.98028]      131,613.77\n",
       "C(zipcode)[T.98029]      186,562.59\n",
       "C(zipcode)[T.98030]       -7,704.28\n",
       "C(zipcode)[T.98031]       -5,857.58\n",
       "C(zipcode)[T.98032]      -16,427.66\n",
       "C(zipcode)[T.98033]      347,498.80\n",
       "C(zipcode)[T.98034]      169,253.53\n",
       "C(zipcode)[T.98038]       50,415.05\n",
       "C(zipcode)[T.98039]      820,544.52\n",
       "C(zipcode)[T.98040]      467,462.73\n",
       "C(zipcode)[T.98042]       14,173.52\n",
       "C(zipcode)[T.98045]      121,297.63\n",
       "C(zipcode)[T.98052]      232,589.21\n",
       "C(zipcode)[T.98053]      275,389.19\n",
       "C(zipcode)[T.98055]       30,740.13\n",
       "C(zipcode)[T.98056]      105,208.10\n",
       "C(zipcode)[T.98058]       27,439.72\n",
       "C(zipcode)[T.98059]      124,333.97\n",
       "C(zipcode)[T.98065]      169,922.87\n",
       "C(zipcode)[T.98070]      120,396.39\n",
       "C(zipcode)[T.98072]      180,635.60\n",
       "C(zipcode)[T.98074]      203,149.01\n",
       "C(zipcode)[T.98075]      243,340.42\n",
       "C(zipcode)[T.98077]      181,235.22\n",
       "C(zipcode)[T.98092]      -14,245.86\n",
       "C(zipcode)[T.98102]      335,754.75\n",
       "C(zipcode)[T.98103]      255,325.86\n",
       "C(zipcode)[T.98105]      372,378.15\n",
       "C(zipcode)[T.98106]       83,997.18\n",
       "C(zipcode)[T.98107]      238,281.61\n",
       "C(zipcode)[T.98108]       76,928.81\n",
       "C(zipcode)[T.98109]      362,536.92\n",
       "C(zipcode)[T.98112]      427,655.08\n",
       "C(zipcode)[T.98115]      273,770.31\n",
       "C(zipcode)[T.98116]      259,074.10\n",
       "C(zipcode)[T.98117]      255,775.20\n",
       "C(zipcode)[T.98118]      138,499.45\n",
       "C(zipcode)[T.98119]      364,031.23\n",
       "C(zipcode)[T.98122]      226,539.64\n",
       "C(zipcode)[T.98125]      171,515.42\n",
       "C(zipcode)[T.98126]      153,956.09\n",
       "C(zipcode)[T.98133]      115,778.64\n",
       "C(zipcode)[T.98136]      223,423.74\n",
       "C(zipcode)[T.98144]      216,009.83\n",
       "C(zipcode)[T.98146]      113,756.14\n",
       "C(zipcode)[T.98148]       27,914.76\n",
       "C(zipcode)[T.98155]      118,090.65\n",
       "C(zipcode)[T.98166]       97,944.01\n",
       "C(zipcode)[T.98168]       54,536.61\n",
       "C(zipcode)[T.98177]      218,473.33\n",
       "C(zipcode)[T.98178]       46,140.78\n",
       "C(zipcode)[T.98188]       25,915.68\n",
       "C(zipcode)[T.98198]       29,340.34\n",
       "C(zipcode)[T.98199]      329,386.76\n",
       "Intercept               -914,452.12\n",
       "bathrooms                 71,848.24\n",
       "bedrooms                  18,495.65\n",
       "condition                 21,182.29\n",
       "grade                    118,132.61\n",
       "y_old_sold                 1,672.86\n",
       "yrs_since_reno            -1,408.12\n",
       "dtype: float64"
      ]
     },
     "execution_count": 144,
     "metadata": {},
     "output_type": "execute_result"
    }
   ],
   "source": [
    "coeff_clean.sort_index()"
   ]
  },
  {
   "cell_type": "markdown",
   "metadata": {},
   "source": [
    "### Recommendations\n",
    "\n",
    "* Add bathroom\n",
    "* Use high-quality materials in renovations\n",
    "* Zip code will have large effect on price, but beyond homeowner's control\n",
    "* Also consider adding bedrooms"
   ]
  },
  {
   "cell_type": "code",
   "execution_count": null,
   "metadata": {
    "ExecuteTime": {
     "end_time": "2021-06-03T23:31:17.290589Z",
     "start_time": "2021-06-03T23:31:05.203Z"
    }
   },
   "outputs": [],
   "source": [
    "sns.barplot(data=df_clean, x='waterfront', y='price', ci=68);"
   ]
  },
  {
   "cell_type": "code",
   "execution_count": null,
   "metadata": {
    "ExecuteTime": {
     "end_time": "2021-06-03T23:31:17.292581Z",
     "start_time": "2021-06-03T23:31:05.207Z"
    }
   },
   "outputs": [],
   "source": [
    "sns.regplot(data=df_clean, x=\"bathrooms\", y='price')\n",
    "plt.xlabel('Number of Bathrooms')\n",
    "plt.ylabel('Price ($)')\n",
    "plt.suptitle(\"Increasing Price with Bathrooms\", size=20)\n",
    "\n",
    "# plt.savefig('regplot_bath.png');"
   ]
  },
  {
   "cell_type": "code",
   "execution_count": null,
   "metadata": {
    "ExecuteTime": {
     "end_time": "2021-06-03T23:31:17.294582Z",
     "start_time": "2021-06-03T23:31:05.211Z"
    }
   },
   "outputs": [],
   "source": [
    "sns.regplot(data=df_clean, x=\"bedrooms\", y='price')\n",
    "plt.xlabel('Number of Bedrooms')\n",
    "plt.ylabel('Price ($)')\n",
    "plt.suptitle(\"Increasing Price with Bedrooms\", size=20)\n",
    "\n",
    "# plt.savefig('regplot_bed.png');"
   ]
  },
  {
   "cell_type": "code",
   "execution_count": null,
   "metadata": {
    "ExecuteTime": {
     "end_time": "2021-06-03T23:31:17.297580Z",
     "start_time": "2021-06-03T23:31:05.215Z"
    }
   },
   "outputs": [],
   "source": [
    "sns.regplot(data=df_clean, x=\"grade\", y='price')\n",
    "plt.xlabel('Construction Grade')\n",
    "plt.ylabel('Price ($)')\n",
    "plt.suptitle(\"Increasing Price with Construction Grade\", size=20)\n",
    "\n",
    "# plt.savefig('regplot_grade.png');"
   ]
  },
  {
   "cell_type": "code",
   "execution_count": null,
   "metadata": {
    "ExecuteTime": {
     "end_time": "2021-06-03T23:31:17.298588Z",
     "start_time": "2021-06-03T23:31:05.218Z"
    }
   },
   "outputs": [],
   "source": [
    "fg = sns.catplot(data=df_clean, x=\"zipcode\", y='price', aspect=2.9, height=5)\n",
    "fg.ax.set_xticklabels(fg.ax.get_xticklabels(), rotation=50, ha='right')\n",
    "plt.xlabel('Zip Code')\n",
    "plt.ylabel('Price ($)')\n",
    "plt.suptitle(\"Pricing per Zip Code\", size=20)\n",
    "\n",
    "# plt.savefig('catplot_zipcode.png');"
   ]
  },
  {
   "cell_type": "markdown",
   "metadata": {},
   "source": [
    "## Model (Zipcode as Cat)"
   ]
  },
  {
   "cell_type": "code",
   "execution_count": null,
   "metadata": {
    "ExecuteTime": {
     "end_time": "2021-06-03T23:31:17.300582Z",
     "start_time": "2021-06-03T23:31:05.224Z"
    },
    "code_folding": [],
    "scrolled": false
   },
   "outputs": [],
   "source": [
    "# # Creating a model that includes Zipcode as a category\n",
    "\n",
    "# f = 'price~bedrooms+sqft_living+grade+waterfront+C(zipcode)'\n",
    "\n",
    "# model_w_c_zip = smf.ols(formula=f, data=df_clean).fit()\n",
    "\n",
    "# diagnose_model(model_w_c_zip)"
   ]
  },
  {
   "cell_type": "code",
   "execution_count": null,
   "metadata": {
    "ExecuteTime": {
     "end_time": "2021-06-03T23:31:17.302582Z",
     "start_time": "2021-06-03T23:31:05.228Z"
    }
   },
   "outputs": [],
   "source": [
    "# identify_high_pv(model_w_c_zip)"
   ]
  },
  {
   "cell_type": "code",
   "execution_count": null,
   "metadata": {
    "ExecuteTime": {
     "end_time": "2021-06-03T23:31:17.303582Z",
     "start_time": "2021-06-03T23:31:05.233Z"
    }
   },
   "outputs": [],
   "source": [
    "# plot_param_coef(model_w_c_zip, figsize=(10,20))"
   ]
  },
  {
   "cell_type": "code",
   "execution_count": null,
   "metadata": {
    "ExecuteTime": {
     "end_time": "2021-06-03T23:31:17.304586Z",
     "start_time": "2021-06-03T23:31:05.237Z"
    }
   },
   "outputs": [],
   "source": [
    "# sns.regplot(data=df_clean,x='sqft_living',y='price')"
   ]
  },
  {
   "cell_type": "markdown",
   "metadata": {},
   "source": [
    "***\n",
    ">* **R2:** This model explains 78% of the data, which is a significant increase from the first.\n",
    "\n",
    "\n",
    ">* **Coefficients:** According to this model, the \"Zipcode 98039\" feature indicates the strongest impact on determining price. Having a home in that zip code has the highest impact on price. Additionally, this indicates that zip code may be one of the stronger predictors for our modeling.\n",
    "\n",
    "\n",
    ">* **P-Values:** \n",
    "\n",
    ">* **Homoscedasticity:** Our scatter plot of the predictions has a cone-shape, indicating the error term in our model is inconsistent.\n",
    "\n",
    "\n",
    ">* **Normality of Residuals:** Our second scatter plot violates the assumption of the normality of the residuals.\n",
    "\n",
    "\n",
    ">* **Overall:** the model violates the assumptions of Homoscedasticity and the Normality of Residuals. The model is not proper and could result in improper inferences.\n",
    "***"
   ]
  },
  {
   "cell_type": "markdown",
   "metadata": {},
   "source": [
    "# **Model Testing**"
   ]
  },
  {
   "cell_type": "markdown",
   "metadata": {},
   "source": [
    "## ID Features, Target"
   ]
  },
  {
   "cell_type": "code",
   "execution_count": 145,
   "metadata": {
    "ExecuteTime": {
     "end_time": "2021-06-04T01:07:24.106016Z",
     "start_time": "2021-06-04T01:07:24.072001Z"
    },
    "scrolled": true
   },
   "outputs": [
    {
     "data": {
      "text/plain": [
       "Index(['id', 'date', 'price', 'bedrooms', 'bathrooms', 'sqft_living',\n",
       "       'sqft_lot', 'floors', 'waterfront', 'view', 'condition', 'grade',\n",
       "       'yr_built', 'zipcode', 'lat', 'long', 'sqft_living15', 'sqft_lot15',\n",
       "       'year_sold', 'y_old_sold', 'was_renovated', 'yrs_since_reno',\n",
       "       'has_bsmnt'],\n",
       "      dtype='object')"
      ]
     },
     "execution_count": 145,
     "metadata": {},
     "output_type": "execute_result"
    }
   ],
   "source": [
    "df.columns"
   ]
  },
  {
   "cell_type": "code",
   "execution_count": 146,
   "metadata": {
    "ExecuteTime": {
     "end_time": "2021-06-04T01:07:24.310050Z",
     "start_time": "2021-06-04T01:07:24.291050Z"
    }
   },
   "outputs": [
    {
     "data": {
      "text/plain": [
       "Index(['waterfront', 'view', 'sqft_living'], dtype='object')"
      ]
     },
     "execution_count": 146,
     "metadata": {},
     "output_type": "execute_result"
    }
   ],
   "source": [
    "features = ['waterfront', 'view', 'sqft_living']\n",
    "\n",
    "df_features= df[features]\n",
    "df_features.columns"
   ]
  },
  {
   "cell_type": "code",
   "execution_count": null,
   "metadata": {
    "ExecuteTime": {
     "end_time": "2021-06-03T23:31:17.307582Z",
     "start_time": "2021-06-03T23:31:05.250Z"
    }
   },
   "outputs": [],
   "source": [
    "target_variable = df['price']"
   ]
  },
  {
   "cell_type": "markdown",
   "metadata": {},
   "source": [
    "## Create Train/Test Split"
   ]
  },
  {
   "cell_type": "code",
   "execution_count": 130,
   "metadata": {
    "ExecuteTime": {
     "end_time": "2021-06-03T23:31:20.604174Z",
     "start_time": "2021-06-03T23:31:20.577156Z"
    }
   },
   "outputs": [
    {
     "ename": "NameError",
     "evalue": "name 'df_features' is not defined",
     "output_type": "error",
     "traceback": [
      "\u001b[1;31m---------------------------------------------------------------------------\u001b[0m",
      "\u001b[1;31mNameError\u001b[0m                                 Traceback (most recent call last)",
      "\u001b[1;32m<ipython-input-130-3518647261be>\u001b[0m in \u001b[0;36m<module>\u001b[1;34m\u001b[0m\n\u001b[1;32m----> 1\u001b[1;33m \u001b[0mX_train\u001b[0m\u001b[1;33m,\u001b[0m \u001b[0mX_test\u001b[0m\u001b[1;33m,\u001b[0m \u001b[0my_train\u001b[0m\u001b[1;33m,\u001b[0m \u001b[0my_test\u001b[0m \u001b[1;33m=\u001b[0m \u001b[0mtrain_test_split\u001b[0m\u001b[1;33m(\u001b[0m\u001b[0mdf_features\u001b[0m\u001b[1;33m,\u001b[0m \u001b[0mtarget_variable\u001b[0m\u001b[1;33m,\u001b[0m \u001b[0mrandom_state\u001b[0m\u001b[1;33m=\u001b[0m\u001b[1;36m5\u001b[0m\u001b[1;33m,\u001b[0m\u001b[0mtest_size\u001b[0m\u001b[1;33m=\u001b[0m\u001b[1;36m.25\u001b[0m\u001b[1;33m)\u001b[0m\u001b[1;33m\u001b[0m\u001b[1;33m\u001b[0m\u001b[0m\n\u001b[0m",
      "\u001b[1;31mNameError\u001b[0m: name 'df_features' is not defined"
     ]
    }
   ],
   "source": [
    "X_train, X_test, y_train, y_test = train_test_split(df_features, target_variable, random_state=5,test_size=.25)"
   ]
  },
  {
   "cell_type": "code",
   "execution_count": 131,
   "metadata": {
    "ExecuteTime": {
     "end_time": "2021-06-03T23:31:20.981196Z",
     "start_time": "2021-06-03T23:31:20.951197Z"
    }
   },
   "outputs": [
    {
     "ename": "NameError",
     "evalue": "name 'X_train' is not defined",
     "output_type": "error",
     "traceback": [
      "\u001b[1;31m---------------------------------------------------------------------------\u001b[0m",
      "\u001b[1;31mNameError\u001b[0m                                 Traceback (most recent call last)",
      "\u001b[1;32m<ipython-input-131-5e97ef9b8359>\u001b[0m in \u001b[0;36m<module>\u001b[1;34m\u001b[0m\n\u001b[0;32m      1\u001b[0m \u001b[1;31m## Verify the shape of the results\u001b[0m\u001b[1;33m\u001b[0m\u001b[1;33m\u001b[0m\u001b[1;33m\u001b[0m\u001b[0m\n\u001b[1;32m----> 2\u001b[1;33m \u001b[0mprint\u001b[0m\u001b[1;33m(\u001b[0m\u001b[1;34m\"Training set - Features: \"\u001b[0m\u001b[1;33m,\u001b[0m \u001b[0mX_train\u001b[0m\u001b[1;33m.\u001b[0m\u001b[0mshape\u001b[0m\u001b[1;33m,\u001b[0m \u001b[1;34m\"Target: \"\u001b[0m\u001b[1;33m,\u001b[0m \u001b[0my_train\u001b[0m\u001b[1;33m.\u001b[0m\u001b[0mshape\u001b[0m\u001b[1;33m)\u001b[0m\u001b[1;33m\u001b[0m\u001b[1;33m\u001b[0m\u001b[0m\n\u001b[0m\u001b[0;32m      3\u001b[0m \u001b[0mprint\u001b[0m\u001b[1;33m(\u001b[0m\u001b[1;34m\"Testing set - Features: \"\u001b[0m\u001b[1;33m,\u001b[0m \u001b[0mX_test\u001b[0m\u001b[1;33m.\u001b[0m\u001b[0mshape\u001b[0m\u001b[1;33m,\u001b[0m \u001b[1;34m\"Target: \"\u001b[0m\u001b[1;33m,\u001b[0m\u001b[0my_test\u001b[0m\u001b[1;33m.\u001b[0m\u001b[0mshape\u001b[0m\u001b[1;33m)\u001b[0m\u001b[1;33m\u001b[0m\u001b[1;33m\u001b[0m\u001b[0m\n",
      "\u001b[1;31mNameError\u001b[0m: name 'X_train' is not defined"
     ]
    }
   ],
   "source": [
    "## Verify the shape of the results\n",
    "print(\"Training set - Features: \", X_train.shape, \"Target: \", y_train.shape)\n",
    "print(\"Testing set - Features: \", X_test.shape, \"Target: \",y_test.shape)"
   ]
  },
  {
   "cell_type": "code",
   "execution_count": null,
   "metadata": {
    "ExecuteTime": {
     "end_time": "2021-06-03T22:16:51.858758Z",
     "start_time": "2021-06-03T22:16:37.981Z"
    }
   },
   "outputs": [],
   "source": [
    "# fit a model\n",
    "\n",
    "\n",
    "#instantiate a linear regression object\n",
    "lm = linear_model.LinearRegression()\n",
    "\n",
    "#fit the linear regression to the training data\n",
    "lm.fit(X_train, y_train)\n",
    "\n",
    "\n",
    "display(lm.intercept_)\n",
    "display(lm.coef_)"
   ]
  },
  {
   "cell_type": "markdown",
   "metadata": {},
   "source": [
    "## Evaluate Performance"
   ]
  },
  {
   "cell_type": "code",
   "execution_count": null,
   "metadata": {
    "ExecuteTime": {
     "end_time": "2021-06-03T22:16:51.860759Z",
     "start_time": "2021-06-03T22:16:37.986Z"
    }
   },
   "outputs": [],
   "source": [
    "#predict on the training data\n",
    "y_train_pred = lm.predict(X_train)"
   ]
  },
  {
   "cell_type": "code",
   "execution_count": null,
   "metadata": {
    "ExecuteTime": {
     "end_time": "2021-06-03T22:16:51.861760Z",
     "start_time": "2021-06-03T22:16:37.992Z"
    }
   },
   "outputs": [],
   "source": [
    "y_train_pred"
   ]
  },
  {
   "cell_type": "code",
   "execution_count": null,
   "metadata": {
    "ExecuteTime": {
     "end_time": "2021-06-03T22:16:51.863757Z",
     "start_time": "2021-06-03T22:16:37.997Z"
    }
   },
   "outputs": [],
   "source": [
    "train_mae = metrics.mean_absolute_error(y_train, y_train_pred)\n",
    "train_mse = metrics.mean_squared_error(y_train, y_train_pred)\n",
    "train_rmse = np.sqrt(metrics.mean_squared_error(y_train, y_train_pred))\n",
    "\n",
    "\n",
    "print('MAE:', train_mae )\n",
    "print('MSE:',  train_mse)\n",
    "print('RMSE:' , train_rmse)"
   ]
  },
  {
   "cell_type": "markdown",
   "metadata": {},
   "source": [
    "## Predicting Test Set"
   ]
  },
  {
   "cell_type": "code",
   "execution_count": null,
   "metadata": {
    "ExecuteTime": {
     "end_time": "2021-06-03T22:16:51.865759Z",
     "start_time": "2021-06-03T22:16:38.005Z"
    }
   },
   "outputs": [],
   "source": [
    "## Determine predictions for test set\n",
    "y_pred = lm.predict(X_test)"
   ]
  },
  {
   "cell_type": "code",
   "execution_count": null,
   "metadata": {
    "ExecuteTime": {
     "end_time": "2021-06-03T22:16:51.866757Z",
     "start_time": "2021-06-03T22:16:38.011Z"
    }
   },
   "outputs": [],
   "source": [
    "y_pred[:10]"
   ]
  },
  {
   "cell_type": "code",
   "execution_count": null,
   "metadata": {
    "ExecuteTime": {
     "end_time": "2021-06-03T22:16:51.868757Z",
     "start_time": "2021-06-03T22:16:38.015Z"
    }
   },
   "outputs": [],
   "source": [
    "## Print r-squared metric\n",
    "\n",
    "print (\"Score:\", lm.score(X_test, y_test))"
   ]
  },
  {
   "cell_type": "code",
   "execution_count": null,
   "metadata": {
    "ExecuteTime": {
     "end_time": "2021-06-03T22:16:51.870757Z",
     "start_time": "2021-06-03T22:16:38.020Z"
    }
   },
   "outputs": [],
   "source": [
    "test_mae = metrics.mean_absolute_error(y_test, y_pred)\n",
    "test_rmse = np.sqrt(metrics.mean_squared_error(y_test, y_pred))\n",
    "\n",
    "\n",
    "print('MAE:' + str(metrics.mean_absolute_error(y_test, y_pred)))\n",
    "print('MSE:' + str(metrics.mean_squared_error(y_test, y_pred)))\n",
    "print('RMSE:' + str(np.sqrt(metrics.mean_squared_error(y_test, y_pred))))"
   ]
  },
  {
   "cell_type": "markdown",
   "metadata": {},
   "source": [
    "## Comparing Performance: Training vs. Test"
   ]
  },
  {
   "cell_type": "code",
   "execution_count": null,
   "metadata": {
    "ExecuteTime": {
     "end_time": "2021-06-03T22:16:51.872773Z",
     "start_time": "2021-06-03T22:16:38.024Z"
    }
   },
   "outputs": [],
   "source": [
    "diff = train_rmse - test_rmse\n",
    "\n",
    "print('Training Model: $', int(train_rmse))\n",
    "print('Testing Model: $', int(test_rmse))\n",
    "print(f'The difference between the training data and test data is ${round(diff, 2)}.')"
   ]
  },
  {
   "cell_type": "markdown",
   "metadata": {},
   "source": [
    "## Diagnose Model Performance"
   ]
  },
  {
   "cell_type": "code",
   "execution_count": null,
   "metadata": {
    "ExecuteTime": {
     "end_time": "2021-06-03T22:16:51.874762Z",
     "start_time": "2021-06-03T22:16:38.029Z"
    }
   },
   "outputs": [],
   "source": [
    "#create a data array of our errors/residuals\n",
    "residuals = (y_test - y_pred)\n",
    "residuals"
   ]
  },
  {
   "cell_type": "code",
   "execution_count": null,
   "metadata": {
    "ExecuteTime": {
     "end_time": "2021-06-03T22:16:51.876761Z",
     "start_time": "2021-06-03T22:16:38.033Z"
    },
    "scrolled": false
   },
   "outputs": [],
   "source": [
    "fig, axes = plt.subplots(ncols=2, figsize=(10,5))\n",
    "\n",
    "axes[0].scatter(y_pred,residuals)\n",
    "axes[0].axhline()\n",
    "axes[0].set_xlabel('Model Predictions')\n",
    "axes[0].set_ylabel('Model Residuals')\n",
    "axes[0].set_title('Testing for Homoscedasticity')\n",
    "\n",
    "sms.graphics.qqplot(data=residuals, fit=True, line = \"45\", ax=axes[1])\n",
    "\n",
    "plt.tight_layout()"
   ]
  },
  {
   "cell_type": "markdown",
   "metadata": {},
   "source": [
    "## Recursive Feature Elimination"
   ]
  },
  {
   "cell_type": "code",
   "execution_count": null,
   "metadata": {
    "ExecuteTime": {
     "end_time": "2021-06-03T22:16:51.877759Z",
     "start_time": "2021-06-03T22:16:38.039Z"
    }
   },
   "outputs": [],
   "source": [
    "lr_rfe = LinearRegression()\n",
    "select = RFE(lr_rfe, n_features_to_select=3)"
   ]
  },
  {
   "cell_type": "code",
   "execution_count": null,
   "metadata": {
    "ExecuteTime": {
     "end_time": "2021-06-03T22:16:51.878760Z",
     "start_time": "2021-06-03T22:16:38.042Z"
    }
   },
   "outputs": [],
   "source": [
    "ss = StandardScaler()\n",
    "ss.fit(X_train)\n",
    "\n",
    "price_scaled = ss.transform(X_train)"
   ]
  },
  {
   "cell_type": "code",
   "execution_count": null,
   "metadata": {
    "ExecuteTime": {
     "end_time": "2021-06-03T22:16:51.880758Z",
     "start_time": "2021-06-03T22:16:38.047Z"
    }
   },
   "outputs": [],
   "source": [
    "select.fit(X=price_scaled, y=df['price'])"
   ]
  },
  {
   "cell_type": "code",
   "execution_count": null,
   "metadata": {
    "ExecuteTime": {
     "end_time": "2021-06-03T22:16:51.881756Z",
     "start_time": "2021-06-03T22:16:38.051Z"
    }
   },
   "outputs": [],
   "source": [
    "select.support_"
   ]
  },
  {
   "cell_type": "code",
   "execution_count": null,
   "metadata": {
    "ExecuteTime": {
     "end_time": "2021-06-03T22:16:51.882756Z",
     "start_time": "2021-06-03T22:16:38.055Z"
    }
   },
   "outputs": [],
   "source": [
    "df.head()"
   ]
  },
  {
   "cell_type": "code",
   "execution_count": null,
   "metadata": {
    "ExecuteTime": {
     "end_time": "2021-06-03T22:16:51.884756Z",
     "start_time": "2021-06-03T22:16:38.059Z"
    }
   },
   "outputs": [],
   "source": [
    "select.ranking_"
   ]
  },
  {
   "cell_type": "markdown",
   "metadata": {},
   "source": [
    "### Alternate code for RFE"
   ]
  },
  {
   "cell_type": "markdown",
   "metadata": {},
   "source": [
    "#### ✨ Cite Sources!!!"
   ]
  },
  {
   "cell_type": "markdown",
   "metadata": {},
   "source": [
    "* May want to compare vs. Sean's code - which is most effective?"
   ]
  },
  {
   "cell_type": "code",
   "execution_count": null,
   "metadata": {
    "ExecuteTime": {
     "end_time": "2021-06-03T22:16:51.886759Z",
     "start_time": "2021-06-03T22:16:38.065Z"
    }
   },
   "outputs": [],
   "source": [
    "# from sklearn.feature_selection import RFE\n",
    "# from sklearn.linear_model import LogisticRegression\n",
    "# rfe_selector = RFE(estimator=LogisticRegression(), n_features_to_select=3, step=10, verbose=5)\n",
    "# rfe_selector.fit(price_scaled, y=df['price'])\n",
    "# rfe_support = rfe_selector.get_support()\n",
    "# rfe_feature = X.loc[:,rfe_support].columns.tolist()\n",
    "# print(str(len(rfe_feature)), 'selected features')"
   ]
  },
  {
   "cell_type": "code",
   "execution_count": null,
   "metadata": {
    "ExecuteTime": {
     "end_time": "2021-06-03T22:16:51.887757Z",
     "start_time": "2021-06-03T22:16:38.068Z"
    }
   },
   "outputs": [],
   "source": [
    "from sklearn.svm import SVC\n",
    "from sklearn.model_selection import StratifiedKFold\n",
    "from sklearn.feature_selection import RFECV\n",
    "from sklearn.datasets import make_classification\n",
    "\n",
    "# Build a classification task using 3 informative features\n",
    "X, y = make_classification(n_samples=1000, n_features=25, n_informative=3,\n",
    "                           n_redundant=2, n_repeated=0, n_classes=8,\n",
    "                           n_clusters_per_class=1, random_state=0)\n",
    "\n",
    "# Create the RFE object and compute a cross-validated score.\n",
    "svc = SVC(kernel=\"linear\")\n",
    "# The \"accuracy\" scoring is proportional to the number of correct\n",
    "# classifications\n",
    "\n",
    "min_features_to_select = 1  # Minimum number of features to consider\n",
    "rfecv = RFECV(estimator=svc, step=1, cv=StratifiedKFold(2),\n",
    "              scoring='accuracy',\n",
    "              min_features_to_select=min_features_to_select)\n",
    "rfecv.fit(X, y)\n",
    "\n",
    "print(\"Optimal number of features : %d\" % rfecv.n_features_)\n",
    "\n",
    "# Plot number of features VS. cross-validation scores\n",
    "plt.figure()\n",
    "plt.xlabel(\"Number of features selected\")\n",
    "plt.ylabel(\"Cross validation score (nb of correct classifications)\")\n",
    "plt.plot(range(min_features_to_select,\n",
    "               len(rfecv.grid_scores_) + min_features_to_select),\n",
    "         rfecv.grid_scores_)\n",
    "plt.show()"
   ]
  },
  {
   "cell_type": "code",
   "execution_count": null,
   "metadata": {
    "ExecuteTime": {
     "end_time": "2021-06-03T22:16:51.889757Z",
     "start_time": "2021-06-03T22:16:38.072Z"
    }
   },
   "outputs": [],
   "source": [
    "rfecv.ranking_"
   ]
  },
  {
   "cell_type": "code",
   "execution_count": null,
   "metadata": {
    "ExecuteTime": {
     "end_time": "2021-06-03T22:16:51.890758Z",
     "start_time": "2021-06-03T22:16:38.075Z"
    }
   },
   "outputs": [],
   "source": [
    "# np.absolute(rfecv.estimator_.coef_)"
   ]
  },
  {
   "cell_type": "code",
   "execution_count": null,
   "metadata": {
    "ExecuteTime": {
     "end_time": "2021-06-03T22:16:51.892756Z",
     "start_time": "2021-06-03T22:16:38.080Z"
    }
   },
   "outputs": [],
   "source": [
    "df.head()"
   ]
  },
  {
   "cell_type": "code",
   "execution_count": null,
   "metadata": {},
   "outputs": [],
   "source": []
  }
 ],
 "metadata": {
  "kernelspec": {
   "display_name": "Python (learn-env-bmc)",
   "language": "python",
   "name": "learn-env-bmc"
  },
  "language_info": {
   "codemirror_mode": {
    "name": "ipython",
    "version": 3
   },
   "file_extension": ".py",
   "mimetype": "text/x-python",
   "name": "python",
   "nbconvert_exporter": "python",
   "pygments_lexer": "ipython3",
   "version": "3.8.5"
  },
  "toc": {
   "base_numbering": 1,
   "nav_menu": {},
   "number_sections": true,
   "sideBar": true,
   "skip_h1_title": false,
   "title_cell": "Table of Contents",
   "title_sidebar": "Contents",
   "toc_cell": false,
   "toc_position": {
    "height": "757px",
    "left": "35px",
    "top": "110px",
    "width": "278.938px"
   },
   "toc_section_display": true,
   "toc_window_display": true
  }
 },
 "nbformat": 4,
 "nbformat_minor": 4
}
